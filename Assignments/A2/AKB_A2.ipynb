{
  "cells": [
    {
      "cell_type": "code",
      "execution_count": 3,
      "id": "0a79dee2-28c7-4ad7-ba26-1415316c38b1",
      "metadata": {
        "trusted": true
      },
      "outputs": [],
      "source": [
        "import sqlite3 as sql\n",
        "import pandas as pd\n",
        "\n",
        "conn = sql.connect(\"database.db\")\n",
        "cursor = conn.cursor()"
      ]
    },
    {
      "cell_type": "code",
      "execution_count": 4,
      "id": "e9ddcd44-c132-43de-a2b2-5c800038abf0",
      "metadata": {
        "trusted": true
      },
      "outputs": [],
      "source": [
        "cursor.execute(\"DROP TABLE IF EXISTS employee;\")\n",
        "\n",
        "cursor.execute(\"\"\"\n",
        "CREATE TABLE employee (\n",
        "    employee_id INTEGER,\n",
        "    employee_name TEXT\n",
        "    );\"\"\")\n",
        "\n",
        "conn.commit()"
      ]
    },
    {
      "cell_type": "code",
      "execution_count": 5,
      "id": "9bbd85f1-8f3e-4752-8219-d308e0eb2bb3",
      "metadata": {
        "trusted": true
      },
      "outputs": [],
      "source": [
        "cursor.execute(\"DROP TABLE IF EXISTS department;\")\n",
        "\n",
        "cursor.execute(\"\"\"\n",
        "CREATE TABLE department (\n",
        "    employee_name TEXT,\n",
        "    department TEXT\n",
        "    );\"\"\")\n",
        "\n",
        "conn.commit()"
      ]
    },
    {
      "cell_type": "code",
      "execution_count": 6,
      "id": "60d4b0b0-6712-4eef-9f3c-7c82609c2a65",
      "metadata": {
        "trusted": true
      },
      "outputs": [],
      "source": [
        "cursor.execute(\"DROP TABLE IF EXISTS female;\")\n",
        "\n",
        "cursor.execute(\"\"\"\n",
        "CREATE TABLE female (\n",
        "    name TEXT\n",
        "    );\"\"\")\n",
        "\n",
        "conn.commit()"
      ]
    },
    {
      "cell_type": "code",
      "execution_count": 7,
      "id": "7e376f1e-2c06-4521-87e0-61dd65266b36",
      "metadata": {
        "trusted": true
      },
      "outputs": [],
      "source": [
        "cursor.execute(\"DROP TABLE IF EXISTS male;\")\n",
        "\n",
        "cursor.execute(\"\"\"\n",
        "CREATE TABLE male (\n",
        "    name TEXT\n",
        "    );\"\"\")\n",
        "\n",
        "conn.commit()"
      ]
    },
    {
      "cell_type": "code",
      "execution_count": 8,
      "id": "3dc7bb82-64d5-447f-a340-e6e536b50006",
      "metadata": {
        "trusted": true
      },
      "outputs": [],
      "source": [
        "cursor.execute(\"DROP TABLE IF EXISTS project;\")\n",
        "\n",
        "cursor.execute(\"\"\"\n",
        "CREATE TABLE project (\n",
        "    project TEXT\n",
        "    );\"\"\")\n",
        "\n",
        "conn.commit()"
      ]
    },
    {
      "cell_type": "code",
      "execution_count": 9,
      "id": "5b6754ee-40bf-411c-b194-47ae49ebc68c",
      "metadata": {
        "trusted": true
      },
      "outputs": [],
      "source": [
        "cursor.execute(\"DROP TABLE IF EXISTS salary;\")\n",
        "\n",
        "cursor.execute(\"\"\"\n",
        "CREATE TABLE salary (\n",
        "    employee_name TEXT,\n",
        "    salary INTEGER\n",
        "    );\"\"\")\n",
        "\n",
        "conn.commit()"
      ]
    },
    {
      "cell_type": "code",
      "execution_count": 10,
      "id": "087dd1bf-f97c-402d-a701-d284d0f7aa46",
      "metadata": {
        "trusted": true
      },
      "outputs": [],
      "source": [
        "cursor.execute(\"DROP TABLE IF EXISTS supervise;\")\n",
        "\n",
        "cursor.execute(\"\"\"\n",
        "CREATE TABLE supervise (\n",
        "    supervisor TEXT,\n",
        "    subordinate TEXT\n",
        "    );\"\"\")\n",
        "\n",
        "conn.commit()"
      ]
    },
    {
      "cell_type": "code",
      "execution_count": 11,
      "id": "485398c2-171b-4220-8102-0d9c86a75c16",
      "metadata": {
        "trusted": true
      },
      "outputs": [],
      "source": [
        "cursor.execute(\"DROP TABLE IF EXISTS workson;\")\n",
        "\n",
        "cursor.execute(\"\"\"\n",
        "CREATE TABLE workson (\n",
        "    name TEXT,\n",
        "    project TEXT,\n",
        "    effort INTEGER\n",
        "    );\"\"\")\n",
        "\n",
        "conn.commit()"
      ]
    },
    {
      "cell_type": "code",
      "execution_count": 12,
      "id": "374f6507-74b2-4a63-ba34-e323843e5657",
      "metadata": {
        "trusted": true
      },
      "outputs": [
        {
          "data": {
            "text/plain": [
              "<sqlite3.Cursor at 0x2100f4792c0>"
            ]
          },
          "execution_count": 12,
          "metadata": {},
          "output_type": "execute_result"
        }
      ],
      "source": [
        "cursor.execute(\"INSERT INTO employee VALUES (1,'john');\")\n",
        "cursor.execute(\"INSERT INTO employee VALUES (2, 'franklin');\")\n",
        "cursor.execute(\"INSERT INTO employee VALUES (3, 'alicia');\")\n",
        "cursor.execute(\"INSERT INTO employee VALUES (4, 'jennifer');\")\n",
        "cursor.execute(\"INSERT INTO employee VALUES (5, 'ramesh');\")\n",
        "cursor.execute(\"INSERT INTO employee VALUES (6, 'joyce');\")\n",
        "cursor.execute(\"INSERT INTO employee VALUES (7, 'ahmad');\")\n",
        "cursor.execute(\"INSERT INTO employee VALUES (8, 'james');\")"
      ]
    },
    {
      "cell_type": "code",
      "execution_count": 13,
      "id": "3ddf30df-c13e-4120-9588-1fda3df497d5",
      "metadata": {
        "trusted": true
      },
      "outputs": [
        {
          "data": {
            "text/plain": [
              "<sqlite3.Cursor at 0x2100f4792c0>"
            ]
          },
          "execution_count": 13,
          "metadata": {},
          "output_type": "execute_result"
        }
      ],
      "source": [
        "cursor.execute(\"INSERT INTO department VALUES ('john', 'research');\")\n",
        "cursor.execute(\"INSERT INTO department VALUES ('franklin', 'research');\")\n",
        "cursor.execute(\"INSERT INTO department VALUES ('alicia', 'administration');\")\n",
        "cursor.execute(\"INSERT INTO department VALUES ('jennifer', 'administration');\")\n",
        "cursor.execute(\"INSERT INTO department VALUES ('ramesh', 'research');\")\n",
        "cursor.execute(\"INSERT INTO department VALUES ('joyce', 'research');\")\n",
        "cursor.execute(\"INSERT INTO department VALUES ('ahmad', 'administration');\")\n",
        "cursor.execute(\"INSERT INTO department VALUES ('james', 'headquarters');\")"
      ]
    },
    {
      "cell_type": "code",
      "execution_count": 14,
      "id": "c6ab30a5-9e58-42ef-8164-ee6550061b32",
      "metadata": {
        "trusted": true
      },
      "outputs": [
        {
          "data": {
            "text/plain": [
              "<sqlite3.Cursor at 0x2100f4792c0>"
            ]
          },
          "execution_count": 14,
          "metadata": {},
          "output_type": "execute_result"
        }
      ],
      "source": [
        "cursor.execute(\"INSERT INTO female VALUES ('alicia');\")\n",
        "cursor.execute(\"INSERT INTO female VALUES ('jennifer');\")\n",
        "cursor.execute(\"INSERT INTO female VALUES ('joyce');\")"
      ]
    },
    {
      "cell_type": "code",
      "execution_count": 15,
      "id": "09c49a69-410d-4a5a-82d2-3f23b84b685d",
      "metadata": {
        "trusted": true
      },
      "outputs": [
        {
          "data": {
            "text/plain": [
              "<sqlite3.Cursor at 0x2100f4792c0>"
            ]
          },
          "execution_count": 15,
          "metadata": {},
          "output_type": "execute_result"
        }
      ],
      "source": [
        "cursor.execute(\"INSERT INTO male VALUES ('john');\")\n",
        "cursor.execute(\"INSERT INTO male VALUES ('franklin');\")\n",
        "cursor.execute(\"INSERT INTO male VALUES ('ramesh');\")\n",
        "cursor.execute(\"INSERT INTO male VALUES ('ahmad');\")\n",
        "cursor.execute(\"INSERT INTO male VALUES ('james');\")"
      ]
    },
    {
      "cell_type": "code",
      "execution_count": 16,
      "id": "8e55db31-fc3b-4398-ad0a-24acdf627f7e",
      "metadata": {
        "trusted": true
      },
      "outputs": [
        {
          "data": {
            "text/plain": [
              "<sqlite3.Cursor at 0x2100f4792c0>"
            ]
          },
          "execution_count": 16,
          "metadata": {},
          "output_type": "execute_result"
        }
      ],
      "source": [
        "cursor.execute(\"INSERT INTO project VALUES ('productx');\")\n",
        "cursor.execute(\"INSERT INTO project VALUES ('producty');\")\n",
        "cursor.execute(\"INSERT INTO project VALUES ('productz');\")\n",
        "cursor.execute(\"INSERT INTO project VALUES ('computerization');\")\n",
        "cursor.execute(\"INSERT INTO project VALUES ('reorganization');\")\n",
        "cursor.execute(\"INSERT INTO project VALUES ('newbenefits');\")"
      ]
    },
    {
      "cell_type": "code",
      "execution_count": 17,
      "id": "83d9f47b-49da-4cc9-af56-7945df5f5862",
      "metadata": {
        "trusted": true
      },
      "outputs": [
        {
          "data": {
            "text/plain": [
              "<sqlite3.Cursor at 0x2100f4792c0>"
            ]
          },
          "execution_count": 17,
          "metadata": {},
          "output_type": "execute_result"
        }
      ],
      "source": [
        "cursor.execute(\"INSERT INTO salary VALUES ('john', 30000);\")\n",
        "cursor.execute(\"INSERT INTO salary VALUES ('franklin', 40001);\")\n",
        "cursor.execute(\"INSERT INTO salary VALUES ('alicia', 25000);\")\n",
        "cursor.execute(\"INSERT INTO salary VALUES ('jennifer', 43000);\")\n",
        "cursor.execute(\"INSERT INTO salary VALUES ('ramesh', 38000);\")\n",
        "cursor.execute(\"INSERT INTO salary VALUES ('joyce', 25000);\")\n",
        "cursor.execute(\"INSERT INTO salary VALUES ('ahmad', 25000);\")\n",
        "cursor.execute(\"INSERT INTO salary VALUES ('james', 55000);\")"
      ]
    },
    {
      "cell_type": "code",
      "execution_count": 18,
      "id": "a22f12ee-da8d-45de-9d47-a3b6dd8f0e28",
      "metadata": {
        "trusted": true
      },
      "outputs": [
        {
          "data": {
            "text/plain": [
              "<sqlite3.Cursor at 0x2100f4792c0>"
            ]
          },
          "execution_count": 18,
          "metadata": {},
          "output_type": "execute_result"
        }
      ],
      "source": [
        "cursor.execute(\"INSERT INTO supervise VALUES ('franklin', 'john');\")\n",
        "cursor.execute(\"INSERT INTO supervise VALUES ('franklin', 'ramesh');\")\n",
        "cursor.execute(\"INSERT INTO supervise VALUES ('franklin', 'joyce');\")\n",
        "cursor.execute(\"INSERT INTO supervise VALUES ('jennifer', 'alicia');\")\n",
        "cursor.execute(\"INSERT INTO supervise VALUES ('jennifer', 'ahmad');\")\n",
        "cursor.execute(\"INSERT INTO supervise VALUES ('james', 'franklin');\")\n",
        "cursor.execute(\"INSERT INTO supervise VALUES ('james', 'jennifer');\")"
      ]
    },
    {
      "cell_type": "code",
      "execution_count": 19,
      "id": "0c30c1b4-118f-47a2-b0ef-af8e19557e36",
      "metadata": {
        "trusted": true
      },
      "outputs": [
        {
          "data": {
            "text/plain": [
              "<sqlite3.Cursor at 0x2100f4792c0>"
            ]
          },
          "execution_count": 19,
          "metadata": {},
          "output_type": "execute_result"
        }
      ],
      "source": [
        "cursor.execute(\"INSERT INTO workson VALUES ('john', 'productx', 32);\")\n",
        "cursor.execute(\"INSERT INTO workson VALUES ('john', 'producty', 8);\")\n",
        "cursor.execute(\"INSERT INTO workson VALUES ('ramesh', 'productz', 40);\")\n",
        "cursor.execute(\"INSERT INTO workson VALUES ('joyce', 'productx', 20);\")\n",
        "cursor.execute(\"INSERT INTO workson VALUES ('joyce', 'producty', 20);\")\n",
        "cursor.execute(\"INSERT INTO workson VALUES ('franklin', 'producty', 10);\")\n",
        "cursor.execute(\"INSERT INTO workson VALUES ('franklin', 'productz', 10);\")\n",
        "cursor.execute(\"INSERT INTO workson VALUES ('franklin', 'computerization', 10);\")\n",
        "cursor.execute(\"INSERT INTO workson VALUES ('franklin', 'reorganization', 10);\")\n",
        "cursor.execute(\"INSERT INTO workson VALUES ('alicia', 'newbenefits', 30);\")\n",
        "cursor.execute(\"INSERT INTO workson VALUES ('alicia', 'computerization', 10);\")\n",
        "cursor.execute(\"INSERT INTO workson VALUES ('ahmad', 'computerization', 35);\")\n",
        "cursor.execute(\"INSERT INTO workson VALUES ('ahmad', 'newbenefits', 5);\")\n",
        "cursor.execute(\"INSERT INTO workson VALUES ('jennifer', 'newbenefits', 20);\")\n",
        "cursor.execute(\"INSERT INTO workson VALUES ('jennifer', 'reorganization', 15);\")\n",
        "cursor.execute(\"INSERT INTO workson VALUES ('james', 'reorganization', 10);\")"
      ]
    },
    {
      "cell_type": "code",
      "execution_count": 20,
      "id": "bf04ac55-84d4-418f-8b46-fbb9da3fd8d1",
      "metadata": {
        "trusted": true
      },
      "outputs": [
        {
          "data": {
            "text/html": [
              "<div>\n",
              "<style scoped>\n",
              "    .dataframe tbody tr th:only-of-type {\n",
              "        vertical-align: middle;\n",
              "    }\n",
              "\n",
              "    .dataframe tbody tr th {\n",
              "        vertical-align: top;\n",
              "    }\n",
              "\n",
              "    .dataframe thead th {\n",
              "        text-align: right;\n",
              "    }\n",
              "</style>\n",
              "<table border=\"1\" class=\"dataframe\">\n",
              "  <thead>\n",
              "    <tr style=\"text-align: right;\">\n",
              "      <th></th>\n",
              "      <th>employee_name</th>\n",
              "    </tr>\n",
              "    <tr>\n",
              "      <th>employee_id</th>\n",
              "      <th></th>\n",
              "    </tr>\n",
              "  </thead>\n",
              "  <tbody>\n",
              "    <tr>\n",
              "      <th>1</th>\n",
              "      <td>john</td>\n",
              "    </tr>\n",
              "    <tr>\n",
              "      <th>2</th>\n",
              "      <td>franklin</td>\n",
              "    </tr>\n",
              "    <tr>\n",
              "      <th>3</th>\n",
              "      <td>alicia</td>\n",
              "    </tr>\n",
              "    <tr>\n",
              "      <th>4</th>\n",
              "      <td>jennifer</td>\n",
              "    </tr>\n",
              "    <tr>\n",
              "      <th>5</th>\n",
              "      <td>ramesh</td>\n",
              "    </tr>\n",
              "    <tr>\n",
              "      <th>6</th>\n",
              "      <td>joyce</td>\n",
              "    </tr>\n",
              "    <tr>\n",
              "      <th>7</th>\n",
              "      <td>ahmad</td>\n",
              "    </tr>\n",
              "    <tr>\n",
              "      <th>8</th>\n",
              "      <td>james</td>\n",
              "    </tr>\n",
              "  </tbody>\n",
              "</table>\n",
              "</div>"
            ],
            "text/plain": [
              "            employee_name\n",
              "employee_id              \n",
              "1                    john\n",
              "2                franklin\n",
              "3                  alicia\n",
              "4                jennifer\n",
              "5                  ramesh\n",
              "6                   joyce\n",
              "7                   ahmad\n",
              "8                   james"
            ]
          },
          "execution_count": 20,
          "metadata": {},
          "output_type": "execute_result"
        }
      ],
      "source": [
        "pd.read_sql_query(\"SELECT * FROM employee;\", conn, index_col='employee_id')"
      ]
    },
    {
      "cell_type": "code",
      "execution_count": 21,
      "id": "2fb48f39-9450-4a63-a72d-b8bec8474752",
      "metadata": {
        "trusted": true
      },
      "outputs": [
        {
          "data": {
            "text/html": [
              "<div>\n",
              "<style scoped>\n",
              "    .dataframe tbody tr th:only-of-type {\n",
              "        vertical-align: middle;\n",
              "    }\n",
              "\n",
              "    .dataframe tbody tr th {\n",
              "        vertical-align: top;\n",
              "    }\n",
              "\n",
              "    .dataframe thead th {\n",
              "        text-align: right;\n",
              "    }\n",
              "</style>\n",
              "<table border=\"1\" class=\"dataframe\">\n",
              "  <thead>\n",
              "    <tr style=\"text-align: right;\">\n",
              "      <th></th>\n",
              "      <th>department</th>\n",
              "    </tr>\n",
              "    <tr>\n",
              "      <th>employee_name</th>\n",
              "      <th></th>\n",
              "    </tr>\n",
              "  </thead>\n",
              "  <tbody>\n",
              "    <tr>\n",
              "      <th>john</th>\n",
              "      <td>research</td>\n",
              "    </tr>\n",
              "    <tr>\n",
              "      <th>franklin</th>\n",
              "      <td>research</td>\n",
              "    </tr>\n",
              "    <tr>\n",
              "      <th>alicia</th>\n",
              "      <td>administration</td>\n",
              "    </tr>\n",
              "    <tr>\n",
              "      <th>jennifer</th>\n",
              "      <td>administration</td>\n",
              "    </tr>\n",
              "    <tr>\n",
              "      <th>ramesh</th>\n",
              "      <td>research</td>\n",
              "    </tr>\n",
              "    <tr>\n",
              "      <th>joyce</th>\n",
              "      <td>research</td>\n",
              "    </tr>\n",
              "    <tr>\n",
              "      <th>ahmad</th>\n",
              "      <td>administration</td>\n",
              "    </tr>\n",
              "    <tr>\n",
              "      <th>james</th>\n",
              "      <td>headquarters</td>\n",
              "    </tr>\n",
              "  </tbody>\n",
              "</table>\n",
              "</div>"
            ],
            "text/plain": [
              "                   department\n",
              "employee_name                \n",
              "john                 research\n",
              "franklin             research\n",
              "alicia         administration\n",
              "jennifer       administration\n",
              "ramesh               research\n",
              "joyce                research\n",
              "ahmad          administration\n",
              "james            headquarters"
            ]
          },
          "execution_count": 21,
          "metadata": {},
          "output_type": "execute_result"
        }
      ],
      "source": [
        "pd.read_sql_query(\"SELECT * FROM department;\", conn, index_col='employee_name')"
      ]
    },
    {
      "cell_type": "code",
      "execution_count": 22,
      "id": "ee1ce341-2672-4b6a-95f2-59bf96630a66",
      "metadata": {
        "trusted": true
      },
      "outputs": [
        {
          "data": {
            "text/html": [
              "<div>\n",
              "<style scoped>\n",
              "    .dataframe tbody tr th:only-of-type {\n",
              "        vertical-align: middle;\n",
              "    }\n",
              "\n",
              "    .dataframe tbody tr th {\n",
              "        vertical-align: top;\n",
              "    }\n",
              "\n",
              "    .dataframe thead th {\n",
              "        text-align: right;\n",
              "    }\n",
              "</style>\n",
              "<table border=\"1\" class=\"dataframe\">\n",
              "  <thead>\n",
              "    <tr style=\"text-align: right;\">\n",
              "      <th></th>\n",
              "      <th>department</th>\n",
              "    </tr>\n",
              "    <tr>\n",
              "      <th>employee_name</th>\n",
              "      <th></th>\n",
              "    </tr>\n",
              "  </thead>\n",
              "  <tbody>\n",
              "    <tr>\n",
              "      <th>jennifer</th>\n",
              "      <td>administration</td>\n",
              "    </tr>\n",
              "  </tbody>\n",
              "</table>\n",
              "</div>"
            ],
            "text/plain": [
              "                   department\n",
              "employee_name                \n",
              "jennifer       administration"
            ]
          },
          "execution_count": 22,
          "metadata": {},
          "output_type": "execute_result"
        }
      ],
      "source": [
        "pd.read_sql_query(\"SELECT * FROM department WHERE employee_name LIKE 'j%r';\", conn, index_col='employee_name')"
      ]
    },
    {
      "cell_type": "code",
      "execution_count": 24,
      "id": "3cc52b5c",
      "metadata": {},
      "outputs": [
        {
          "data": {
            "text/html": [
              "<div>\n",
              "<style scoped>\n",
              "    .dataframe tbody tr th:only-of-type {\n",
              "        vertical-align: middle;\n",
              "    }\n",
              "\n",
              "    .dataframe tbody tr th {\n",
              "        vertical-align: top;\n",
              "    }\n",
              "\n",
              "    .dataframe thead th {\n",
              "        text-align: right;\n",
              "    }\n",
              "</style>\n",
              "<table border=\"1\" class=\"dataframe\">\n",
              "  <thead>\n",
              "    <tr style=\"text-align: right;\">\n",
              "      <th></th>\n",
              "      <th>name</th>\n",
              "      <th>employee_name</th>\n",
              "      <th>salary</th>\n",
              "    </tr>\n",
              "  </thead>\n",
              "  <tbody>\n",
              "    <tr>\n",
              "      <th>0</th>\n",
              "      <td>franklin</td>\n",
              "      <td>franklin</td>\n",
              "      <td>40001</td>\n",
              "    </tr>\n",
              "    <tr>\n",
              "      <th>1</th>\n",
              "      <td>james</td>\n",
              "      <td>james</td>\n",
              "      <td>55000</td>\n",
              "    </tr>\n",
              "  </tbody>\n",
              "</table>\n",
              "</div>"
            ],
            "text/plain": [
              "       name employee_name  salary\n",
              "0  franklin      franklin   40001\n",
              "1     james         james   55000"
            ]
          },
          "execution_count": 24,
          "metadata": {},
          "output_type": "execute_result"
        }
      ],
      "source": [
        "pd.read_sql_query(\"SELECT * FROM male, salary WHERE male.name == salary.employee_name AND salary > 40000;\", conn)"
      ]
    },
    {
      "cell_type": "code",
      "execution_count": null,
      "id": "f62f553b",
      "metadata": {},
      "outputs": [],
      "source": []
    }
  ],
  "metadata": {
    "kernelspec": {
      "display_name": "Python 3.11.5 64-bit",
      "language": "python",
      "name": "python3"
    },
    "language_info": {
      "codemirror_mode": {
        "name": "ipython",
        "version": 3
      },
      "file_extension": ".py",
      "mimetype": "text/x-python",
      "name": "python",
      "nbconvert_exporter": "python",
      "pygments_lexer": "ipython3",
      "version": "3.11.5"
    },
    "vscode": {
      "interpreter": {
        "hash": "a033902857b606975e7b9fead89d584a47e87eb2c3283f171dec277b7a0d9952"
      }
    }
  },
  "nbformat": 4,
  "nbformat_minor": 5
}
