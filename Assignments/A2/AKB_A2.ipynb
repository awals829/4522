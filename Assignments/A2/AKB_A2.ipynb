{
  "cells": [
    {
      "cell_type": "code",
      "execution_count": 1,
      "id": "0a79dee2-28c7-4ad7-ba26-1415316c38b1",
      "metadata": {
        "trusted": true
      },
      "outputs": [],
      "source": [
        "import sqlite3 as sql\n",
        "import pandas as pd\n",
        "\n",
        "conn = sql.connect(database= \"database.db\")\n",
        "cursor = conn.cursor()"
      ]
    },
    {
      "cell_type": "code",
      "execution_count": 2,
      "id": "e9ddcd44-c132-43de-a2b2-5c800038abf0",
      "metadata": {
        "trusted": true
      },
      "outputs": [
        {
          "data": {
            "text/plain": [
              "<sqlite3.Cursor at 0x198c9558b40>"
            ]
          },
          "execution_count": 2,
          "metadata": {},
          "output_type": "execute_result"
        }
      ],
      "source": [
        "# Clearing For Consecutive Full Runs\n",
        "cursor.executescript(\"\"\"\n",
        "                    BEGIN;\n",
        "                    DROP TABLE IF EXISTS Employee;\n",
        "                    DROP TABLE IF EXISTS Department;\n",
        "                    DROP TABLE IF EXISTS Female;\n",
        "                    DROP TABLE IF EXISTS Male;\n",
        "                    DROP TABLE IF EXISTS Project;\n",
        "                    DROP TABLE IF EXISTS Salary;\n",
        "                    DROP TABLE IF EXISTS Supervise;\n",
        "                    DROP TABLE IF EXISTS WorksOn;\n",
        "                    COMMIT;\n",
        "                     \"\"\")\n",
        "\n",
        "cursor.executescript(\"\"\"\n",
        "                    BEGIN;\n",
        "                    CREATE TABLE Employee (employee_id INTEGER, employee_name TEXT);\n",
        "                    CREATE TABLE Department (employee_name TEXT, department TEXT);\n",
        "                    CREATE TABLE Female (name TEXT);\n",
        "                    CREATE TABLE Male (name TEXT);\n",
        "                    CREATE TABLE Project (project TEXT);\n",
        "                    CREATE TABLE Salary (employee_name TEXT, salary INTEGER);\n",
        "                    CREATE TABLE Supervise (supervisor TEXT, subordinate TEXT);\n",
        "                    CREATE TABLE Workson (name TEXT, project TEXT, effort INTEGER);\n",
        "                    COMMIT;\n",
        "                    \"\"\")"
      ]
    },
    {
      "cell_type": "code",
      "execution_count": 3,
      "id": "374f6507-74b2-4a63-ba34-e323843e5657",
      "metadata": {
        "trusted": true
      },
      "outputs": [
        {
          "data": {
            "text/plain": [
              "<sqlite3.Cursor at 0x198c9558b40>"
            ]
          },
          "execution_count": 3,
          "metadata": {},
          "output_type": "execute_result"
        }
      ],
      "source": [
        "\n",
        "cursor.executescript(\"\"\"\n",
        "                    BEGIN;\n",
        "                    INSERT INTO Employee VALUES (1,'john');\n",
        "                    INSERT INTO Employee VALUES (2, 'franklin');\n",
        "                    INSERT INTO Employee VALUES (3, 'alicia');\n",
        "                    INSERT INTO Employee VALUES (4, 'jennifer');\n",
        "                    INSERT INTO Employee VALUES (5, 'ramesh');\n",
        "                    INSERT INTO Employee VALUES (6, 'joyce');\n",
        "                    INSERT INTO Employee VALUES (7, 'ahmad');\n",
        "                    INSERT INTO Employee VALUES (8, 'james');\n",
        "                    COMMIT;\n",
        "                    \"\"\")"
      ]
    },
    {
      "cell_type": "code",
      "execution_count": 4,
      "id": "3ddf30df-c13e-4120-9588-1fda3df497d5",
      "metadata": {
        "trusted": true
      },
      "outputs": [
        {
          "data": {
            "text/plain": [
              "<sqlite3.Cursor at 0x198c9558b40>"
            ]
          },
          "execution_count": 4,
          "metadata": {},
          "output_type": "execute_result"
        }
      ],
      "source": [
        "cursor.executescript(\"\"\"\n",
        "                    BEGIN;\n",
        "                    INSERT INTO Department VALUES ('john', 'research');\n",
        "                    INSERT INTO Department VALUES ('franklin', 'research');\n",
        "                    INSERT INTO Department VALUES ('alicia', 'administration');\n",
        "                    INSERT INTO Department VALUES ('jennifer', 'administration');\n",
        "                    INSERT INTO Department VALUES ('ramesh', 'research');\n",
        "                    INSERT INTO Department VALUES ('joyce', 'research');\n",
        "                    INSERT INTO Department VALUES ('ahmad', 'administration');\n",
        "                    INSERT INTO Department VALUES ('james', 'headquarters');\n",
        "                    COMMIT;\n",
        "                    \"\"\")"
      ]
    },
    {
      "cell_type": "code",
      "execution_count": 5,
      "id": "c6ab30a5-9e58-42ef-8164-ee6550061b32",
      "metadata": {
        "trusted": true
      },
      "outputs": [
        {
          "data": {
            "text/plain": [
              "<sqlite3.Cursor at 0x198c9558b40>"
            ]
          },
          "execution_count": 5,
          "metadata": {},
          "output_type": "execute_result"
        }
      ],
      "source": [
        "cursor.executescript(\"\"\"\n",
        "                    BEGIN;\n",
        "                    INSERT INTO Female VALUES ('alicia');\n",
        "                    INSERT INTO Female VALUES ('jennifer');\n",
        "                    INSERT INTO Female VALUES ('joyce');\n",
        "                    COMMIT;\n",
        "                    \"\"\")"
      ]
    },
    {
      "cell_type": "code",
      "execution_count": 6,
      "id": "09c49a69-410d-4a5a-82d2-3f23b84b685d",
      "metadata": {
        "trusted": true
      },
      "outputs": [
        {
          "data": {
            "text/plain": [
              "<sqlite3.Cursor at 0x198c9558b40>"
            ]
          },
          "execution_count": 6,
          "metadata": {},
          "output_type": "execute_result"
        }
      ],
      "source": [
        "cursor.executescript(\"\"\"\n",
        "                    BEGIN;\n",
        "                    INSERT INTO Male VALUES ('john');\n",
        "                    INSERT INTO Male VALUES ('franklin');\n",
        "                    INSERT INTO Male VALUES ('ramesh');\n",
        "                    INSERT INTO Male VALUES ('ahmad');\n",
        "                    INSERT INTO Male VALUES ('james');\n",
        "                    COMMIT;\n",
        "                    \"\"\")"
      ]
    },
    {
      "cell_type": "code",
      "execution_count": 7,
      "id": "8e55db31-fc3b-4398-ad0a-24acdf627f7e",
      "metadata": {
        "trusted": true
      },
      "outputs": [
        {
          "data": {
            "text/plain": [
              "<sqlite3.Cursor at 0x198c9558b40>"
            ]
          },
          "execution_count": 7,
          "metadata": {},
          "output_type": "execute_result"
        }
      ],
      "source": [
        "cursor.executescript(\"\"\"\n",
        "                    BEGIN;\n",
        "                    INSERT INTO Project VALUES ('productx');\n",
        "                    INSERT INTO Project VALUES ('producty');\n",
        "                    INSERT INTO Project VALUES ('productz');\n",
        "                    INSERT INTO Project VALUES ('computerization');\n",
        "                    INSERT INTO Project VALUES ('reorganization');\n",
        "                    INSERT INTO Project VALUES ('newbenefits');\n",
        "                    COMMIT;\n",
        "                    \"\"\")"
      ]
    },
    {
      "cell_type": "code",
      "execution_count": 8,
      "id": "83d9f47b-49da-4cc9-af56-7945df5f5862",
      "metadata": {
        "trusted": true
      },
      "outputs": [
        {
          "data": {
            "text/plain": [
              "<sqlite3.Cursor at 0x198c9558b40>"
            ]
          },
          "execution_count": 8,
          "metadata": {},
          "output_type": "execute_result"
        }
      ],
      "source": [
        "cursor.executescript(\"\"\"\n",
        "                    BEGIN;\n",
        "                    INSERT INTO Salary VALUES ('john', 30000);\n",
        "                    INSERT INTO Salary VALUES ('franklin', 40001);\n",
        "                    INSERT INTO Salary VALUES ('alicia', 25000);\n",
        "                    INSERT INTO Salary VALUES ('jennifer', 43000);\n",
        "                    INSERT INTO Salary VALUES ('ramesh', 38000);\n",
        "                    INSERT INTO Salary VALUES ('joyce', 25000);\n",
        "                    INSERT INTO Salary VALUES ('ahmad', 25000);\n",
        "                    INSERT INTO Salary VALUES ('james', 55000);\n",
        "                    COMMIT;\n",
        "                    \"\"\")"
      ]
    },
    {
      "cell_type": "code",
      "execution_count": 9,
      "id": "a22f12ee-da8d-45de-9d47-a3b6dd8f0e28",
      "metadata": {
        "trusted": true
      },
      "outputs": [
        {
          "data": {
            "text/plain": [
              "<sqlite3.Cursor at 0x198c9558b40>"
            ]
          },
          "execution_count": 9,
          "metadata": {},
          "output_type": "execute_result"
        }
      ],
      "source": [
        "cursor.executescript(\"\"\"\n",
        "                    BEGIN;\n",
        "                    INSERT INTO Supervise VALUES ('franklin', 'john');\n",
        "                    INSERT INTO Supervise VALUES ('franklin', 'ramesh');\n",
        "                    INSERT INTO Supervise VALUES ('franklin', 'joyce');\n",
        "                    INSERT INTO Supervise VALUES ('jennifer', 'alicia');\n",
        "                    INSERT INTO Supervise VALUES ('jennifer', 'ahmad');\n",
        "                    INSERT INTO Supervise VALUES ('james', 'franklin');\n",
        "                    INSERT INTO Supervise VALUES ('james', 'jennifer');\n",
        "                    COMMIT;\n",
        "                    \"\"\")"
      ]
    },
    {
      "cell_type": "code",
      "execution_count": 10,
      "id": "0c30c1b4-118f-47a2-b0ef-af8e19557e36",
      "metadata": {
        "trusted": true
      },
      "outputs": [
        {
          "data": {
            "text/plain": [
              "<sqlite3.Cursor at 0x198c9558b40>"
            ]
          },
          "execution_count": 10,
          "metadata": {},
          "output_type": "execute_result"
        }
      ],
      "source": [
        "cursor.executescript(\"\"\"\n",
        "                    BEGIN;\n",
        "                    INSERT INTO WorksOn VALUES ('john', 'productx', 32);\n",
        "                    INSERT INTO WorksOn VALUES ('john', 'producty', 8);\n",
        "                    INSERT INTO WorksOn VALUES ('ramesh', 'productz', 40);\n",
        "                    INSERT INTO WorksOn VALUES ('joyce', 'productx', 20);\n",
        "                    INSERT INTO WorksOn VALUES ('joyce', 'producty', 20);\n",
        "                    INSERT INTO WorksOn VALUES ('franklin', 'producty', 10);\n",
        "                    INSERT INTO WorksOn VALUES ('franklin', 'productz', 10);\n",
        "                    INSERT INTO WorksOn VALUES ('franklin', 'computerization', 10);\n",
        "                    INSERT INTO WorksOn VALUES ('franklin', 'reorganization', 10);\n",
        "                    INSERT INTO WorksOn VALUES ('alicia', 'newbenefits', 30);\n",
        "                    INSERT INTO WorksOn VALUES ('alicia', 'computerization', 10);\n",
        "                    INSERT INTO WorksOn VALUES ('ahmad', 'computerization', 35);\n",
        "                    INSERT INTO WorksOn VALUES ('ahmad', 'newbenefits', 5);\n",
        "                    INSERT INTO WorksOn VALUES ('jennifer', 'newbenefits', 20);\n",
        "                    INSERT INTO WorksOn VALUES ('jennifer', 'reorganization', 15);\n",
        "                    INSERT INTO WorksOn VALUES ('james', 'reorganization', 10);\n",
        "                    COMMIT;\n",
        "                    \"\"\")"
      ]
    },
    {
      "cell_type": "code",
      "execution_count": 11,
      "id": "2c31f483",
      "metadata": {},
      "outputs": [],
      "source": [
        "cursor.close() # Cursor no longer active beyond this point."
      ]
    },
    {
      "cell_type": "code",
      "execution_count": 12,
      "id": "bf04ac55-84d4-418f-8b46-fbb9da3fd8d1",
      "metadata": {
        "trusted": true
      },
      "outputs": [
        {
          "data": {
            "text/html": [
              "<div>\n",
              "<style scoped>\n",
              "    .dataframe tbody tr th:only-of-type {\n",
              "        vertical-align: middle;\n",
              "    }\n",
              "\n",
              "    .dataframe tbody tr th {\n",
              "        vertical-align: top;\n",
              "    }\n",
              "\n",
              "    .dataframe thead th {\n",
              "        text-align: right;\n",
              "    }\n",
              "</style>\n",
              "<table border=\"1\" class=\"dataframe\">\n",
              "  <thead>\n",
              "    <tr style=\"text-align: right;\">\n",
              "      <th></th>\n",
              "      <th>employee_name</th>\n",
              "    </tr>\n",
              "  </thead>\n",
              "  <tbody>\n",
              "    <tr>\n",
              "      <th>0</th>\n",
              "      <td>john</td>\n",
              "    </tr>\n",
              "    <tr>\n",
              "      <th>1</th>\n",
              "      <td>franklin</td>\n",
              "    </tr>\n",
              "    <tr>\n",
              "      <th>2</th>\n",
              "      <td>alicia</td>\n",
              "    </tr>\n",
              "    <tr>\n",
              "      <th>3</th>\n",
              "      <td>jennifer</td>\n",
              "    </tr>\n",
              "    <tr>\n",
              "      <th>4</th>\n",
              "      <td>ramesh</td>\n",
              "    </tr>\n",
              "    <tr>\n",
              "      <th>5</th>\n",
              "      <td>joyce</td>\n",
              "    </tr>\n",
              "    <tr>\n",
              "      <th>6</th>\n",
              "      <td>ahmad</td>\n",
              "    </tr>\n",
              "    <tr>\n",
              "      <th>7</th>\n",
              "      <td>james</td>\n",
              "    </tr>\n",
              "  </tbody>\n",
              "</table>\n",
              "</div>"
            ],
            "text/plain": [
              "  employee_name\n",
              "0          john\n",
              "1      franklin\n",
              "2        alicia\n",
              "3      jennifer\n",
              "4        ramesh\n",
              "5         joyce\n",
              "6         ahmad\n",
              "7         james"
            ]
          },
          "execution_count": 12,
          "metadata": {},
          "output_type": "execute_result"
        }
      ],
      "source": [
        "# Show full Employee table\n",
        "pd.read_sql_query(\"\"\"\n",
        "                  SELECT Employee_name\n",
        "                  FROM Employee;\n",
        "                  \"\"\", conn)\n"
      ]
    },
    {
      "cell_type": "code",
      "execution_count": 13,
      "id": "2fb48f39-9450-4a63-a72d-b8bec8474752",
      "metadata": {
        "trusted": true
      },
      "outputs": [
        {
          "data": {
            "text/html": [
              "<div>\n",
              "<style scoped>\n",
              "    .dataframe tbody tr th:only-of-type {\n",
              "        vertical-align: middle;\n",
              "    }\n",
              "\n",
              "    .dataframe tbody tr th {\n",
              "        vertical-align: top;\n",
              "    }\n",
              "\n",
              "    .dataframe thead th {\n",
              "        text-align: right;\n",
              "    }\n",
              "</style>\n",
              "<table border=\"1\" class=\"dataframe\">\n",
              "  <thead>\n",
              "    <tr style=\"text-align: right;\">\n",
              "      <th></th>\n",
              "      <th>employee_name</th>\n",
              "      <th>department</th>\n",
              "    </tr>\n",
              "  </thead>\n",
              "  <tbody>\n",
              "    <tr>\n",
              "      <th>0</th>\n",
              "      <td>john</td>\n",
              "      <td>research</td>\n",
              "    </tr>\n",
              "    <tr>\n",
              "      <th>1</th>\n",
              "      <td>franklin</td>\n",
              "      <td>research</td>\n",
              "    </tr>\n",
              "    <tr>\n",
              "      <th>2</th>\n",
              "      <td>alicia</td>\n",
              "      <td>administration</td>\n",
              "    </tr>\n",
              "    <tr>\n",
              "      <th>3</th>\n",
              "      <td>jennifer</td>\n",
              "      <td>administration</td>\n",
              "    </tr>\n",
              "    <tr>\n",
              "      <th>4</th>\n",
              "      <td>ramesh</td>\n",
              "      <td>research</td>\n",
              "    </tr>\n",
              "    <tr>\n",
              "      <th>5</th>\n",
              "      <td>joyce</td>\n",
              "      <td>research</td>\n",
              "    </tr>\n",
              "    <tr>\n",
              "      <th>6</th>\n",
              "      <td>ahmad</td>\n",
              "      <td>administration</td>\n",
              "    </tr>\n",
              "    <tr>\n",
              "      <th>7</th>\n",
              "      <td>james</td>\n",
              "      <td>headquarters</td>\n",
              "    </tr>\n",
              "  </tbody>\n",
              "</table>\n",
              "</div>"
            ],
            "text/plain": [
              "  employee_name      department\n",
              "0          john        research\n",
              "1      franklin        research\n",
              "2        alicia  administration\n",
              "3      jennifer  administration\n",
              "4        ramesh        research\n",
              "5         joyce        research\n",
              "6         ahmad  administration\n",
              "7         james    headquarters"
            ]
          },
          "execution_count": 13,
          "metadata": {},
          "output_type": "execute_result"
        }
      ],
      "source": [
        "# Show full department table\n",
        "pd.read_sql_query(\"\"\"\n",
        "                  SELECT * \n",
        "                  FROM Department;\n",
        "                  \"\"\", conn)"
      ]
    },
    {
      "cell_type": "code",
      "execution_count": 14,
      "id": "ee1ce341-2672-4b6a-95f2-59bf96630a66",
      "metadata": {
        "trusted": true
      },
      "outputs": [
        {
          "data": {
            "text/html": [
              "<div>\n",
              "<style scoped>\n",
              "    .dataframe tbody tr th:only-of-type {\n",
              "        vertical-align: middle;\n",
              "    }\n",
              "\n",
              "    .dataframe tbody tr th {\n",
              "        vertical-align: top;\n",
              "    }\n",
              "\n",
              "    .dataframe thead th {\n",
              "        text-align: right;\n",
              "    }\n",
              "</style>\n",
              "<table border=\"1\" class=\"dataframe\">\n",
              "  <thead>\n",
              "    <tr style=\"text-align: right;\">\n",
              "      <th></th>\n",
              "      <th>name</th>\n",
              "    </tr>\n",
              "  </thead>\n",
              "  <tbody>\n",
              "    <tr>\n",
              "      <th>0</th>\n",
              "      <td>alicia</td>\n",
              "    </tr>\n",
              "    <tr>\n",
              "      <th>1</th>\n",
              "      <td>jennifer</td>\n",
              "    </tr>\n",
              "    <tr>\n",
              "      <th>2</th>\n",
              "      <td>joyce</td>\n",
              "    </tr>\n",
              "  </tbody>\n",
              "</table>\n",
              "</div>"
            ],
            "text/plain": [
              "       name\n",
              "0    alicia\n",
              "1  jennifer\n",
              "2     joyce"
            ]
          },
          "execution_count": 14,
          "metadata": {},
          "output_type": "execute_result"
        }
      ],
      "source": [
        "pd.read_sql_query(\"\"\"\n",
        "                  SELECT * \n",
        "                  FROM Female;\n",
        "                  \"\"\", conn)"
      ]
    },
    {
      "cell_type": "code",
      "execution_count": 15,
      "id": "3cc52b5c",
      "metadata": {},
      "outputs": [
        {
          "data": {
            "text/html": [
              "<div>\n",
              "<style scoped>\n",
              "    .dataframe tbody tr th:only-of-type {\n",
              "        vertical-align: middle;\n",
              "    }\n",
              "\n",
              "    .dataframe tbody tr th {\n",
              "        vertical-align: top;\n",
              "    }\n",
              "\n",
              "    .dataframe thead th {\n",
              "        text-align: right;\n",
              "    }\n",
              "</style>\n",
              "<table border=\"1\" class=\"dataframe\">\n",
              "  <thead>\n",
              "    <tr style=\"text-align: right;\">\n",
              "      <th></th>\n",
              "      <th>name</th>\n",
              "    </tr>\n",
              "  </thead>\n",
              "  <tbody>\n",
              "    <tr>\n",
              "      <th>0</th>\n",
              "      <td>john</td>\n",
              "    </tr>\n",
              "    <tr>\n",
              "      <th>1</th>\n",
              "      <td>franklin</td>\n",
              "    </tr>\n",
              "    <tr>\n",
              "      <th>2</th>\n",
              "      <td>ramesh</td>\n",
              "    </tr>\n",
              "    <tr>\n",
              "      <th>3</th>\n",
              "      <td>ahmad</td>\n",
              "    </tr>\n",
              "    <tr>\n",
              "      <th>4</th>\n",
              "      <td>james</td>\n",
              "    </tr>\n",
              "  </tbody>\n",
              "</table>\n",
              "</div>"
            ],
            "text/plain": [
              "       name\n",
              "0      john\n",
              "1  franklin\n",
              "2    ramesh\n",
              "3     ahmad\n",
              "4     james"
            ]
          },
          "execution_count": 15,
          "metadata": {},
          "output_type": "execute_result"
        }
      ],
      "source": [
        "pd.read_sql_query(\"\"\"\n",
        "                  SELECT * \n",
        "                  FROM Male;\n",
        "                  \"\"\", conn)"
      ]
    },
    {
      "cell_type": "code",
      "execution_count": 16,
      "id": "f87f4f0f",
      "metadata": {},
      "outputs": [
        {
          "data": {
            "text/html": [
              "<div>\n",
              "<style scoped>\n",
              "    .dataframe tbody tr th:only-of-type {\n",
              "        vertical-align: middle;\n",
              "    }\n",
              "\n",
              "    .dataframe tbody tr th {\n",
              "        vertical-align: top;\n",
              "    }\n",
              "\n",
              "    .dataframe thead th {\n",
              "        text-align: right;\n",
              "    }\n",
              "</style>\n",
              "<table border=\"1\" class=\"dataframe\">\n",
              "  <thead>\n",
              "    <tr style=\"text-align: right;\">\n",
              "      <th></th>\n",
              "      <th>project</th>\n",
              "    </tr>\n",
              "  </thead>\n",
              "  <tbody>\n",
              "    <tr>\n",
              "      <th>0</th>\n",
              "      <td>productx</td>\n",
              "    </tr>\n",
              "    <tr>\n",
              "      <th>1</th>\n",
              "      <td>producty</td>\n",
              "    </tr>\n",
              "    <tr>\n",
              "      <th>2</th>\n",
              "      <td>productz</td>\n",
              "    </tr>\n",
              "    <tr>\n",
              "      <th>3</th>\n",
              "      <td>computerization</td>\n",
              "    </tr>\n",
              "    <tr>\n",
              "      <th>4</th>\n",
              "      <td>reorganization</td>\n",
              "    </tr>\n",
              "    <tr>\n",
              "      <th>5</th>\n",
              "      <td>newbenefits</td>\n",
              "    </tr>\n",
              "  </tbody>\n",
              "</table>\n",
              "</div>"
            ],
            "text/plain": [
              "           project\n",
              "0         productx\n",
              "1         producty\n",
              "2         productz\n",
              "3  computerization\n",
              "4   reorganization\n",
              "5      newbenefits"
            ]
          },
          "execution_count": 16,
          "metadata": {},
          "output_type": "execute_result"
        }
      ],
      "source": [
        "pd.read_sql_query(\"\"\"\n",
        "                  SELECT * \n",
        "                  FROM Project;\n",
        "                  \"\"\", conn)"
      ]
    },
    {
      "cell_type": "code",
      "execution_count": 17,
      "id": "14e32449",
      "metadata": {},
      "outputs": [
        {
          "data": {
            "text/html": [
              "<div>\n",
              "<style scoped>\n",
              "    .dataframe tbody tr th:only-of-type {\n",
              "        vertical-align: middle;\n",
              "    }\n",
              "\n",
              "    .dataframe tbody tr th {\n",
              "        vertical-align: top;\n",
              "    }\n",
              "\n",
              "    .dataframe thead th {\n",
              "        text-align: right;\n",
              "    }\n",
              "</style>\n",
              "<table border=\"1\" class=\"dataframe\">\n",
              "  <thead>\n",
              "    <tr style=\"text-align: right;\">\n",
              "      <th></th>\n",
              "      <th>employee_name</th>\n",
              "      <th>salary</th>\n",
              "    </tr>\n",
              "  </thead>\n",
              "  <tbody>\n",
              "    <tr>\n",
              "      <th>0</th>\n",
              "      <td>john</td>\n",
              "      <td>30000</td>\n",
              "    </tr>\n",
              "    <tr>\n",
              "      <th>1</th>\n",
              "      <td>franklin</td>\n",
              "      <td>40001</td>\n",
              "    </tr>\n",
              "    <tr>\n",
              "      <th>2</th>\n",
              "      <td>alicia</td>\n",
              "      <td>25000</td>\n",
              "    </tr>\n",
              "    <tr>\n",
              "      <th>3</th>\n",
              "      <td>jennifer</td>\n",
              "      <td>43000</td>\n",
              "    </tr>\n",
              "    <tr>\n",
              "      <th>4</th>\n",
              "      <td>ramesh</td>\n",
              "      <td>38000</td>\n",
              "    </tr>\n",
              "    <tr>\n",
              "      <th>5</th>\n",
              "      <td>joyce</td>\n",
              "      <td>25000</td>\n",
              "    </tr>\n",
              "    <tr>\n",
              "      <th>6</th>\n",
              "      <td>ahmad</td>\n",
              "      <td>25000</td>\n",
              "    </tr>\n",
              "    <tr>\n",
              "      <th>7</th>\n",
              "      <td>james</td>\n",
              "      <td>55000</td>\n",
              "    </tr>\n",
              "  </tbody>\n",
              "</table>\n",
              "</div>"
            ],
            "text/plain": [
              "  employee_name  salary\n",
              "0          john   30000\n",
              "1      franklin   40001\n",
              "2        alicia   25000\n",
              "3      jennifer   43000\n",
              "4        ramesh   38000\n",
              "5         joyce   25000\n",
              "6         ahmad   25000\n",
              "7         james   55000"
            ]
          },
          "execution_count": 17,
          "metadata": {},
          "output_type": "execute_result"
        }
      ],
      "source": [
        "pd.read_sql_query(\"\"\"\n",
        "                  SELECT *\n",
        "                  FROM Salary;\n",
        "                  \"\"\", conn)"
      ]
    },
    {
      "cell_type": "code",
      "execution_count": 18,
      "id": "f62f553b",
      "metadata": {},
      "outputs": [
        {
          "data": {
            "text/html": [
              "<div>\n",
              "<style scoped>\n",
              "    .dataframe tbody tr th:only-of-type {\n",
              "        vertical-align: middle;\n",
              "    }\n",
              "\n",
              "    .dataframe tbody tr th {\n",
              "        vertical-align: top;\n",
              "    }\n",
              "\n",
              "    .dataframe thead th {\n",
              "        text-align: right;\n",
              "    }\n",
              "</style>\n",
              "<table border=\"1\" class=\"dataframe\">\n",
              "  <thead>\n",
              "    <tr style=\"text-align: right;\">\n",
              "      <th></th>\n",
              "      <th>supervisor</th>\n",
              "      <th>subordinate</th>\n",
              "    </tr>\n",
              "  </thead>\n",
              "  <tbody>\n",
              "    <tr>\n",
              "      <th>0</th>\n",
              "      <td>franklin</td>\n",
              "      <td>john</td>\n",
              "    </tr>\n",
              "    <tr>\n",
              "      <th>1</th>\n",
              "      <td>franklin</td>\n",
              "      <td>ramesh</td>\n",
              "    </tr>\n",
              "    <tr>\n",
              "      <th>2</th>\n",
              "      <td>franklin</td>\n",
              "      <td>joyce</td>\n",
              "    </tr>\n",
              "    <tr>\n",
              "      <th>3</th>\n",
              "      <td>jennifer</td>\n",
              "      <td>alicia</td>\n",
              "    </tr>\n",
              "    <tr>\n",
              "      <th>4</th>\n",
              "      <td>jennifer</td>\n",
              "      <td>ahmad</td>\n",
              "    </tr>\n",
              "    <tr>\n",
              "      <th>5</th>\n",
              "      <td>james</td>\n",
              "      <td>franklin</td>\n",
              "    </tr>\n",
              "    <tr>\n",
              "      <th>6</th>\n",
              "      <td>james</td>\n",
              "      <td>jennifer</td>\n",
              "    </tr>\n",
              "  </tbody>\n",
              "</table>\n",
              "</div>"
            ],
            "text/plain": [
              "  supervisor subordinate\n",
              "0   franklin        john\n",
              "1   franklin      ramesh\n",
              "2   franklin       joyce\n",
              "3   jennifer      alicia\n",
              "4   jennifer       ahmad\n",
              "5      james    franklin\n",
              "6      james    jennifer"
            ]
          },
          "execution_count": 18,
          "metadata": {},
          "output_type": "execute_result"
        }
      ],
      "source": [
        "pd.read_sql_query(\"\"\"\n",
        "                  SELECT *\n",
        "                  FROM Supervise;\n",
        "                  \"\"\", conn)"
      ]
    },
    {
      "cell_type": "code",
      "execution_count": 19,
      "id": "1c94cd47",
      "metadata": {},
      "outputs": [
        {
          "data": {
            "text/html": [
              "<div>\n",
              "<style scoped>\n",
              "    .dataframe tbody tr th:only-of-type {\n",
              "        vertical-align: middle;\n",
              "    }\n",
              "\n",
              "    .dataframe tbody tr th {\n",
              "        vertical-align: top;\n",
              "    }\n",
              "\n",
              "    .dataframe thead th {\n",
              "        text-align: right;\n",
              "    }\n",
              "</style>\n",
              "<table border=\"1\" class=\"dataframe\">\n",
              "  <thead>\n",
              "    <tr style=\"text-align: right;\">\n",
              "      <th></th>\n",
              "      <th>name</th>\n",
              "      <th>project</th>\n",
              "      <th>effort</th>\n",
              "    </tr>\n",
              "  </thead>\n",
              "  <tbody>\n",
              "    <tr>\n",
              "      <th>0</th>\n",
              "      <td>john</td>\n",
              "      <td>productx</td>\n",
              "      <td>32</td>\n",
              "    </tr>\n",
              "    <tr>\n",
              "      <th>1</th>\n",
              "      <td>john</td>\n",
              "      <td>producty</td>\n",
              "      <td>8</td>\n",
              "    </tr>\n",
              "    <tr>\n",
              "      <th>2</th>\n",
              "      <td>ramesh</td>\n",
              "      <td>productz</td>\n",
              "      <td>40</td>\n",
              "    </tr>\n",
              "    <tr>\n",
              "      <th>3</th>\n",
              "      <td>joyce</td>\n",
              "      <td>productx</td>\n",
              "      <td>20</td>\n",
              "    </tr>\n",
              "    <tr>\n",
              "      <th>4</th>\n",
              "      <td>joyce</td>\n",
              "      <td>producty</td>\n",
              "      <td>20</td>\n",
              "    </tr>\n",
              "    <tr>\n",
              "      <th>5</th>\n",
              "      <td>franklin</td>\n",
              "      <td>producty</td>\n",
              "      <td>10</td>\n",
              "    </tr>\n",
              "    <tr>\n",
              "      <th>6</th>\n",
              "      <td>franklin</td>\n",
              "      <td>productz</td>\n",
              "      <td>10</td>\n",
              "    </tr>\n",
              "    <tr>\n",
              "      <th>7</th>\n",
              "      <td>franklin</td>\n",
              "      <td>computerization</td>\n",
              "      <td>10</td>\n",
              "    </tr>\n",
              "    <tr>\n",
              "      <th>8</th>\n",
              "      <td>franklin</td>\n",
              "      <td>reorganization</td>\n",
              "      <td>10</td>\n",
              "    </tr>\n",
              "    <tr>\n",
              "      <th>9</th>\n",
              "      <td>alicia</td>\n",
              "      <td>newbenefits</td>\n",
              "      <td>30</td>\n",
              "    </tr>\n",
              "    <tr>\n",
              "      <th>10</th>\n",
              "      <td>alicia</td>\n",
              "      <td>computerization</td>\n",
              "      <td>10</td>\n",
              "    </tr>\n",
              "    <tr>\n",
              "      <th>11</th>\n",
              "      <td>ahmad</td>\n",
              "      <td>computerization</td>\n",
              "      <td>35</td>\n",
              "    </tr>\n",
              "    <tr>\n",
              "      <th>12</th>\n",
              "      <td>ahmad</td>\n",
              "      <td>newbenefits</td>\n",
              "      <td>5</td>\n",
              "    </tr>\n",
              "    <tr>\n",
              "      <th>13</th>\n",
              "      <td>jennifer</td>\n",
              "      <td>newbenefits</td>\n",
              "      <td>20</td>\n",
              "    </tr>\n",
              "    <tr>\n",
              "      <th>14</th>\n",
              "      <td>jennifer</td>\n",
              "      <td>reorganization</td>\n",
              "      <td>15</td>\n",
              "    </tr>\n",
              "    <tr>\n",
              "      <th>15</th>\n",
              "      <td>james</td>\n",
              "      <td>reorganization</td>\n",
              "      <td>10</td>\n",
              "    </tr>\n",
              "  </tbody>\n",
              "</table>\n",
              "</div>"
            ],
            "text/plain": [
              "        name          project  effort\n",
              "0       john         productx      32\n",
              "1       john         producty       8\n",
              "2     ramesh         productz      40\n",
              "3      joyce         productx      20\n",
              "4      joyce         producty      20\n",
              "5   franklin         producty      10\n",
              "6   franklin         productz      10\n",
              "7   franklin  computerization      10\n",
              "8   franklin   reorganization      10\n",
              "9     alicia      newbenefits      30\n",
              "10    alicia  computerization      10\n",
              "11     ahmad  computerization      35\n",
              "12     ahmad      newbenefits       5\n",
              "13  jennifer      newbenefits      20\n",
              "14  jennifer   reorganization      15\n",
              "15     james   reorganization      10"
            ]
          },
          "execution_count": 19,
          "metadata": {},
          "output_type": "execute_result"
        }
      ],
      "source": [
        "pd.read_sql_query(\"\"\"\n",
        "                  SELECT *\n",
        "                  FROM WorksOn;\n",
        "                  \"\"\", conn)"
      ]
    },
    {
      "cell_type": "code",
      "execution_count": 20,
      "id": "bac7c56e",
      "metadata": {},
      "outputs": [
        {
          "data": {
            "text/html": [
              "<div>\n",
              "<style scoped>\n",
              "    .dataframe tbody tr th:only-of-type {\n",
              "        vertical-align: middle;\n",
              "    }\n",
              "\n",
              "    .dataframe tbody tr th {\n",
              "        vertical-align: top;\n",
              "    }\n",
              "\n",
              "    .dataframe thead th {\n",
              "        text-align: right;\n",
              "    }\n",
              "</style>\n",
              "<table border=\"1\" class=\"dataframe\">\n",
              "  <thead>\n",
              "    <tr style=\"text-align: right;\">\n",
              "      <th></th>\n",
              "      <th>Employee Name</th>\n",
              "    </tr>\n",
              "  </thead>\n",
              "  <tbody>\n",
              "    <tr>\n",
              "      <th>0</th>\n",
              "      <td>alicia</td>\n",
              "    </tr>\n",
              "  </tbody>\n",
              "</table>\n",
              "</div>"
            ],
            "text/plain": [
              "  Employee Name\n",
              "0        alicia"
            ]
          },
          "execution_count": 20,
          "metadata": {},
          "output_type": "execute_result"
        }
      ],
      "source": [
        "\"\"\"\n",
        "Q1: Are there any Employees that are \"female\" and \n",
        "    that work in project \"computerization\" \n",
        "    with an effort of \"10\" hours per week, \n",
        "    and that have \"jennifer\" as a supervisor? \n",
        "    If so, list them.\n",
        "\"\"\"\n",
        "\n",
        "# Rutu\n",
        "'''\n",
        "pd.read_sql_query(\"\"\"\n",
        "SELECT e.employee_name\n",
        "FROM employee e\n",
        "JOIN female f ON e.employee_name = f.name\n",
        "JOIN supervise s ON e.employee_name = s.subordinate\n",
        "JOIN workson w ON e.employee_name = w.name\n",
        "WHERE w.project = 'computerization' \n",
        "    AND w.effort = 10 \n",
        "    AND s.supervisor = 'jennifer'\n",
        "\"\"\", conn)\n",
        "'''\n",
        "\n",
        "\n",
        "# DRU\n",
        "pd.read_sql_query(\"\"\"\n",
        "                  SELECT f.name AS 'Employee Name'\n",
        "                  FROM Employee AS e\n",
        "                  JOIN Female AS f \n",
        "                       ON f.name = e.employee_name\n",
        "                  JOIN Supervise AS s \n",
        "                       ON f.name = s.subordinate\n",
        "                  JOIN WorksOn AS w \n",
        "                       ON f.name = w.name\n",
        "                       WHERE project = 'computerization'\n",
        "                             AND effort = 10 \n",
        "                             AND s.supervisor = 'jennifer';\n",
        "                  \"\"\", conn)\n"
      ]
    },
    {
      "cell_type": "code",
      "execution_count": 21,
      "id": "419a0f1b",
      "metadata": {},
      "outputs": [
        {
          "data": {
            "text/html": [
              "<div>\n",
              "<style scoped>\n",
              "    .dataframe tbody tr th:only-of-type {\n",
              "        vertical-align: middle;\n",
              "    }\n",
              "\n",
              "    .dataframe tbody tr th {\n",
              "        vertical-align: top;\n",
              "    }\n",
              "\n",
              "    .dataframe thead th {\n",
              "        text-align: right;\n",
              "    }\n",
              "</style>\n",
              "<table border=\"1\" class=\"dataframe\">\n",
              "  <thead>\n",
              "    <tr style=\"text-align: right;\">\n",
              "      <th></th>\n",
              "      <th>Employee Name</th>\n",
              "    </tr>\n",
              "  </thead>\n",
              "  <tbody>\n",
              "    <tr>\n",
              "      <th>0</th>\n",
              "      <td>franklin</td>\n",
              "    </tr>\n",
              "  </tbody>\n",
              "</table>\n",
              "</div>"
            ],
            "text/plain": [
              "  Employee Name\n",
              "0      franklin"
            ]
          },
          "execution_count": 21,
          "metadata": {},
          "output_type": "execute_result"
        }
      ],
      "source": [
        "\"\"\"\n",
        "Q2: Who is the employee who makes over \"40000\" dollars a year \n",
        "    and works for the \"research\" department?\n",
        "\"\"\"\n",
        "\n",
        "# RUTU\n",
        "'''\n",
        "pd.read_sql_query(\"\"\"\n",
        "SELECT e.employee_name\n",
        "FROM employee e\n",
        "JOIN department d ON e.employee_name = d.employee_name\n",
        "JOIN salary s ON e.employee_name = s.employee_name\n",
        "WHERE d.department = 'research' \n",
        "    AND s.salary > 40000\n",
        "\"\"\", conn)\n",
        "'''\n",
        "\n",
        "# DRU\n",
        "pd.read_sql_query(\"\"\"\n",
        "                  SELECT e.employee_name AS 'Employee Name'\n",
        "                  FROM Employee AS e\n",
        "                  JOIN Department AS d \n",
        "                       ON e.employee_name = d.employee_name\n",
        "                  JOIN Salary AS s\n",
        "                       ON e.employee_name = s.employee_name\n",
        "                  WHERE department = 'research' AND salary > 40000;\n",
        "                  \"\"\", conn)"
      ]
    },
    {
      "cell_type": "code",
      "execution_count": 22,
      "id": "58a4e3ea",
      "metadata": {},
      "outputs": [
        {
          "data": {
            "text/html": [
              "<div>\n",
              "<style scoped>\n",
              "    .dataframe tbody tr th:only-of-type {\n",
              "        vertical-align: middle;\n",
              "    }\n",
              "\n",
              "    .dataframe tbody tr th {\n",
              "        vertical-align: top;\n",
              "    }\n",
              "\n",
              "    .dataframe thead th {\n",
              "        text-align: right;\n",
              "    }\n",
              "</style>\n",
              "<table border=\"1\" class=\"dataframe\">\n",
              "  <thead>\n",
              "    <tr style=\"text-align: right;\">\n",
              "      <th></th>\n",
              "      <th>President</th>\n",
              "    </tr>\n",
              "  </thead>\n",
              "  <tbody>\n",
              "    <tr>\n",
              "      <th>0</th>\n",
              "      <td>james</td>\n",
              "    </tr>\n",
              "  </tbody>\n",
              "</table>\n",
              "</div>"
            ],
            "text/plain": [
              "  President\n",
              "0     james"
            ]
          },
          "execution_count": 22,
          "metadata": {},
          "output_type": "execute_result"
        }
      ],
      "source": [
        "\"\"\"\n",
        "Q3: Who is the supreme chief of this fictional company (aka the President)?\n",
        "\"\"\"\n",
        "\n",
        "# RUTU\n",
        "'''\n",
        "pd.read_sql_query(\"\"\"\n",
        "SELECT e.employee_name\n",
        "FROM Employee e\n",
        "JOIN Supervise s ON e.employee_name = s.supervisor\n",
        "WHERE e.employee_name NOT IN (SELECT subordinate FROM Supervise)\n",
        "\"\"\", conn)\n",
        "'''\n",
        "\n",
        "# DRU\n",
        "pd.read_sql_query(\"\"\"\n",
        "                  SELECT e.employee_name AS 'President'\n",
        "                  FROM Employee as e\n",
        "                  WHERE e.employee_name NOT IN(SELECT subordinate \n",
        "                                               FROM Supervise);\n",
        "                  \"\"\", conn)\n"
      ]
    },
    {
      "cell_type": "code",
      "execution_count": 23,
      "id": "6b93c112",
      "metadata": {},
      "outputs": [
        {
          "data": {
            "text/html": [
              "<div>\n",
              "<style scoped>\n",
              "    .dataframe tbody tr th:only-of-type {\n",
              "        vertical-align: middle;\n",
              "    }\n",
              "\n",
              "    .dataframe tbody tr th {\n",
              "        vertical-align: top;\n",
              "    }\n",
              "\n",
              "    .dataframe thead th {\n",
              "        text-align: right;\n",
              "    }\n",
              "</style>\n",
              "<table border=\"1\" class=\"dataframe\">\n",
              "  <thead>\n",
              "    <tr style=\"text-align: right;\">\n",
              "      <th></th>\n",
              "      <th>Employee Name</th>\n",
              "    </tr>\n",
              "  </thead>\n",
              "  <tbody>\n",
              "    <tr>\n",
              "      <th>0</th>\n",
              "      <td>john</td>\n",
              "    </tr>\n",
              "    <tr>\n",
              "      <th>1</th>\n",
              "      <td>joyce</td>\n",
              "    </tr>\n",
              "  </tbody>\n",
              "</table>\n",
              "</div>"
            ],
            "text/plain": [
              "  Employee Name\n",
              "0          john\n",
              "1         joyce"
            ]
          },
          "execution_count": 23,
          "metadata": {},
          "output_type": "execute_result"
        }
      ],
      "source": [
        "\"\"\"\n",
        "Q4: Who are the individuals that work on project \"productx\" \n",
        "    with an effort of 20 or more hours a week?\n",
        "\"\"\"\n",
        "# RUTU\n",
        "'''\n",
        "pd.read_sql_query(\"\"\"\n",
        "                  SELECT e.employee_name AS 'Employee Name'\n",
        "                  FROM Employee AS e\n",
        "                  JOIN WorksOn AS w \n",
        "                       ON e.employee_name = w.name\n",
        "                  WHERE project = 'productx' \n",
        "                        AND effort >= 20;\n",
        "                  \"\"\", conn)\n",
        "'''\n",
        "# DRU\n",
        "pd.read_sql_query(\"\"\"\n",
        "                  SELECT e.employee_name AS 'Employee Name'\n",
        "                  FROM Employee AS e\n",
        "                  WHERE e.employee_name IN(SELECT name\n",
        "                                           FROM WorksOn\n",
        "                                           WHERE project = 'productx'\n",
        "                                           AND effort >= 20);\n",
        "                \"\"\", conn)\n"
      ]
    }
  ],
  "metadata": {
    "kernelspec": {
      "display_name": "Python 3.11.5 64-bit",
      "language": "python",
      "name": "python3"
    },
    "language_info": {
      "codemirror_mode": {
        "name": "ipython",
        "version": 3
      },
      "file_extension": ".py",
      "mimetype": "text/x-python",
      "name": "python",
      "nbconvert_exporter": "python",
      "pygments_lexer": "ipython3",
      "version": "3.11.5"
    },
    "vscode": {
      "interpreter": {
        "hash": "a033902857b606975e7b9fead89d584a47e87eb2c3283f171dec277b7a0d9952"
      }
    }
  },
  "nbformat": 4,
  "nbformat_minor": 5
}
