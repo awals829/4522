{
  "cells": [
    {
      "cell_type": "code",
      "execution_count": 257,
      "id": "38b894f8-aad2-4eda-9671-88ad5d537db0",
      "metadata": {
        "trusted": true
      },
      "outputs": [
        {
          "name": "stdout",
          "output_type": "stream",
          "text": [
            "Department Information:\n",
            "  Department_ID                 Department_Name         DOE\n",
            "0     IDEPT4670           Aerospace Engineering   5/31/1961\n",
            "1     IDEPT5528  Biosciences and Bioengineering   6/28/1943\n",
            "2     IDEPT3115            Chemical Engineering    5/1/1940\n",
            "3     IDEPT5881                       Chemistry    6/8/2013\n",
            "4     IDEPT4938               Civil Engineering  10/27/1941\n",
            "\n",
            "Employee Information:\n",
            "  Employee ID         DOB         DOJ Department_ID\n",
            "0    IU196557   2/23/1983  10/31/2009     IDEPT4938\n",
            "1    IU449901    9/2/1985    6/7/2009     IDEPT2357\n",
            "2    IU206427   7/30/1971    5/9/2008     IDEPT4670\n",
            "3    IU688905   7/20/1973   1/17/2002     IDEPT2601\n",
            "4    IU634582  11/16/1991   2/13/2000     IDEPT7626\n",
            "\n",
            "Student Counseling Information:\n",
            "    Student_ID       DOA        DOB Department_Choices Department_Admission\n",
            "0  SID20131143  7/1/2013   2/5/1996          IDEPT7783            IDEPT7783\n",
            "1  SID20131151  7/1/2013  7/31/1995          IDEPT6347            IDEPT6347\n",
            "2  SID20131171  7/1/2013   9/5/1995          IDEPT1836            IDEPT1836\n",
            "3  SID20131176  7/1/2013  1/12/1996          IDEPT8473            IDEPT8473\n",
            "4  SID20131177  7/1/2013  7/30/1995          IDEPT5528            IDEPT5528\n",
            "\n",
            "Student Performance Data:\n",
            "    Student_ID Semster_Name     Paper_ID Paper_Name  Marks  Effort_Hours\n",
            "0  SID20131143        Sem_1  SEMI0012995    Paper 1   44.0           5.0\n",
            "1  SID20131143        Sem_1  SEMI0015183    Paper 2   74.0           8.0\n",
            "2  SID20131143        Sem_1  SEMI0018371    Paper 3   80.0           8.0\n",
            "3  SID20131143        Sem_1  SEMI0015910    Paper 4   44.0           5.0\n",
            "4  SID20131143        Sem_1  SEMI0016208    Paper 5   95.0          12.0\n"
          ]
        }
      ],
      "source": [
        "import pandas as pd\n",
        "import matplotlib.pyplot as plt\n",
        "import numpy as np\n",
        "from sklearn.model_selection import train_test_split\n",
        "from sklearn.linear_model import LinearRegression\n",
        "from sklearn.metrics import mean_squared_error, r2_score\n",
        "\n",
        "_max_year_range = 2024\n",
        "_min_year_range = 1900\n",
        "\n",
        "# Read in the CSV files\n",
        "department_df = pd.read_csv('Department_Information.csv')\n",
        "employee_df = pd.read_csv('Employee_Information.csv')\n",
        "counseling_df = pd.read_csv('Student_Counceling_Information.csv')\n",
        "performance_df = pd.read_csv('Student_Performance_Data.csv')\n",
        "\n",
        "print(\"Department Information:\")\n",
        "print(department_df.head())\n",
        "\n",
        "print(\"\\nEmployee Information:\")\n",
        "print(employee_df.head())\n",
        "\n",
        "print(\"\\nStudent Counseling Information:\")\n",
        "print(counseling_df.head())\n",
        "\n",
        "print(\"\\nStudent Performance Data:\")\n",
        "print(performance_df.head())\n",
        "\n"
      ]
    },
    {
      "cell_type": "code",
      "execution_count": 258,
      "id": "45fa02d7",
      "metadata": {},
      "outputs": [
        {
          "data": {
            "text/html": [
              "<div>\n",
              "<style scoped>\n",
              "    .dataframe tbody tr th:only-of-type {\n",
              "        vertical-align: middle;\n",
              "    }\n",
              "\n",
              "    .dataframe tbody tr th {\n",
              "        vertical-align: top;\n",
              "    }\n",
              "\n",
              "    .dataframe thead th {\n",
              "        text-align: right;\n",
              "    }\n",
              "</style>\n",
              "<table border=\"1\" class=\"dataframe\">\n",
              "  <thead>\n",
              "    <tr style=\"text-align: right;\">\n",
              "      <th></th>\n",
              "      <th>Student_ID</th>\n",
              "      <th>Semster_Name</th>\n",
              "      <th>Paper_ID</th>\n",
              "      <th>Paper_Name</th>\n",
              "      <th>Marks</th>\n",
              "      <th>Effort_Hours</th>\n",
              "    </tr>\n",
              "  </thead>\n",
              "  <tbody>\n",
              "    <tr>\n",
              "      <th>count</th>\n",
              "      <td>209610</td>\n",
              "      <td>209610</td>\n",
              "      <td>209610</td>\n",
              "      <td>209609</td>\n",
              "      <td>209608.000000</td>\n",
              "      <td>209609.000000</td>\n",
              "    </tr>\n",
              "    <tr>\n",
              "      <th>unique</th>\n",
              "      <td>3819</td>\n",
              "      <td>8</td>\n",
              "      <td>56</td>\n",
              "      <td>7</td>\n",
              "      <td>NaN</td>\n",
              "      <td>NaN</td>\n",
              "    </tr>\n",
              "    <tr>\n",
              "      <th>top</th>\n",
              "      <td>SID20161237</td>\n",
              "      <td>Sem_7</td>\n",
              "      <td>SEMI0071868</td>\n",
              "      <td>Paper 6</td>\n",
              "      <td>NaN</td>\n",
              "      <td>NaN</td>\n",
              "    </tr>\n",
              "    <tr>\n",
              "      <th>freq</th>\n",
              "      <td>56</td>\n",
              "      <td>26236</td>\n",
              "      <td>3761</td>\n",
              "      <td>29975</td>\n",
              "      <td>NaN</td>\n",
              "      <td>NaN</td>\n",
              "    </tr>\n",
              "    <tr>\n",
              "      <th>mean</th>\n",
              "      <td>NaN</td>\n",
              "      <td>NaN</td>\n",
              "      <td>NaN</td>\n",
              "      <td>NaN</td>\n",
              "      <td>69.593546</td>\n",
              "      <td>8.085216</td>\n",
              "    </tr>\n",
              "    <tr>\n",
              "      <th>std</th>\n",
              "      <td>NaN</td>\n",
              "      <td>NaN</td>\n",
              "      <td>NaN</td>\n",
              "      <td>NaN</td>\n",
              "      <td>18.220346</td>\n",
              "      <td>2.797997</td>\n",
              "    </tr>\n",
              "    <tr>\n",
              "      <th>min</th>\n",
              "      <td>NaN</td>\n",
              "      <td>NaN</td>\n",
              "      <td>NaN</td>\n",
              "      <td>NaN</td>\n",
              "      <td>-100.000000</td>\n",
              "      <td>-3.000000</td>\n",
              "    </tr>\n",
              "    <tr>\n",
              "      <th>25%</th>\n",
              "      <td>NaN</td>\n",
              "      <td>NaN</td>\n",
              "      <td>NaN</td>\n",
              "      <td>NaN</td>\n",
              "      <td>54.000000</td>\n",
              "      <td>6.000000</td>\n",
              "    </tr>\n",
              "    <tr>\n",
              "      <th>50%</th>\n",
              "      <td>NaN</td>\n",
              "      <td>NaN</td>\n",
              "      <td>NaN</td>\n",
              "      <td>NaN</td>\n",
              "      <td>70.000000</td>\n",
              "      <td>7.000000</td>\n",
              "    </tr>\n",
              "    <tr>\n",
              "      <th>75%</th>\n",
              "      <td>NaN</td>\n",
              "      <td>NaN</td>\n",
              "      <td>NaN</td>\n",
              "      <td>NaN</td>\n",
              "      <td>85.000000</td>\n",
              "      <td>10.000000</td>\n",
              "    </tr>\n",
              "    <tr>\n",
              "      <th>max</th>\n",
              "      <td>NaN</td>\n",
              "      <td>NaN</td>\n",
              "      <td>NaN</td>\n",
              "      <td>NaN</td>\n",
              "      <td>999.000000</td>\n",
              "      <td>257.000000</td>\n",
              "    </tr>\n",
              "  </tbody>\n",
              "</table>\n",
              "</div>"
            ],
            "text/plain": [
              "         Student_ID Semster_Name     Paper_ID Paper_Name          Marks  \\\n",
              "count        209610       209610       209610     209609  209608.000000   \n",
              "unique         3819            8           56          7            NaN   \n",
              "top     SID20161237        Sem_7  SEMI0071868    Paper 6            NaN   \n",
              "freq             56        26236         3761      29975            NaN   \n",
              "mean            NaN          NaN          NaN        NaN      69.593546   \n",
              "std             NaN          NaN          NaN        NaN      18.220346   \n",
              "min             NaN          NaN          NaN        NaN    -100.000000   \n",
              "25%             NaN          NaN          NaN        NaN      54.000000   \n",
              "50%             NaN          NaN          NaN        NaN      70.000000   \n",
              "75%             NaN          NaN          NaN        NaN      85.000000   \n",
              "max             NaN          NaN          NaN        NaN     999.000000   \n",
              "\n",
              "         Effort_Hours  \n",
              "count   209609.000000  \n",
              "unique            NaN  \n",
              "top               NaN  \n",
              "freq              NaN  \n",
              "mean         8.085216  \n",
              "std          2.797997  \n",
              "min         -3.000000  \n",
              "25%          6.000000  \n",
              "50%          7.000000  \n",
              "75%         10.000000  \n",
              "max        257.000000  "
            ]
          },
          "execution_count": 258,
          "metadata": {},
          "output_type": "execute_result"
        }
      ],
      "source": [
        "performance_df.describe(include='all')"
      ]
    },
    {
      "cell_type": "code",
      "execution_count": 259,
      "id": "97e6a8d6",
      "metadata": {},
      "outputs": [
        {
          "name": "stdout",
          "output_type": "stream",
          "text": [
            "\n",
            "List of invalid 'Marks' (Mark < 0 OR Mark > 100) in 'Student Performance Data':\n",
            "         Student_ID Semster_Name     Paper_ID Paper_Name  Marks  Effort_Hours\n",
            "328     SID20131189        Sem_1  SEMI0015910    Paper 4  -49.0           0.0\n",
            "414     SID20131191        Sem_5  SEMI0055015    Paper 6  207.0          14.0\n",
            "551     SID20131231        Sem_1  SEMI0016208    Paper 5 -100.0          14.0\n",
            "840     SID20131303        Sem_3  SEMI0031818    Paper 4  140.0          14.0\n",
            "181488  SID20182774        Sem_8  SEMI0086600    Paper 6  999.0           5.0\n"
          ]
        }
      ],
      "source": [
        "print(\"\\nList of invalid 'Marks' (Mark < 0 OR Mark > 100) in 'Student Performance Data':\")\n",
        "invalid_marks_df = performance_df[(performance_df['Marks'] < 0) | (performance_df['Marks'] > 100)]\n",
        "print(invalid_marks_df)"
      ]
    },
    {
      "cell_type": "code",
      "execution_count": 260,
      "id": "94193a88",
      "metadata": {},
      "outputs": [
        {
          "name": "stdout",
          "output_type": "stream",
          "text": [
            "\n",
            "List of valid 'Marks' (Mark >= 0 AND Mark <= 100) in 'Student Performance Data':\n",
            "\n",
            "*** Total Dataframe size should be 209603 rows ***\n",
            "\n",
            "         Student_ID Semster_Name     Paper_ID Paper_Name  Marks  Effort_Hours\n",
            "0       SID20131143        Sem_1  SEMI0012995    Paper 1   44.0           5.0\n",
            "1       SID20131143        Sem_1  SEMI0015183    Paper 2   74.0           8.0\n",
            "2       SID20131143        Sem_1  SEMI0018371    Paper 3   80.0           8.0\n",
            "3       SID20131143        Sem_1  SEMI0015910    Paper 4   44.0           5.0\n",
            "4       SID20131143        Sem_1  SEMI0016208    Paper 5   95.0          12.0\n",
            "...             ...          ...          ...        ...    ...           ...\n",
            "209605  SID20189989        Sem_8  SEMI0082598    Paper 3   94.0          12.0\n",
            "209606  SID20189989        Sem_8  SEMI0088030    Paper 4   49.0           5.0\n",
            "209607  SID20189989        Sem_8  SEMI0081794    Paper 5   47.0         257.0\n",
            "209608  SID20189989        Sem_8  SEMI0086600    Paper 6   87.0          11.0\n",
            "209609  SID20189989        Sem_8  SEMI0083259    Paper 6   73.0           8.0\n",
            "\n",
            "[209603 rows x 6 columns]\n"
          ]
        }
      ],
      "source": [
        "''' Alternate DeMorgan Theorem Logic (Because why not) '''\n",
        "'''\n",
        "print(\"\\nList of valid 'Marks' (Mark >= 0 AND Mark <= 100) in 'Student Performance Data':\")\n",
        "invalid_marks_df != performance_df[(performance_df['Marks'] < 0) | (performance_df['Marks'] > 100)]\n",
        "print(invalid_marks_df)\n",
        "'''\n",
        "\n",
        "difference = (performance_df['Marks'].count() - invalid_marks_df['Marks'].count())\n",
        "print(\"\\nList of valid 'Marks' (Mark >= 0 AND Mark <= 100) in 'Student Performance Data':\")\n",
        "print(f\"\\n*** Total Dataframe size should be {difference} rows ***\\n\")\n",
        "valid_marks_df = performance_df[(performance_df['Marks'] >= 0) & (performance_df['Marks'] <= 100)]\n",
        "print(valid_marks_df)"
      ]
    },
    {
      "cell_type": "code",
      "execution_count": 261,
      "id": "06f1e4a8",
      "metadata": {},
      "outputs": [
        {
          "name": "stdout",
          "output_type": "stream",
          "text": [
            "\n",
            "List of invalid 'Effort_Hours' ('Effort_Hours' < 0) in 'Student Performance Data':\n",
            "        Student_ID Semster_Name     Paper_ID Paper_Name  Marks  Effort_Hours\n",
            "59635  SID20147406        Sem_6  SEMI0067259    Paper 2   78.0          -3.0\n"
          ]
        }
      ],
      "source": [
        "print(\"\\nList of invalid 'Effort_Hours' ('Effort_Hours' < 0) in 'Student Performance Data':\")\n",
        "invalid_effort_df = performance_df[(performance_df['Effort_Hours'] < 0)]\n",
        "print(invalid_effort_df)"
      ]
    },
    {
      "cell_type": "code",
      "execution_count": 262,
      "id": "c9bd91d4",
      "metadata": {},
      "outputs": [
        {
          "name": "stdout",
          "output_type": "stream",
          "text": [
            "\n",
            "List of valid 'Effort_Hours' ('Effort_Hours' >= 0) in 'Student Performance Data':\n",
            "\n",
            "*** Total Dataframe size should be 209608 rows ***\n",
            "\n",
            "         Student_ID Semster_Name     Paper_ID Paper_Name  Marks  Effort_Hours\n",
            "0       SID20131143        Sem_1  SEMI0012995    Paper 1   44.0           5.0\n",
            "1       SID20131143        Sem_1  SEMI0015183    Paper 2   74.0           8.0\n",
            "2       SID20131143        Sem_1  SEMI0018371    Paper 3   80.0           8.0\n",
            "3       SID20131143        Sem_1  SEMI0015910    Paper 4   44.0           5.0\n",
            "4       SID20131143        Sem_1  SEMI0016208    Paper 5   95.0          12.0\n",
            "...             ...          ...          ...        ...    ...           ...\n",
            "209605  SID20189989        Sem_8  SEMI0082598    Paper 3   94.0          12.0\n",
            "209606  SID20189989        Sem_8  SEMI0088030    Paper 4   49.0           5.0\n",
            "209607  SID20189989        Sem_8  SEMI0081794    Paper 5   47.0         257.0\n",
            "209608  SID20189989        Sem_8  SEMI0086600    Paper 6   87.0          11.0\n",
            "209609  SID20189989        Sem_8  SEMI0083259    Paper 6   73.0           8.0\n",
            "\n",
            "[209608 rows x 6 columns]\n"
          ]
        }
      ],
      "source": [
        "difference = (performance_df['Effort_Hours'].count() - invalid_effort_df['Effort_Hours'].count())\n",
        "print(\"\\nList of valid 'Effort_Hours' ('Effort_Hours' >= 0) in 'Student Performance Data':\")\n",
        "print(f\"\\n*** Total Dataframe size should be {difference} rows ***\\n\")\n",
        "valid_effort_df = performance_df[(performance_df['Effort_Hours'] >= 0)]\n",
        "print(valid_effort_df)"
      ]
    },
    {
      "cell_type": "code",
      "execution_count": 264,
      "id": "5b82f5ad",
      "metadata": {},
      "outputs": [
        {
          "name": "stdout",
          "output_type": "stream",
          "text": [
            "\n",
            "Count of missing values before drop in 'Student Performance Data':\n",
            "Student_ID      0\n",
            "Semster_Name    0\n",
            "Paper_ID        0\n",
            "Paper_Name      0\n",
            "Marks           0\n",
            "Effort_Hours    0\n",
            "dtype: int64\n",
            "\n",
            "Removed values are:\n",
            "Empty DataFrame\n",
            "Columns: [Student_ID, Semster_Name, Paper_ID, Paper_Name, Marks, Effort_Hours]\n",
            "Index: []\n",
            "\n",
            "Count of missing values after drop in 'Student Performance Data':\n",
            "Student_ID      0\n",
            "Semster_Name    0\n",
            "Paper_ID        0\n",
            "Paper_Name      0\n",
            "Marks           0\n",
            "Effort_Hours    0\n",
            "dtype: int64\n",
            "           Student_ID Semster_Name_x   Paper_ID_x Paper_Name_x  Marks_x  \\\n",
            "0         SID20131143          Sem_1  SEMI0012995      Paper 1     44.0   \n",
            "1         SID20131143          Sem_1  SEMI0012995      Paper 1     44.0   \n",
            "2         SID20131143          Sem_1  SEMI0012995      Paper 1     44.0   \n",
            "3         SID20131143          Sem_1  SEMI0012995      Paper 1     44.0   \n",
            "4         SID20131143          Sem_1  SEMI0012995      Paper 1     44.0   \n",
            "...               ...            ...          ...          ...      ...   \n",
            "11508371  SID20189989          Sem_8  SEMI0083259      Paper 6     73.0   \n",
            "11508372  SID20189989          Sem_8  SEMI0083259      Paper 6     73.0   \n",
            "11508373  SID20189989          Sem_8  SEMI0083259      Paper 6     73.0   \n",
            "11508374  SID20189989          Sem_8  SEMI0083259      Paper 6     73.0   \n",
            "11508375  SID20189989          Sem_8  SEMI0083259      Paper 6     73.0   \n",
            "\n",
            "          Effort_Hours_x Semster_Name_y   Paper_ID_y Paper_Name_y  Marks_y  \\\n",
            "0                    5.0          Sem_1  SEMI0012995      Paper 1     44.0   \n",
            "1                    5.0          Sem_1  SEMI0015183      Paper 2     74.0   \n",
            "2                    5.0          Sem_1  SEMI0018371      Paper 3     80.0   \n",
            "3                    5.0          Sem_1  SEMI0015910      Paper 4     44.0   \n",
            "4                    5.0          Sem_1  SEMI0016208      Paper 5     95.0   \n",
            "...                  ...            ...          ...          ...      ...   \n",
            "11508371             8.0          Sem_8  SEMI0082598      Paper 3     94.0   \n",
            "11508372             8.0          Sem_8  SEMI0088030      Paper 4     49.0   \n",
            "11508373             8.0          Sem_8  SEMI0081794      Paper 5     47.0   \n",
            "11508374             8.0          Sem_8  SEMI0086600      Paper 6     87.0   \n",
            "11508375             8.0          Sem_8  SEMI0083259      Paper 6     73.0   \n",
            "\n",
            "          Effort_Hours_y  \n",
            "0                    5.0  \n",
            "1                    8.0  \n",
            "2                    8.0  \n",
            "3                    5.0  \n",
            "4                   12.0  \n",
            "...                  ...  \n",
            "11508371            12.0  \n",
            "11508372             5.0  \n",
            "11508373           257.0  \n",
            "11508374            11.0  \n",
            "11508375             8.0  \n",
            "\n",
            "[11508376 rows x 11 columns]\n"
          ]
        }
      ],
      "source": [
        "null_mask = performance_df.isnull().any(axis=1)\n",
        "print(\"\\nCount of missing values before drop in 'Student Performance Data':\")\n",
        "print(performance_df.isnull().sum())\n",
        "print(\"\\nRemoved values are:\")\n",
        "print(performance_df[null_mask])\n",
        "performance_df.dropna(how='any', inplace=True)\n",
        "print(\"\\nCount of missing values after drop in 'Student Performance Data':\")\n",
        "print(performance_df.isnull().sum())\n",
        "\n",
        "cleaned_performance_df = pd.merge(valid_marks_df, valid_effort_df, on='Student_ID', how='left')\n",
        "print(cleaned_performance_df)\n"
      ]
    },
    {
      "cell_type": "code",
      "execution_count": null,
      "id": "4195ade3",
      "metadata": {},
      "outputs": [
        {
          "data": {
            "text/plain": [
              "<Axes: title={'center': 'blah'}, xlabel='Effort_Hours', ylabel='Marks'>"
            ]
          },
          "execution_count": 240,
          "metadata": {},
          "output_type": "execute_result"
        },
        {
          "data": {
            "image/png": "[encoded data removed]",
            "text/plain": [
              "<Figure size 640x480 with 1 Axes>"
            ]
          },
          "metadata": {},
          "output_type": "display_data"
        }
      ],
      "source": [
        "performance_df.plot.scatter(x='Effort_Hours', y='Marks', title='blah')"
      ]
    }
  ],
  "metadata": {
    "kernelspec": {
      "display_name": "Python 3.12.2 64-bit",
      "language": "python",
      "name": "python3"
    },
    "language_info": {
      "codemirror_mode": {
        "name": "ipython",
        "version": 3
      },
      "file_extension": ".py",
      "mimetype": "text/x-python",
      "name": "python",
      "nbconvert_exporter": "python",
      "pygments_lexer": "ipython3",
      "version": "3.12.2"
    },
    "vscode": {
      "interpreter": {
        "hash": "a45359cc4536f02b2f56388aac8bc3b27fd55f1e1d120c6f98869d988eda6b99"
      }
    }
  },
  "nbformat": 4,
  "nbformat_minor": 5
}
