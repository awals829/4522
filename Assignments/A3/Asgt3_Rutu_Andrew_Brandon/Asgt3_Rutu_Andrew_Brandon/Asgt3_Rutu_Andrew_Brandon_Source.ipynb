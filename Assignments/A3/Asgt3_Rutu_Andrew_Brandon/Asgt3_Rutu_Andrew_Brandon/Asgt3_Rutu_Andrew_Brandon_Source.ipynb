{
  "cells": [
    {
      "cell_type": "raw",
      "id": "9a502a3f-fb5f-44aa-9351-a5107d3aca2e",
      "metadata": {},
      "source": [
        "Name: Assignment 3\n",
        "Course: COMP 4522 Advanced Databases\n",
        "Professor: Orestes Appel\n",
        "Group: Rutu Karavadra, Andrew Walsh, Brandon Kern\n",
        "Due Date: April 5, 2024 @11:59 pm (as requested via email)\n",
        "\n",
        "***** Please note, this program should be run in its full entirety in order to achieve proper outputs *****"
      ]
    },
    {
      "cell_type": "code",
      "execution_count": 48,
      "id": "72933f37-0014-4f0a-a10c-85198568f742",
      "metadata": {
        "trusted": true
      },
      "outputs": [],
      "source": [
        "import pandas as pd\n",
        "import matplotlib.pyplot as plt\n",
        "import numpy as np\n",
        "from sklearn.model_selection import train_test_split\n",
        "from sklearn.linear_model import LinearRegression\n",
        "from sklearn.metrics import mean_squared_error, r2_score\n",
        "from sklearn.preprocessing import StandardScaler\n"
      ]
    },
    {
      "cell_type": "code",
      "execution_count": 49,
      "id": "ba717a01-d783-4976-8eb7-f20f171372f6",
      "metadata": {
        "trusted": true
      },
      "outputs": [
        {
          "name": "stdout",
          "output_type": "stream",
          "text": [
            "Department Information:\n",
            "  Department_ID                 Department_Name         DOE\n",
            "0     IDEPT4670           Aerospace Engineering   5/31/1961\n",
            "1     IDEPT5528  Biosciences and Bioengineering   6/28/1943\n",
            "2     IDEPT3115            Chemical Engineering    5/1/1940\n",
            "3     IDEPT5881                       Chemistry    6/8/2013\n",
            "4     IDEPT4938               Civil Engineering  10/27/1941\n",
            "\n",
            "Employee Information:\n",
            "  Employee ID         DOB         DOJ Department_ID\n",
            "0    IU196557   2/23/1983  10/31/2009     IDEPT4938\n",
            "1    IU449901    9/2/1985    6/7/2009     IDEPT2357\n",
            "2    IU206427   7/30/1971    5/9/2008     IDEPT4670\n",
            "3    IU688905   7/20/1973   1/17/2002     IDEPT2601\n",
            "4    IU634582  11/16/1991   2/13/2000     IDEPT7626\n",
            "\n",
            "Student Counseling Information:\n",
            "    Student_ID       DOA        DOB Department_Choices Department_Admission\n",
            "0  SID20131143  7/1/2013   2/5/1996          IDEPT7783            IDEPT7783\n",
            "1  SID20131151  7/1/2013  7/31/1995          IDEPT6347            IDEPT6347\n",
            "2  SID20131171  7/1/2013   9/5/1995          IDEPT1836            IDEPT1836\n",
            "3  SID20131176  7/1/2013  1/12/1996          IDEPT8473            IDEPT8473\n",
            "4  SID20131177  7/1/2013  7/30/1995          IDEPT5528            IDEPT5528\n",
            "\n",
            "Student Performance Data:\n",
            "    Student_ID Semster_Name     Paper_ID Paper_Name  Marks  Effort_Hours\n",
            "0  SID20131143        Sem_1  SEMI0012995    Paper 1   44.0           5.0\n",
            "1  SID20131143        Sem_1  SEMI0015183    Paper 2   74.0           8.0\n",
            "2  SID20131143        Sem_1  SEMI0018371    Paper 3   80.0           8.0\n",
            "3  SID20131143        Sem_1  SEMI0015910    Paper 4   44.0           5.0\n",
            "4  SID20131143        Sem_1  SEMI0016208    Paper 5   95.0          12.0\n"
          ]
        }
      ],
      "source": [
        "\n",
        "# Read in the extracted data from CSV files\n",
        "department_df = pd.read_csv('Department_Information.csv')\n",
        "employee_df = pd.read_csv('Employee_Information.csv')\n",
        "counseling_df = pd.read_csv('Student_Counceling_Information.csv')\n",
        "performance_df = pd.read_csv('Student_Performance_Data.csv')\n",
        "\n",
        "print(\"Department Information:\")\n",
        "print(department_df.head())\n",
        "\n",
        "print(\"\\nEmployee Information:\")\n",
        "print(employee_df.head())\n",
        "\n",
        "print(\"\\nStudent Counseling Information:\")\n",
        "print(counseling_df.head())\n",
        "\n",
        "print(\"\\nStudent Performance Data:\")\n",
        "print(performance_df.head())\n"
      ]
    },
    {
      "cell_type": "code",
      "execution_count": 50,
      "id": "c7e58053-c865-4c5c-8651-700c27f8f549",
      "metadata": {
        "trusted": true
      },
      "outputs": [
        {
          "data": {
            "text/html": [
              "<div>\n",
              "<style scoped>\n",
              "    .dataframe tbody tr th:only-of-type {\n",
              "        vertical-align: middle;\n",
              "    }\n",
              "\n",
              "    .dataframe tbody tr th {\n",
              "        vertical-align: top;\n",
              "    }\n",
              "\n",
              "    .dataframe thead th {\n",
              "        text-align: right;\n",
              "    }\n",
              "</style>\n",
              "<table border=\"1\" class=\"dataframe\">\n",
              "  <thead>\n",
              "    <tr style=\"text-align: right;\">\n",
              "      <th></th>\n",
              "      <th>Student_ID</th>\n",
              "      <th>Semster_Name</th>\n",
              "      <th>Paper_ID</th>\n",
              "      <th>Paper_Name</th>\n",
              "      <th>Marks</th>\n",
              "      <th>Effort_Hours</th>\n",
              "    </tr>\n",
              "  </thead>\n",
              "  <tbody>\n",
              "    <tr>\n",
              "      <th>count</th>\n",
              "      <td>209610</td>\n",
              "      <td>209610</td>\n",
              "      <td>209610</td>\n",
              "      <td>209609</td>\n",
              "      <td>209608.000000</td>\n",
              "      <td>209609.000000</td>\n",
              "    </tr>\n",
              "    <tr>\n",
              "      <th>unique</th>\n",
              "      <td>3819</td>\n",
              "      <td>8</td>\n",
              "      <td>56</td>\n",
              "      <td>7</td>\n",
              "      <td>NaN</td>\n",
              "      <td>NaN</td>\n",
              "    </tr>\n",
              "    <tr>\n",
              "      <th>top</th>\n",
              "      <td>SID20161237</td>\n",
              "      <td>Sem_7</td>\n",
              "      <td>SEMI0071868</td>\n",
              "      <td>Paper 6</td>\n",
              "      <td>NaN</td>\n",
              "      <td>NaN</td>\n",
              "    </tr>\n",
              "    <tr>\n",
              "      <th>freq</th>\n",
              "      <td>56</td>\n",
              "      <td>26236</td>\n",
              "      <td>3761</td>\n",
              "      <td>29975</td>\n",
              "      <td>NaN</td>\n",
              "      <td>NaN</td>\n",
              "    </tr>\n",
              "    <tr>\n",
              "      <th>mean</th>\n",
              "      <td>NaN</td>\n",
              "      <td>NaN</td>\n",
              "      <td>NaN</td>\n",
              "      <td>NaN</td>\n",
              "      <td>69.593546</td>\n",
              "      <td>8.085216</td>\n",
              "    </tr>\n",
              "    <tr>\n",
              "      <th>std</th>\n",
              "      <td>NaN</td>\n",
              "      <td>NaN</td>\n",
              "      <td>NaN</td>\n",
              "      <td>NaN</td>\n",
              "      <td>18.220346</td>\n",
              "      <td>2.797997</td>\n",
              "    </tr>\n",
              "    <tr>\n",
              "      <th>min</th>\n",
              "      <td>NaN</td>\n",
              "      <td>NaN</td>\n",
              "      <td>NaN</td>\n",
              "      <td>NaN</td>\n",
              "      <td>-100.000000</td>\n",
              "      <td>-3.000000</td>\n",
              "    </tr>\n",
              "    <tr>\n",
              "      <th>25%</th>\n",
              "      <td>NaN</td>\n",
              "      <td>NaN</td>\n",
              "      <td>NaN</td>\n",
              "      <td>NaN</td>\n",
              "      <td>54.000000</td>\n",
              "      <td>6.000000</td>\n",
              "    </tr>\n",
              "    <tr>\n",
              "      <th>50%</th>\n",
              "      <td>NaN</td>\n",
              "      <td>NaN</td>\n",
              "      <td>NaN</td>\n",
              "      <td>NaN</td>\n",
              "      <td>70.000000</td>\n",
              "      <td>7.000000</td>\n",
              "    </tr>\n",
              "    <tr>\n",
              "      <th>75%</th>\n",
              "      <td>NaN</td>\n",
              "      <td>NaN</td>\n",
              "      <td>NaN</td>\n",
              "      <td>NaN</td>\n",
              "      <td>85.000000</td>\n",
              "      <td>10.000000</td>\n",
              "    </tr>\n",
              "    <tr>\n",
              "      <th>max</th>\n",
              "      <td>NaN</td>\n",
              "      <td>NaN</td>\n",
              "      <td>NaN</td>\n",
              "      <td>NaN</td>\n",
              "      <td>999.000000</td>\n",
              "      <td>257.000000</td>\n",
              "    </tr>\n",
              "  </tbody>\n",
              "</table>\n",
              "</div>"
            ],
            "text/plain": [
              "         Student_ID Semster_Name     Paper_ID Paper_Name          Marks  \\\n",
              "count        209610       209610       209610     209609  209608.000000   \n",
              "unique         3819            8           56          7            NaN   \n",
              "top     SID20161237        Sem_7  SEMI0071868    Paper 6            NaN   \n",
              "freq             56        26236         3761      29975            NaN   \n",
              "mean            NaN          NaN          NaN        NaN      69.593546   \n",
              "std             NaN          NaN          NaN        NaN      18.220346   \n",
              "min             NaN          NaN          NaN        NaN    -100.000000   \n",
              "25%             NaN          NaN          NaN        NaN      54.000000   \n",
              "50%             NaN          NaN          NaN        NaN      70.000000   \n",
              "75%             NaN          NaN          NaN        NaN      85.000000   \n",
              "max             NaN          NaN          NaN        NaN     999.000000   \n",
              "\n",
              "         Effort_Hours  \n",
              "count   209609.000000  \n",
              "unique            NaN  \n",
              "top               NaN  \n",
              "freq              NaN  \n",
              "mean         8.085216  \n",
              "std          2.797997  \n",
              "min         -3.000000  \n",
              "25%          6.000000  \n",
              "50%          7.000000  \n",
              "75%         10.000000  \n",
              "max        257.000000  "
            ]
          },
          "execution_count": 50,
          "metadata": {},
          "output_type": "execute_result"
        }
      ],
      "source": [
        "performance_df.describe(include='all')\n",
        "\n",
        "# please note these NaN values indicate that numeric data types cannot be applied to categorical data, unless the cateforical data is given a numeric type"
      ]
    },
    {
      "cell_type": "code",
      "execution_count": 51,
      "id": "c095d8b8-36f5-45d7-a39b-e9e1364affdc",
      "metadata": {
        "trusted": true
      },
      "outputs": [
        {
          "name": "stdout",
          "output_type": "stream",
          "text": [
            "\n",
            "List of invalid 'Marks' (Mark < 0 OR Mark > 100) in 'Student Performance Data':\n",
            "         Student_ID Semster_Name     Paper_ID Paper_Name  Marks  Effort_Hours\n",
            "328     SID20131189        Sem_1  SEMI0015910    Paper 4  -49.0           0.0\n",
            "414     SID20131191        Sem_5  SEMI0055015    Paper 6  207.0          14.0\n",
            "551     SID20131231        Sem_1  SEMI0016208    Paper 5 -100.0          14.0\n",
            "840     SID20131303        Sem_3  SEMI0031818    Paper 4  140.0          14.0\n",
            "181488  SID20182774        Sem_8  SEMI0086600    Paper 6  999.0           5.0\n"
          ]
        }
      ],
      "source": [
        "print(\"\\nList of invalid 'Marks' (Mark < 0 OR Mark > 100) in 'Student Performance Data':\")\n",
        "invalid_marks_df = performance_df[(performance_df['Marks'] < 0) | (performance_df['Marks'] > 100)]\n",
        "print(invalid_marks_df)"
      ]
    },
    {
      "cell_type": "code",
      "execution_count": 52,
      "id": "59eefdd7-d3e9-4dca-b9a8-c59ea397842b",
      "metadata": {
        "trusted": true
      },
      "outputs": [
        {
          "name": "stdout",
          "output_type": "stream",
          "text": [
            "\n",
            "List of valid 'Marks' (Mark >= 0 AND Mark <= 100) in 'Student Performance Data':\n",
            "\n",
            "*** Total Dataframe size should be 209603 rows ***\n",
            "\n",
            "         Student_ID Semster_Name     Paper_ID Paper_Name  Marks  Effort_Hours\n",
            "0       SID20131143        Sem_1  SEMI0012995    Paper 1   44.0           5.0\n",
            "1       SID20131143        Sem_1  SEMI0015183    Paper 2   74.0           8.0\n",
            "2       SID20131143        Sem_1  SEMI0018371    Paper 3   80.0           8.0\n",
            "3       SID20131143        Sem_1  SEMI0015910    Paper 4   44.0           5.0\n",
            "4       SID20131143        Sem_1  SEMI0016208    Paper 5   95.0          12.0\n",
            "...             ...          ...          ...        ...    ...           ...\n",
            "209605  SID20189989        Sem_8  SEMI0082598    Paper 3   94.0          12.0\n",
            "209606  SID20189989        Sem_8  SEMI0088030    Paper 4   49.0           5.0\n",
            "209607  SID20189989        Sem_8  SEMI0081794    Paper 5   47.0         257.0\n",
            "209608  SID20189989        Sem_8  SEMI0086600    Paper 6   87.0          11.0\n",
            "209609  SID20189989        Sem_8  SEMI0083259    Paper 6   73.0           8.0\n",
            "\n",
            "[209603 rows x 6 columns]\n"
          ]
        }
      ],
      "source": [
        "''' Alternate DeMorgan Theorem Logic (Because why not) '''\n",
        "'''\n",
        "print(\"\\nList of valid 'Marks' (Mark >= 0 AND Mark <= 100) in 'Student Performance Data':\")\n",
        "invalid_marks_df != performance_df[(performance_df['Marks'] < 0) | (performance_df['Marks'] > 100)]\n",
        "print(invalid_marks_df)\n",
        "'''\n",
        "\n",
        "difference = (performance_df['Marks'].count() - invalid_marks_df['Marks'].count())\n",
        "print(\"\\nList of valid 'Marks' (Mark >= 0 AND Mark <= 100) in 'Student Performance Data':\")\n",
        "print(f\"\\n*** Total Dataframe size should be {difference} rows ***\\n\")\n",
        "valid_marks_df = performance_df[(performance_df['Marks'] >= 0) & (performance_df['Marks'] <= 100)]\n",
        "print(valid_marks_df)"
      ]
    },
    {
      "cell_type": "code",
      "execution_count": 53,
      "id": "fdc47e9c-5d7d-4709-9ccc-850e0c1d3a03",
      "metadata": {
        "trusted": true
      },
      "outputs": [
        {
          "name": "stdout",
          "output_type": "stream",
          "text": [
            "\n",
            "Count of missing values before drop in 'Student Performance Data':\n",
            "Student_ID      0\n",
            "Semster_Name    0\n",
            "Paper_ID        0\n",
            "Paper_Name      1\n",
            "Marks           0\n",
            "Effort_Hours    0\n",
            "dtype: int64\n",
            "\n",
            "Removed values are:\n",
            "      Student_ID Semster_Name     Paper_ID Paper_Name  Marks  Effort_Hours\n",
            "125  SID20131171        Sem_3  SEMI0031818        NaN   87.0          11.0\n",
            "\n",
            "Count of missing values after drop in 'Student Performance Data':\n",
            "Student_ID      0\n",
            "Semster_Name    0\n",
            "Paper_ID        0\n",
            "Paper_Name      0\n",
            "Marks           0\n",
            "Effort_Hours    0\n",
            "dtype: int64\n"
          ]
        }
      ],
      "source": [
        "# This is to remove the missing values from any column\n",
        "# We did a copy of the valid_marks_df due to a strange warning indicating that there could be a future issue with simply manpulting the prior cell's dataframe\n",
        "\n",
        "valid_marks_df = valid_marks_df.copy()\n",
        "\n",
        "null_mask = valid_marks_df.isnull().any(axis=1)\n",
        "print(\"\\nCount of missing values before drop in 'Student Performance Data':\")\n",
        "print(valid_marks_df.isnull().sum())\n",
        "print(\"\\nRemoved values are:\")\n",
        "print(valid_marks_df[null_mask])\n",
        "print(\"\\nCount of missing values after drop in 'Student Performance Data':\")\n",
        "print(valid_marks_df.isnull().sum())"
      ]
    },
    {
      "cell_type": "code",
      "execution_count": 54,
      "id": "4fa37a2a-758f-4554-86ad-b5fe08827436",
      "metadata": {
        "trusted": true
      },
      "outputs": [
        {
          "name": "stdout",
          "output_type": "stream",
          "text": [
            "\n",
            "List of invalid 'Effort_Hours' ('Effort_Hours' < 0) in 'Student Performance Data':\n",
            "        Student_ID Semster_Name     Paper_ID Paper_Name  Marks  Effort_Hours\n",
            "59635  SID20147406        Sem_6  SEMI0067259    Paper 2   78.0          -3.0\n"
          ]
        }
      ],
      "source": [
        "print(\"\\nList of invalid 'Effort_Hours' ('Effort_Hours' < 0) in 'Student Performance Data':\")\n",
        "invalid_effort_df = valid_marks_df[(valid_marks_df['Effort_Hours'] < 0)]\n",
        "print(invalid_effort_df)"
      ]
    },
    {
      "cell_type": "code",
      "execution_count": 55,
      "id": "48cfbf3c-e9ed-4bc7-b7d0-5a18a97b7d9b",
      "metadata": {
        "trusted": true
      },
      "outputs": [
        {
          "name": "stdout",
          "output_type": "stream",
          "text": [
            "\n",
            "List of valid 'Effort_Hours' ('Effort_Hours' >= 0) in 'Student Performance Data':\n",
            "\n",
            "*** Total Dataframe size should be 209601 rows ***\n",
            "\n",
            "         Student_ID Semster_Name     Paper_ID Paper_Name  Marks  Effort_Hours\n",
            "0       SID20131143        Sem_1  SEMI0012995    Paper 1   44.0           5.0\n",
            "1       SID20131143        Sem_1  SEMI0015183    Paper 2   74.0           8.0\n",
            "2       SID20131143        Sem_1  SEMI0018371    Paper 3   80.0           8.0\n",
            "3       SID20131143        Sem_1  SEMI0015910    Paper 4   44.0           5.0\n",
            "4       SID20131143        Sem_1  SEMI0016208    Paper 5   95.0          12.0\n",
            "...             ...          ...          ...        ...    ...           ...\n",
            "209605  SID20189989        Sem_8  SEMI0082598    Paper 3   94.0          12.0\n",
            "209606  SID20189989        Sem_8  SEMI0088030    Paper 4   49.0           5.0\n",
            "209607  SID20189989        Sem_8  SEMI0081794    Paper 5   47.0         257.0\n",
            "209608  SID20189989        Sem_8  SEMI0086600    Paper 6   87.0          11.0\n",
            "209609  SID20189989        Sem_8  SEMI0083259    Paper 6   73.0           8.0\n",
            "\n",
            "[209601 rows x 6 columns]\n"
          ]
        }
      ],
      "source": [
        "difference = (valid_marks_df['Effort_Hours'].count() - invalid_effort_df['Effort_Hours'].count())\n",
        "print(\"\\nList of valid 'Effort_Hours' ('Effort_Hours' >= 0) in 'Student Performance Data':\")\n",
        "print(f\"\\n*** Total Dataframe size should be {difference} rows ***\\n\")\n",
        "valid_effort_df = valid_marks_df[(valid_marks_df['Effort_Hours'] >= 0)]\n",
        "print(valid_effort_df)"
      ]
    },
    {
      "cell_type": "code",
      "execution_count": 56,
      "id": "3802b771-3849-4737-ab93-155fe488cb60",
      "metadata": {
        "trusted": true
      },
      "outputs": [
        {
          "name": "stdout",
          "output_type": "stream",
          "text": [
            "\n",
            "Count of missing values before drop in 'Student Performance Data':\n",
            "Student_ID      0\n",
            "Semster_Name    0\n",
            "Paper_ID        0\n",
            "Paper_Name      0\n",
            "Marks           0\n",
            "Effort_Hours    0\n",
            "dtype: int64\n",
            "\n",
            "Removed values are:\n",
            "Empty DataFrame\n",
            "Columns: [Student_ID, Semster_Name, Paper_ID, Paper_Name, Marks, Effort_Hours]\n",
            "Index: []\n",
            "\n",
            "Count of missing values after drop in 'Student Performance Data':\n",
            "Student_ID      0\n",
            "Semster_Name    0\n",
            "Paper_ID        0\n",
            "Paper_Name      0\n",
            "Marks           0\n",
            "Effort_Hours    0\n",
            "dtype: int64\n"
          ]
        }
      ],
      "source": [
        "valid_effort_df = valid_effort_df.copy()\n",
        "\n",
        "null_mask = valid_effort_df.isnull().any(axis=1)\n",
        "print(\"\\nCount of missing values before drop in 'Student Performance Data':\")\n",
        "print(valid_effort_df.isnull().sum())\n",
        "print(\"\\nRemoved values are:\")\n",
        "print(valid_effort_df[null_mask])\n",
        "valid_effort_df.dropna(how='any', inplace=True)\n",
        "print(\"\\nCount of missing values after drop in 'Student Performance Data':\")\n",
        "print(valid_effort_df.isnull().sum())\n",
        "\n"
      ]
    },
    {
      "cell_type": "code",
      "execution_count": 57,
      "id": "dc47e628-5588-494f-bbab-677a09605db9",
      "metadata": {
        "trusted": true
      },
      "outputs": [
        {
          "name": "stdout",
          "output_type": "stream",
          "text": [
            "Rows to delete:\n",
            "         Student_ID Semster_Name     Paper_ID Paper_Name  Marks  Effort_Hours\n",
            "209607  SID20189989        Sem_8  SEMI0081794    Paper 5   47.0         257.0\n"
          ]
        }
      ],
      "source": [
        "# There is one outlier in the Student_Performance_Information data set, specifically where the Effort_Hours are 257 hours and the mark is 47\n",
        "# We have taken the liberty of removing this specific point as it was terribly skewing the graphs and visualizations\n",
        "# to a point that it was difficult to understand the data\n",
        "# This specific data point is one that definiately seems errorneous and an outlier compared to the other points\n",
        "# hence may affect the predictive model in a unforeseen manner too. \n",
        "\n",
        "valid_effort_df = valid_effort_df.copy()\n",
        "\n",
        "rows_to_delete = valid_effort_df[valid_effort_df['Effort_Hours'] == 257]\n",
        "\n",
        "print(\"Rows to delete:\")\n",
        "print(rows_to_delete)\n",
        "\n",
        "valid_effort_df.drop(rows_to_delete.index, inplace=True)\n"
      ]
    },
    {
      "cell_type": "code",
      "execution_count": 58,
      "id": "1fda58d7-2581-45a2-a80d-cd65ed428fde",
      "metadata": {
        "trusted": true
      },
      "outputs": [
        {
          "name": "stdout",
          "output_type": "stream",
          "text": [
            "         Student_ID Semster_Name     Paper_ID Paper_Name  Marks  Effort_Hours\n",
            "0       SID20131143        Sem_1  SEMI0012995    Paper 1   44.0           5.0\n",
            "1       SID20131143        Sem_1  SEMI0015183    Paper 2   74.0           8.0\n",
            "2       SID20131143        Sem_1  SEMI0018371    Paper 3   80.0           8.0\n",
            "3       SID20131143        Sem_1  SEMI0015910    Paper 4   44.0           5.0\n",
            "4       SID20131143        Sem_1  SEMI0016208    Paper 5   95.0          12.0\n",
            "...             ...          ...          ...        ...    ...           ...\n",
            "209604  SID20189989        Sem_8  SEMI0081989    Paper 2   97.0          13.0\n",
            "209605  SID20189989        Sem_8  SEMI0082598    Paper 3   94.0          12.0\n",
            "209606  SID20189989        Sem_8  SEMI0088030    Paper 4   49.0           5.0\n",
            "209608  SID20189989        Sem_8  SEMI0086600    Paper 6   87.0          11.0\n",
            "209609  SID20189989        Sem_8  SEMI0083259    Paper 6   73.0           8.0\n",
            "\n",
            "[209600 rows x 6 columns]\n"
          ]
        }
      ],
      "source": [
        "cleaned_performance_df = valid_effort_df\n",
        "print(cleaned_performance_df)"
      ]
    },
    {
      "cell_type": "code",
      "execution_count": 59,
      "id": "b0241d27-4e7a-4549-a8fa-1869afe4d11f",
      "metadata": {
        "trusted": true
      },
      "outputs": [
        {
          "data": {
            "text/plain": [
              "(209600, 6)"
            ]
          },
          "execution_count": 59,
          "metadata": {},
          "output_type": "execute_result"
        }
      ],
      "source": [
        "cleaned_performance_df.shape"
      ]
    },
    {
      "cell_type": "code",
      "execution_count": 60,
      "id": "05208da9-cb78-4a30-9770-46619863209d",
      "metadata": {
        "trusted": true
      },
      "outputs": [
        {
          "name": "stdout",
          "output_type": "stream",
          "text": [
            "                 Marks  Effort_Hours\n",
            "Marks         1.000000      0.965847\n",
            "Effort_Hours  0.965847      1.000000\n"
          ]
        }
      ],
      "source": [
        "print(cleaned_performance_df.corr(numeric_only=True))\n",
        "\n",
        "# This indicates that there is strong positive co-relation between the Effort Hours and the Marks\n",
        "# Which is a good sign when it comes to predictive models"
      ]
    },
    {
      "cell_type": "code",
      "execution_count": 61,
      "id": "7d1bf14f-a16c-464a-99e6-3afa3ae00d1c",
      "metadata": {
        "trusted": true
      },
      "outputs": [
        {
          "name": "stdout",
          "output_type": "stream",
          "text": [
            "               Marks   Effort_Hours\n",
            "count  209600.000000  209600.000000\n",
            "mean       69.589480       8.084046\n",
            "std        18.098348       2.744450\n",
            "min        19.000000       2.000000\n",
            "25%        54.000000       6.000000\n",
            "50%        70.000000       7.000000\n",
            "75%        85.000000      10.000000\n",
            "max       100.000000      14.000000\n"
          ]
        }
      ],
      "source": [
        "print(cleaned_performance_df.describe())"
      ]
    },
    {
      "cell_type": "code",
      "execution_count": 62,
      "id": "0534a2fb-e7fa-498a-be2b-9cf283a15d41",
      "metadata": {
        "trusted": true
      },
      "outputs": [
        {
          "data": {
            "text/plain": [
              "<Axes: title={'center': 'Cleaned Full Scatterplot of Effort Hours vs Marks'}, xlabel='Effort_Hours', ylabel='Marks'>"
            ]
          },
          "execution_count": 62,
          "metadata": {},
          "output_type": "execute_result"
        },
        {
          "data": {
            "image/png": "[encoded data removed]",
            "text/plain": [
              "<Figure size 640x480 with 1 Axes>"
            ]
          },
          "metadata": {},
          "output_type": "display_data"
        }
      ],
      "source": [
        "# Plot scatterplot after cleaning\n",
        "valid_effort_df.plot.scatter(x='Effort_Hours', y='Marks', title='Cleaned Full Scatterplot of Effort Hours vs Marks')"
      ]
    },
    {
      "cell_type": "code",
      "execution_count": 63,
      "id": "76e6a2b2-a3da-4fed-ba08-8a9e868fd802",
      "metadata": {
        "trusted": true
      },
      "outputs": [
        {
          "data": {
            "text/plain": [
              "<Axes: title={'center': 'Uncleaned Full Scatterplot of Effort Hours vs Marks'}, xlabel='Effort_Hours', ylabel='Marks'>"
            ]
          },
          "execution_count": 63,
          "metadata": {},
          "output_type": "execute_result"
        },
        {
          "data": {
            "image/png": "[encoded data removed]",
            "text/plain": [
              "<Figure size 640x480 with 1 Axes>"
            ]
          },
          "metadata": {},
          "output_type": "display_data"
        }
      ],
      "source": [
        "# This is the scatterplot for the original uncleaned data set and as we can see, there are multiple outliers\n",
        "# that will hinder the predictive model. This is a Before image. \n",
        "\n",
        "performance_df.plot.scatter(x='Effort_Hours', y='Marks', title='Uncleaned Full Scatterplot of Effort Hours vs Marks')"
      ]
    },
    {
      "cell_type": "code",
      "execution_count": 64,
      "id": "86291f5c-ce65-4d5e-829b-61f9e2154890",
      "metadata": {
        "trusted": true
      },
      "outputs": [
        {
          "data": {
            "image/png": "[encoded data removed]",
            "text/plain": [
              "<Figure size 1000x600 with 1 Axes>"
            ]
          },
          "metadata": {},
          "output_type": "display_data"
        }
      ],
      "source": [
        "# Histogram\n",
        "plt.figure(figsize=(10, 6))\n",
        "plt.hist(cleaned_performance_df['Marks'], bins=20, color='skyblue', edgecolor='black')\n",
        "plt.title('Distribution of Marks')\n",
        "plt.xlabel('Marks')\n",
        "plt.ylabel('Frequency (Count of how often the mark appears)')\n",
        "plt.show()"
      ]
    },
    {
      "cell_type": "code",
      "execution_count": 65,
      "id": "679094b9-ce0f-415c-96d0-f2044d8daf81",
      "metadata": {
        "trusted": true
      },
      "outputs": [
        {
          "data": {
            "image/png": "[encoded data removed]",
            "text/plain": [
              "<Figure size 1000x600 with 1 Axes>"
            ]
          },
          "metadata": {},
          "output_type": "display_data"
        }
      ],
      "source": [
        "# Box plot\n",
        "plt.figure(figsize=(10, 6))\n",
        "plt.boxplot([cleaned_performance_df['Marks'], cleaned_performance_df['Effort_Hours']], labels=['Marks', 'Effort Hours'])\n",
        "plt.title('Boxplot of Marks and Effort Hours')\n",
        "plt.show()"
      ]
    },
    {
      "cell_type": "code",
      "execution_count": 66,
      "id": "9d686828-caf1-43fb-a7b9-724d0bb80624",
      "metadata": {
        "trusted": true
      },
      "outputs": [
        {
          "data": {
            "image/png": "[encoded data removed]",
            "text/plain": [
              "<Figure size 1000x600 with 1 Axes>"
            ]
          },
          "metadata": {},
          "output_type": "display_data"
        }
      ],
      "source": [
        "# Pair plot - StandardScaler was used to standardize the data)\n",
        "scaler = StandardScaler()\n",
        "scaled_data = scaler.fit_transform(cleaned_performance_df[['Marks', 'Effort_Hours']])\n",
        "plt.figure(figsize=(10, 6))\n",
        "plt.scatter(scaled_data[:, 0], scaled_data[:, 1])\n",
        "plt.title('Pairplot of Marks and Effort Hours')\n",
        "plt.xlabel('Scaled Marks')\n",
        "plt.ylabel('Scaled Effort Hours')\n",
        "plt.show()\n",
        "\n",
        "# This just looks cool! "
      ]
    },
    {
      "cell_type": "code",
      "execution_count": 67,
      "id": "76f6e90f-4c07-4b2a-88f3-30e24edc8d08",
      "metadata": {
        "trusted": true
      },
      "outputs": [
        {
          "data": {
            "text/html": [
              "<div>\n",
              "<style scoped>\n",
              "    .dataframe tbody tr th:only-of-type {\n",
              "        vertical-align: middle;\n",
              "    }\n",
              "\n",
              "    .dataframe tbody tr th {\n",
              "        vertical-align: top;\n",
              "    }\n",
              "\n",
              "    .dataframe thead th {\n",
              "        text-align: right;\n",
              "    }\n",
              "</style>\n",
              "<table border=\"1\" class=\"dataframe\">\n",
              "  <thead>\n",
              "    <tr style=\"text-align: right;\">\n",
              "      <th></th>\n",
              "      <th>Marks</th>\n",
              "      <th>Effort_Hours</th>\n",
              "    </tr>\n",
              "  </thead>\n",
              "  <tbody>\n",
              "    <tr>\n",
              "      <th>count</th>\n",
              "      <td>166.000000</td>\n",
              "      <td>166.000000</td>\n",
              "    </tr>\n",
              "    <tr>\n",
              "      <th>mean</th>\n",
              "      <td>70.228916</td>\n",
              "      <td>8.138554</td>\n",
              "    </tr>\n",
              "    <tr>\n",
              "      <th>std</th>\n",
              "      <td>17.325634</td>\n",
              "      <td>2.637507</td>\n",
              "    </tr>\n",
              "    <tr>\n",
              "      <th>min</th>\n",
              "      <td>40.000000</td>\n",
              "      <td>4.000000</td>\n",
              "    </tr>\n",
              "    <tr>\n",
              "      <th>25%</th>\n",
              "      <td>56.250000</td>\n",
              "      <td>6.000000</td>\n",
              "    </tr>\n",
              "    <tr>\n",
              "      <th>50%</th>\n",
              "      <td>72.500000</td>\n",
              "      <td>8.000000</td>\n",
              "    </tr>\n",
              "    <tr>\n",
              "      <th>75%</th>\n",
              "      <td>84.000000</td>\n",
              "      <td>10.000000</td>\n",
              "    </tr>\n",
              "    <tr>\n",
              "      <th>max</th>\n",
              "      <td>100.000000</td>\n",
              "      <td>14.000000</td>\n",
              "    </tr>\n",
              "  </tbody>\n",
              "</table>\n",
              "</div>"
            ],
            "text/plain": [
              "            Marks  Effort_Hours\n",
              "count  166.000000    166.000000\n",
              "mean    70.228916      8.138554\n",
              "std     17.325634      2.637507\n",
              "min     40.000000      4.000000\n",
              "25%     56.250000      6.000000\n",
              "50%     72.500000      8.000000\n",
              "75%     84.000000     10.000000\n",
              "max    100.000000     14.000000"
            ]
          },
          "execution_count": 67,
          "metadata": {},
          "output_type": "execute_result"
        }
      ],
      "source": [
        "# As mentioned in the report, this is the student specific cleaned dataset followed by feeding it into a linear regression model\n",
        "\n",
        "student_specific_df = cleaned_performance_df[(cleaned_performance_df['Student_ID'] == 'SID20131151') \n",
        "                    | (cleaned_performance_df['Student_ID'] == 'SID20149500') \n",
        "                    | (cleaned_performance_df['Student_ID'] == 'SID20182516')]\n",
        "\n",
        "student_specific_df.head()\n",
        "\n",
        "student_specific_df.describe()\n"
      ]
    },
    {
      "cell_type": "code",
      "execution_count": 68,
      "id": "36804624-80d4-4109-9dc0-3b59e814e50a",
      "metadata": {
        "trusted": true
      },
      "outputs": [
        {
          "data": {
            "text/plain": [
              "<Axes: title={'center': 'Cleaned Student Specific Scatterplot of Effort Hours vs Marks'}, xlabel='Effort_Hours', ylabel='Marks'>"
            ]
          },
          "execution_count": 68,
          "metadata": {},
          "output_type": "execute_result"
        },
        {
          "data": {
            "image/png": "[encoded data removed]",
            "text/plain": [
              "<Figure size 640x480 with 1 Axes>"
            ]
          },
          "metadata": {},
          "output_type": "display_data"
        }
      ],
      "source": [
        "student_specific_df.plot.scatter(x='Effort_Hours', y='Marks', title='Cleaned Student Specific Scatterplot of Effort Hours vs Marks')"
      ]
    },
    {
      "cell_type": "code",
      "execution_count": 69,
      "id": "d3fcc33b-fce1-432b-a467-4b319d0c4a5c",
      "metadata": {
        "trusted": true
      },
      "outputs": [],
      "source": [
        "y = student_specific_df['Marks'].values.reshape(-1, 1)\n",
        "X = student_specific_df['Effort_Hours'].values.reshape(-1, 1)"
      ]
    },
    {
      "cell_type": "code",
      "execution_count": 70,
      "id": "0292eae7-ee98-41a5-9f21-7772903313c7",
      "metadata": {
        "trusted": true
      },
      "outputs": [
        {
          "name": "stdout",
          "output_type": "stream",
          "text": [
            "X shape: (166, 1)\n",
            "X: [[ 8.]\n",
            " [12.]\n",
            " [10.]\n",
            " [ 7.]\n",
            " [ 8.]\n",
            " [ 8.]\n",
            " [10.]\n",
            " [ 7.]\n",
            " [ 4.]\n",
            " [11.]\n",
            " [10.]\n",
            " [ 7.]\n",
            " [ 6.]\n",
            " [12.]\n",
            " [12.]\n",
            " [ 8.]\n",
            " [12.]\n",
            " [12.]\n",
            " [10.]\n",
            " [ 6.]\n",
            " [ 7.]\n",
            " [ 8.]\n",
            " [ 7.]\n",
            " [ 6.]\n",
            " [12.]\n",
            " [13.]\n",
            " [ 5.]\n",
            " [11.]\n",
            " [ 5.]\n",
            " [ 7.]\n",
            " [ 8.]\n",
            " [ 7.]\n",
            " [ 5.]\n",
            " [14.]\n",
            " [ 8.]\n",
            " [ 6.]\n",
            " [11.]\n",
            " [12.]\n",
            " [ 6.]\n",
            " [ 8.]\n",
            " [ 6.]\n",
            " [ 7.]\n",
            " [ 5.]\n",
            " [13.]\n",
            " [ 6.]\n",
            " [10.]\n",
            " [ 6.]\n",
            " [11.]\n",
            " [10.]\n",
            " [ 5.]\n",
            " [ 5.]\n",
            " [10.]\n",
            " [ 8.]\n",
            " [11.]\n",
            " [10.]\n",
            " [ 5.]\n",
            " [ 5.]\n",
            " [ 7.]\n",
            " [ 5.]\n",
            " [ 4.]\n",
            " [14.]\n",
            " [ 6.]\n",
            " [ 6.]\n",
            " [ 8.]\n",
            " [ 8.]\n",
            " [ 7.]\n",
            " [ 5.]\n",
            " [ 7.]\n",
            " [ 6.]\n",
            " [ 8.]\n",
            " [ 7.]\n",
            " [11.]\n",
            " [ 8.]\n",
            " [12.]\n",
            " [10.]\n",
            " [12.]\n",
            " [ 5.]\n",
            " [10.]\n",
            " [14.]\n",
            " [ 8.]\n",
            " [ 6.]\n",
            " [ 8.]\n",
            " [10.]\n",
            " [ 5.]\n",
            " [ 5.]\n",
            " [ 6.]\n",
            " [10.]\n",
            " [ 6.]\n",
            " [ 5.]\n",
            " [ 7.]\n",
            " [ 8.]\n",
            " [13.]\n",
            " [ 8.]\n",
            " [10.]\n",
            " [ 5.]\n",
            " [12.]\n",
            " [10.]\n",
            " [ 8.]\n",
            " [ 7.]\n",
            " [ 7.]\n",
            " [ 5.]\n",
            " [ 6.]\n",
            " [ 5.]\n",
            " [10.]\n",
            " [ 5.]\n",
            " [ 7.]\n",
            " [ 5.]\n",
            " [ 7.]\n",
            " [ 8.]\n",
            " [ 5.]\n",
            " [ 8.]\n",
            " [ 8.]\n",
            " [ 7.]\n",
            " [11.]\n",
            " [12.]\n",
            " [ 5.]\n",
            " [ 5.]\n",
            " [12.]\n",
            " [ 6.]\n",
            " [ 7.]\n",
            " [ 5.]\n",
            " [ 6.]\n",
            " [10.]\n",
            " [10.]\n",
            " [13.]\n",
            " [ 7.]\n",
            " [ 8.]\n",
            " [ 6.]\n",
            " [ 6.]\n",
            " [ 8.]\n",
            " [14.]\n",
            " [ 6.]\n",
            " [ 5.]\n",
            " [ 8.]\n",
            " [ 5.]\n",
            " [10.]\n",
            " [13.]\n",
            " [ 7.]\n",
            " [ 8.]\n",
            " [ 8.]\n",
            " [ 8.]\n",
            " [12.]\n",
            " [ 6.]\n",
            " [ 6.]\n",
            " [13.]\n",
            " [12.]\n",
            " [14.]\n",
            " [ 7.]\n",
            " [13.]\n",
            " [ 6.]\n",
            " [ 8.]\n",
            " [ 8.]\n",
            " [10.]\n",
            " [ 7.]\n",
            " [ 8.]\n",
            " [ 5.]\n",
            " [12.]\n",
            " [ 7.]\n",
            " [10.]\n",
            " [ 8.]\n",
            " [ 8.]\n",
            " [ 8.]\n",
            " [ 5.]\n",
            " [10.]\n",
            " [ 5.]\n",
            " [ 5.]]\n",
            "X shape: (166, 1)\n",
            "Y: [[ 78.]\n",
            " [ 91.]\n",
            " [ 83.]\n",
            " [ 70.]\n",
            " [ 74.]\n",
            " [ 73.]\n",
            " [ 83.]\n",
            " [ 69.]\n",
            " [ 40.]\n",
            " [ 88.]\n",
            " [ 85.]\n",
            " [ 62.]\n",
            " [ 52.]\n",
            " [ 95.]\n",
            " [ 92.]\n",
            " [ 78.]\n",
            " [ 95.]\n",
            " [ 94.]\n",
            " [ 84.]\n",
            " [ 56.]\n",
            " [ 63.]\n",
            " [ 74.]\n",
            " [ 61.]\n",
            " [ 59.]\n",
            " [ 91.]\n",
            " [ 96.]\n",
            " [ 43.]\n",
            " [ 88.]\n",
            " [ 43.]\n",
            " [ 63.]\n",
            " [ 76.]\n",
            " [ 62.]\n",
            " [ 49.]\n",
            " [100.]\n",
            " [ 72.]\n",
            " [ 57.]\n",
            " [ 87.]\n",
            " [ 92.]\n",
            " [ 53.]\n",
            " [ 75.]\n",
            " [ 54.]\n",
            " [ 63.]\n",
            " [ 45.]\n",
            " [ 98.]\n",
            " [ 54.]\n",
            " [ 85.]\n",
            " [ 59.]\n",
            " [ 87.]\n",
            " [ 84.]\n",
            " [ 47.]\n",
            " [ 42.]\n",
            " [ 84.]\n",
            " [ 74.]\n",
            " [ 86.]\n",
            " [ 83.]\n",
            " [ 45.]\n",
            " [ 42.]\n",
            " [ 61.]\n",
            " [ 49.]\n",
            " [ 40.]\n",
            " [100.]\n",
            " [ 57.]\n",
            " [ 57.]\n",
            " [ 73.]\n",
            " [ 75.]\n",
            " [ 63.]\n",
            " [ 45.]\n",
            " [ 70.]\n",
            " [ 60.]\n",
            " [ 73.]\n",
            " [ 66.]\n",
            " [ 90.]\n",
            " [ 76.]\n",
            " [ 91.]\n",
            " [ 82.]\n",
            " [ 94.]\n",
            " [ 50.]\n",
            " [ 83.]\n",
            " [100.]\n",
            " [ 71.]\n",
            " [ 56.]\n",
            " [ 73.]\n",
            " [ 85.]\n",
            " [ 45.]\n",
            " [ 43.]\n",
            " [ 60.]\n",
            " [ 84.]\n",
            " [ 58.]\n",
            " [ 49.]\n",
            " [ 62.]\n",
            " [ 77.]\n",
            " [ 96.]\n",
            " [ 80.]\n",
            " [ 85.]\n",
            " [ 41.]\n",
            " [ 92.]\n",
            " [ 83.]\n",
            " [ 73.]\n",
            " [ 64.]\n",
            " [ 63.]\n",
            " [ 46.]\n",
            " [ 53.]\n",
            " [ 41.]\n",
            " [ 82.]\n",
            " [ 49.]\n",
            " [ 64.]\n",
            " [ 47.]\n",
            " [ 69.]\n",
            " [ 72.]\n",
            " [ 42.]\n",
            " [ 73.]\n",
            " [ 77.]\n",
            " [ 65.]\n",
            " [ 89.]\n",
            " [ 93.]\n",
            " [ 49.]\n",
            " [ 48.]\n",
            " [ 93.]\n",
            " [ 58.]\n",
            " [ 67.]\n",
            " [ 47.]\n",
            " [ 54.]\n",
            " [ 85.]\n",
            " [ 84.]\n",
            " [ 98.]\n",
            " [ 66.]\n",
            " [ 75.]\n",
            " [ 58.]\n",
            " [ 51.]\n",
            " [ 74.]\n",
            " [100.]\n",
            " [ 52.]\n",
            " [ 48.]\n",
            " [ 77.]\n",
            " [ 44.]\n",
            " [ 83.]\n",
            " [ 98.]\n",
            " [ 62.]\n",
            " [ 72.]\n",
            " [ 71.]\n",
            " [ 74.]\n",
            " [ 92.]\n",
            " [ 60.]\n",
            " [ 53.]\n",
            " [ 98.]\n",
            " [ 91.]\n",
            " [100.]\n",
            " [ 66.]\n",
            " [ 98.]\n",
            " [ 57.]\n",
            " [ 75.]\n",
            " [ 78.]\n",
            " [ 82.]\n",
            " [ 67.]\n",
            " [ 77.]\n",
            " [ 45.]\n",
            " [ 93.]\n",
            " [ 69.]\n",
            " [ 85.]\n",
            " [ 79.]\n",
            " [ 75.]\n",
            " [ 76.]\n",
            " [ 50.]\n",
            " [ 83.]\n",
            " [ 41.]\n",
            " [ 45.]]\n"
          ]
        }
      ],
      "source": [
        "#Taken directly from Orestes Appel's course notes on Linear Regression - COMP 4522 Winter 2024\n",
        "print('X shape:', X.shape)\n",
        "print('X:', X)\n",
        "print('X shape:', y.shape)\n",
        "print('Y:', y)"
      ]
    },
    {
      "cell_type": "code",
      "execution_count": 71,
      "id": "5cd878ac-dfc0-4182-a0bb-07b9d8001906",
      "metadata": {
        "trusted": true
      },
      "outputs": [],
      "source": [
        "#Taken directly from Orestes Appel's course notes on Linear Regression - COMP 4522 Winter 2024\n",
        "\n",
        "X_train, X_test, y_train, y_test = train_test_split(X, y, test_size = 0.2, random_state=42)"
      ]
    },
    {
      "cell_type": "code",
      "execution_count": 72,
      "id": "d94d8c2d-145d-4b1d-90af-94fffe743721",
      "metadata": {
        "trusted": true
      },
      "outputs": [
        {
          "data": {
            "text/html": [
              "<style>#sk-container-id-3 {\n",
              "  /* Definition of color scheme common for light and dark mode */\n",
              "  --sklearn-color-text: black;\n",
              "  --sklearn-color-line: gray;\n",
              "  /* Definition of color scheme for unfitted estimators */\n",
              "  --sklearn-color-unfitted-level-0: #fff5e6;\n",
              "  --sklearn-color-unfitted-level-1: #f6e4d2;\n",
              "  --sklearn-color-unfitted-level-2: #ffe0b3;\n",
              "  --sklearn-color-unfitted-level-3: chocolate;\n",
              "  /* Definition of color scheme for fitted estimators */\n",
              "  --sklearn-color-fitted-level-0: #f0f8ff;\n",
              "  --sklearn-color-fitted-level-1: #d4ebff;\n",
              "  --sklearn-color-fitted-level-2: #b3dbfd;\n",
              "  --sklearn-color-fitted-level-3: cornflowerblue;\n",
              "\n",
              "  /* Specific color for light theme */\n",
              "  --sklearn-color-text-on-default-background: var(--sg-text-color, var(--theme-code-foreground, var(--jp-content-font-color1, black)));\n",
              "  --sklearn-color-background: var(--sg-background-color, var(--theme-background, var(--jp-layout-color0, white)));\n",
              "  --sklearn-color-border-box: var(--sg-text-color, var(--theme-code-foreground, var(--jp-content-font-color1, black)));\n",
              "  --sklearn-color-icon: #696969;\n",
              "\n",
              "  @media (prefers-color-scheme: dark) {\n",
              "    /* Redefinition of color scheme for dark theme */\n",
              "    --sklearn-color-text-on-default-background: var(--sg-text-color, var(--theme-code-foreground, var(--jp-content-font-color1, white)));\n",
              "    --sklearn-color-background: var(--sg-background-color, var(--theme-background, var(--jp-layout-color0, #111)));\n",
              "    --sklearn-color-border-box: var(--sg-text-color, var(--theme-code-foreground, var(--jp-content-font-color1, white)));\n",
              "    --sklearn-color-icon: #878787;\n",
              "  }\n",
              "}\n",
              "\n",
              "#sk-container-id-3 {\n",
              "  color: var(--sklearn-color-text);\n",
              "}\n",
              "\n",
              "#sk-container-id-3 pre {\n",
              "  padding: 0;\n",
              "}\n",
              "\n",
              "#sk-container-id-3 input.sk-hidden--visually {\n",
              "  border: 0;\n",
              "  clip: rect(1px 1px 1px 1px);\n",
              "  clip: rect(1px, 1px, 1px, 1px);\n",
              "  height: 1px;\n",
              "  margin: -1px;\n",
              "  overflow: hidden;\n",
              "  padding: 0;\n",
              "  position: absolute;\n",
              "  width: 1px;\n",
              "}\n",
              "\n",
              "#sk-container-id-3 div.sk-dashed-wrapped {\n",
              "  border: 1px dashed var(--sklearn-color-line);\n",
              "  margin: 0 0.4em 0.5em 0.4em;\n",
              "  box-sizing: border-box;\n",
              "  padding-bottom: 0.4em;\n",
              "  background-color: var(--sklearn-color-background);\n",
              "}\n",
              "\n",
              "#sk-container-id-3 div.sk-container {\n",
              "  /* jupyter's `normalize.less` sets `[hidden] { display: none; }`\n",
              "     but bootstrap.min.css set `[hidden] { display: none !important; }`\n",
              "     so we also need the `!important` here to be able to override the\n",
              "     default hidden behavior on the sphinx rendered scikit-learn.org.\n",
              "     See: https://github.com/scikit-learn/scikit-learn/issues/21755 */\n",
              "  display: inline-block !important;\n",
              "  position: relative;\n",
              "}\n",
              "\n",
              "#sk-container-id-3 div.sk-text-repr-fallback {\n",
              "  display: none;\n",
              "}\n",
              "\n",
              "div.sk-parallel-item,\n",
              "div.sk-serial,\n",
              "div.sk-item {\n",
              "  /* draw centered vertical line to link estimators */\n",
              "  background-image: linear-gradient(var(--sklearn-color-text-on-default-background), var(--sklearn-color-text-on-default-background));\n",
              "  background-size: 2px 100%;\n",
              "  background-repeat: no-repeat;\n",
              "  background-position: center center;\n",
              "}\n",
              "\n",
              "/* Parallel-specific style estimator block */\n",
              "\n",
              "#sk-container-id-3 div.sk-parallel-item::after {\n",
              "  content: \"\";\n",
              "  width: 100%;\n",
              "  border-bottom: 2px solid var(--sklearn-color-text-on-default-background);\n",
              "  flex-grow: 1;\n",
              "}\n",
              "\n",
              "#sk-container-id-3 div.sk-parallel {\n",
              "  display: flex;\n",
              "  align-items: stretch;\n",
              "  justify-content: center;\n",
              "  background-color: var(--sklearn-color-background);\n",
              "  position: relative;\n",
              "}\n",
              "\n",
              "#sk-container-id-3 div.sk-parallel-item {\n",
              "  display: flex;\n",
              "  flex-direction: column;\n",
              "}\n",
              "\n",
              "#sk-container-id-3 div.sk-parallel-item:first-child::after {\n",
              "  align-self: flex-end;\n",
              "  width: 50%;\n",
              "}\n",
              "\n",
              "#sk-container-id-3 div.sk-parallel-item:last-child::after {\n",
              "  align-self: flex-start;\n",
              "  width: 50%;\n",
              "}\n",
              "\n",
              "#sk-container-id-3 div.sk-parallel-item:only-child::after {\n",
              "  width: 0;\n",
              "}\n",
              "\n",
              "/* Serial-specific style estimator block */\n",
              "\n",
              "#sk-container-id-3 div.sk-serial {\n",
              "  display: flex;\n",
              "  flex-direction: column;\n",
              "  align-items: center;\n",
              "  background-color: var(--sklearn-color-background);\n",
              "  padding-right: 1em;\n",
              "  padding-left: 1em;\n",
              "}\n",
              "\n",
              "\n",
              "/* Toggleable style: style used for estimator/Pipeline/ColumnTransformer box that is\n",
              "clickable and can be expanded/collapsed.\n",
              "- Pipeline and ColumnTransformer use this feature and define the default style\n",
              "- Estimators will overwrite some part of the style using the `sk-estimator` class\n",
              "*/\n",
              "\n",
              "/* Pipeline and ColumnTransformer style (default) */\n",
              "\n",
              "#sk-container-id-3 div.sk-toggleable {\n",
              "  /* Default theme specific background. It is overwritten whether we have a\n",
              "  specific estimator or a Pipeline/ColumnTransformer */\n",
              "  background-color: var(--sklearn-color-background);\n",
              "}\n",
              "\n",
              "/* Toggleable label */\n",
              "#sk-container-id-3 label.sk-toggleable__label {\n",
              "  cursor: pointer;\n",
              "  display: block;\n",
              "  width: 100%;\n",
              "  margin-bottom: 0;\n",
              "  padding: 0.5em;\n",
              "  box-sizing: border-box;\n",
              "  text-align: center;\n",
              "}\n",
              "\n",
              "#sk-container-id-3 label.sk-toggleable__label-arrow:before {\n",
              "  /* Arrow on the left of the label */\n",
              "  content: \"▸\";\n",
              "  float: left;\n",
              "  margin-right: 0.25em;\n",
              "  color: var(--sklearn-color-icon);\n",
              "}\n",
              "\n",
              "#sk-container-id-3 label.sk-toggleable__label-arrow:hover:before {\n",
              "  color: var(--sklearn-color-text);\n",
              "}\n",
              "\n",
              "/* Toggleable content - dropdown */\n",
              "\n",
              "#sk-container-id-3 div.sk-toggleable__content {\n",
              "  max-height: 0;\n",
              "  max-width: 0;\n",
              "  overflow: hidden;\n",
              "  text-align: left;\n",
              "  /* unfitted */\n",
              "  background-color: var(--sklearn-color-unfitted-level-0);\n",
              "}\n",
              "\n",
              "#sk-container-id-3 div.sk-toggleable__content.fitted {\n",
              "  /* fitted */\n",
              "  background-color: var(--sklearn-color-fitted-level-0);\n",
              "}\n",
              "\n",
              "#sk-container-id-3 div.sk-toggleable__content pre {\n",
              "  margin: 0.2em;\n",
              "  border-radius: 0.25em;\n",
              "  color: var(--sklearn-color-text);\n",
              "  /* unfitted */\n",
              "  background-color: var(--sklearn-color-unfitted-level-0);\n",
              "}\n",
              "\n",
              "#sk-container-id-3 div.sk-toggleable__content.fitted pre {\n",
              "  /* unfitted */\n",
              "  background-color: var(--sklearn-color-fitted-level-0);\n",
              "}\n",
              "\n",
              "#sk-container-id-3 input.sk-toggleable__control:checked~div.sk-toggleable__content {\n",
              "  /* Expand drop-down */\n",
              "  max-height: 200px;\n",
              "  max-width: 100%;\n",
              "  overflow: auto;\n",
              "}\n",
              "\n",
              "#sk-container-id-3 input.sk-toggleable__control:checked~label.sk-toggleable__label-arrow:before {\n",
              "  content: \"▾\";\n",
              "}\n",
              "\n",
              "/* Pipeline/ColumnTransformer-specific style */\n",
              "\n",
              "#sk-container-id-3 div.sk-label input.sk-toggleable__control:checked~label.sk-toggleable__label {\n",
              "  color: var(--sklearn-color-text);\n",
              "  background-color: var(--sklearn-color-unfitted-level-2);\n",
              "}\n",
              "\n",
              "#sk-container-id-3 div.sk-label.fitted input.sk-toggleable__control:checked~label.sk-toggleable__label {\n",
              "  background-color: var(--sklearn-color-fitted-level-2);\n",
              "}\n",
              "\n",
              "/* Estimator-specific style */\n",
              "\n",
              "/* Colorize estimator box */\n",
              "#sk-container-id-3 div.sk-estimator input.sk-toggleable__control:checked~label.sk-toggleable__label {\n",
              "  /* unfitted */\n",
              "  background-color: var(--sklearn-color-unfitted-level-2);\n",
              "}\n",
              "\n",
              "#sk-container-id-3 div.sk-estimator.fitted input.sk-toggleable__control:checked~label.sk-toggleable__label {\n",
              "  /* fitted */\n",
              "  background-color: var(--sklearn-color-fitted-level-2);\n",
              "}\n",
              "\n",
              "#sk-container-id-3 div.sk-label label.sk-toggleable__label,\n",
              "#sk-container-id-3 div.sk-label label {\n",
              "  /* The background is the default theme color */\n",
              "  color: var(--sklearn-color-text-on-default-background);\n",
              "}\n",
              "\n",
              "/* On hover, darken the color of the background */\n",
              "#sk-container-id-3 div.sk-label:hover label.sk-toggleable__label {\n",
              "  color: var(--sklearn-color-text);\n",
              "  background-color: var(--sklearn-color-unfitted-level-2);\n",
              "}\n",
              "\n",
              "/* Label box, darken color on hover, fitted */\n",
              "#sk-container-id-3 div.sk-label.fitted:hover label.sk-toggleable__label.fitted {\n",
              "  color: var(--sklearn-color-text);\n",
              "  background-color: var(--sklearn-color-fitted-level-2);\n",
              "}\n",
              "\n",
              "/* Estimator label */\n",
              "\n",
              "#sk-container-id-3 div.sk-label label {\n",
              "  font-family: monospace;\n",
              "  font-weight: bold;\n",
              "  display: inline-block;\n",
              "  line-height: 1.2em;\n",
              "}\n",
              "\n",
              "#sk-container-id-3 div.sk-label-container {\n",
              "  text-align: center;\n",
              "}\n",
              "\n",
              "/* Estimator-specific */\n",
              "#sk-container-id-3 div.sk-estimator {\n",
              "  font-family: monospace;\n",
              "  border: 1px dotted var(--sklearn-color-border-box);\n",
              "  border-radius: 0.25em;\n",
              "  box-sizing: border-box;\n",
              "  margin-bottom: 0.5em;\n",
              "  /* unfitted */\n",
              "  background-color: var(--sklearn-color-unfitted-level-0);\n",
              "}\n",
              "\n",
              "#sk-container-id-3 div.sk-estimator.fitted {\n",
              "  /* fitted */\n",
              "  background-color: var(--sklearn-color-fitted-level-0);\n",
              "}\n",
              "\n",
              "/* on hover */\n",
              "#sk-container-id-3 div.sk-estimator:hover {\n",
              "  /* unfitted */\n",
              "  background-color: var(--sklearn-color-unfitted-level-2);\n",
              "}\n",
              "\n",
              "#sk-container-id-3 div.sk-estimator.fitted:hover {\n",
              "  /* fitted */\n",
              "  background-color: var(--sklearn-color-fitted-level-2);\n",
              "}\n",
              "\n",
              "/* Specification for estimator info (e.g. \"i\" and \"?\") */\n",
              "\n",
              "/* Common style for \"i\" and \"?\" */\n",
              "\n",
              ".sk-estimator-doc-link,\n",
              "a:link.sk-estimator-doc-link,\n",
              "a:visited.sk-estimator-doc-link {\n",
              "  float: right;\n",
              "  font-size: smaller;\n",
              "  line-height: 1em;\n",
              "  font-family: monospace;\n",
              "  background-color: var(--sklearn-color-background);\n",
              "  border-radius: 1em;\n",
              "  height: 1em;\n",
              "  width: 1em;\n",
              "  text-decoration: none !important;\n",
              "  margin-left: 1ex;\n",
              "  /* unfitted */\n",
              "  border: var(--sklearn-color-unfitted-level-1) 1pt solid;\n",
              "  color: var(--sklearn-color-unfitted-level-1);\n",
              "}\n",
              "\n",
              ".sk-estimator-doc-link.fitted,\n",
              "a:link.sk-estimator-doc-link.fitted,\n",
              "a:visited.sk-estimator-doc-link.fitted {\n",
              "  /* fitted */\n",
              "  border: var(--sklearn-color-fitted-level-1) 1pt solid;\n",
              "  color: var(--sklearn-color-fitted-level-1);\n",
              "}\n",
              "\n",
              "/* On hover */\n",
              "div.sk-estimator:hover .sk-estimator-doc-link:hover,\n",
              ".sk-estimator-doc-link:hover,\n",
              "div.sk-label-container:hover .sk-estimator-doc-link:hover,\n",
              ".sk-estimator-doc-link:hover {\n",
              "  /* unfitted */\n",
              "  background-color: var(--sklearn-color-unfitted-level-3);\n",
              "  color: var(--sklearn-color-background);\n",
              "  text-decoration: none;\n",
              "}\n",
              "\n",
              "div.sk-estimator.fitted:hover .sk-estimator-doc-link.fitted:hover,\n",
              ".sk-estimator-doc-link.fitted:hover,\n",
              "div.sk-label-container:hover .sk-estimator-doc-link.fitted:hover,\n",
              ".sk-estimator-doc-link.fitted:hover {\n",
              "  /* fitted */\n",
              "  background-color: var(--sklearn-color-fitted-level-3);\n",
              "  color: var(--sklearn-color-background);\n",
              "  text-decoration: none;\n",
              "}\n",
              "\n",
              "/* Span, style for the box shown on hovering the info icon */\n",
              ".sk-estimator-doc-link span {\n",
              "  display: none;\n",
              "  z-index: 9999;\n",
              "  position: relative;\n",
              "  font-weight: normal;\n",
              "  right: .2ex;\n",
              "  padding: .5ex;\n",
              "  margin: .5ex;\n",
              "  width: min-content;\n",
              "  min-width: 20ex;\n",
              "  max-width: 50ex;\n",
              "  color: var(--sklearn-color-text);\n",
              "  box-shadow: 2pt 2pt 4pt #999;\n",
              "  /* unfitted */\n",
              "  background: var(--sklearn-color-unfitted-level-0);\n",
              "  border: .5pt solid var(--sklearn-color-unfitted-level-3);\n",
              "}\n",
              "\n",
              ".sk-estimator-doc-link.fitted span {\n",
              "  /* fitted */\n",
              "  background: var(--sklearn-color-fitted-level-0);\n",
              "  border: var(--sklearn-color-fitted-level-3);\n",
              "}\n",
              "\n",
              ".sk-estimator-doc-link:hover span {\n",
              "  display: block;\n",
              "}\n",
              "\n",
              "/* \"?\"-specific style due to the `<a>` HTML tag */\n",
              "\n",
              "#sk-container-id-3 a.estimator_doc_link {\n",
              "  float: right;\n",
              "  font-size: 1rem;\n",
              "  line-height: 1em;\n",
              "  font-family: monospace;\n",
              "  background-color: var(--sklearn-color-background);\n",
              "  border-radius: 1rem;\n",
              "  height: 1rem;\n",
              "  width: 1rem;\n",
              "  text-decoration: none;\n",
              "  /* unfitted */\n",
              "  color: var(--sklearn-color-unfitted-level-1);\n",
              "  border: var(--sklearn-color-unfitted-level-1) 1pt solid;\n",
              "}\n",
              "\n",
              "#sk-container-id-3 a.estimator_doc_link.fitted {\n",
              "  /* fitted */\n",
              "  border: var(--sklearn-color-fitted-level-1) 1pt solid;\n",
              "  color: var(--sklearn-color-fitted-level-1);\n",
              "}\n",
              "\n",
              "/* On hover */\n",
              "#sk-container-id-3 a.estimator_doc_link:hover {\n",
              "  /* unfitted */\n",
              "  background-color: var(--sklearn-color-unfitted-level-3);\n",
              "  color: var(--sklearn-color-background);\n",
              "  text-decoration: none;\n",
              "}\n",
              "\n",
              "#sk-container-id-3 a.estimator_doc_link.fitted:hover {\n",
              "  /* fitted */\n",
              "  background-color: var(--sklearn-color-fitted-level-3);\n",
              "}\n",
              "</style><div id=\"sk-container-id-3\" class=\"sk-top-container\"><div class=\"sk-text-repr-fallback\"><pre>LinearRegression()</pre><b>In a Jupyter environment, please rerun this cell to show the HTML representation or trust the notebook. <br />On GitHub, the HTML representation is unable to render, please try loading this page with nbviewer.org.</b></div><div class=\"sk-container\" hidden><div class=\"sk-item\"><div class=\"sk-estimator fitted sk-toggleable\"><input class=\"sk-toggleable__control sk-hidden--visually\" id=\"sk-estimator-id-3\" type=\"checkbox\" checked><label for=\"sk-estimator-id-3\" class=\"sk-toggleable__label fitted sk-toggleable__label-arrow fitted\">&nbsp;&nbsp;LinearRegression<a class=\"sk-estimator-doc-link fitted\" rel=\"noreferrer\" target=\"_blank\" href=\"https://scikit-learn.org/1.4/modules/generated/sklearn.linear_model.LinearRegression.html\">?<span>Documentation for LinearRegression</span></a><span class=\"sk-estimator-doc-link fitted\">i<span>Fitted</span></span></label><div class=\"sk-toggleable__content fitted\"><pre>LinearRegression()</pre></div> </div></div></div></div>"
            ],
            "text/plain": [
              "LinearRegression()"
            ]
          },
          "execution_count": 72,
          "metadata": {},
          "output_type": "execute_result"
        }
      ],
      "source": [
        "#Taken directly from Orestes Appel's course notes on Linear Regression - COMP 4522 Winter 2024\n",
        "from sklearn.linear_model import LinearRegression\n",
        "regressor = LinearRegression()\n",
        "\n",
        "# Now we need to \"fit\" the line to our data: we use .fit with our X_tran and y_train data. \n",
        "regressor.fit(X_train, y_train)"
      ]
    },
    {
      "cell_type": "code",
      "execution_count": 73,
      "id": "ef6d5d70-93fc-480e-843f-14ebd1097fe9",
      "metadata": {
        "trusted": true
      },
      "outputs": [
        {
          "name": "stdout",
          "output_type": "stream",
          "text": [
            "[18.10670315]\n"
          ]
        }
      ],
      "source": [
        "#Taken directly from Orestes Appel's course notes on Linear Regression - COMP 4522 Winter 2024\n",
        "print(regressor.intercept_)"
      ]
    },
    {
      "cell_type": "code",
      "execution_count": 74,
      "id": "e56e7e9d-82a7-4029-8b50-d7de5dd52cff",
      "metadata": {
        "trusted": true
      },
      "outputs": [
        {
          "name": "stdout",
          "output_type": "stream",
          "text": [
            "[[6.42662482]]\n"
          ]
        }
      ],
      "source": [
        "#Taken directly from Orestes Appel's course notes on Linear Regression - COMP 4522 Winter 2024\n",
        "print(regressor.coef_)"
      ]
    },
    {
      "cell_type": "code",
      "execution_count": 75,
      "id": "3380f1ac-6238-4c68-9a91-a166988f2061",
      "metadata": {
        "trusted": true
      },
      "outputs": [
        {
          "name": "stdout",
          "output_type": "stream",
          "text": [
            "[[82.37295137]]\n"
          ]
        }
      ],
      "source": [
        "#Taken directly from Orestes Appel's course notes on Linear Regression - COMP 4522 Winter 2024\n",
        "# Student Specific\n",
        "score = regressor.predict([[10]]) # We are passing 10 in double brackets to have a 2-dimensional array\n",
        "print(score)"
      ]
    },
    {
      "cell_type": "code",
      "execution_count": 76,
      "id": "1e6118b7-1e81-4951-830a-81a6f4cc3b82",
      "metadata": {
        "trusted": true
      },
      "outputs": [
        {
          "name": "stdout",
          "output_type": "stream",
          "text": [
            "    Actual   Predicted\n",
            "0     46.0   50.239827\n",
            "1     98.0  101.652826\n",
            "2    100.0  108.079451\n",
            "3     42.0   50.239827\n",
            "4     73.0   69.519702\n",
            "5     63.0   63.093077\n",
            "6     49.0   50.239827\n",
            "7     85.0   82.372951\n",
            "8     50.0   50.239827\n",
            "9     72.0   69.519702\n",
            "10    56.0   56.666452\n",
            "11    45.0   50.239827\n",
            "12    78.0   69.519702\n",
            "13    70.0   63.093077\n",
            "14    91.0   95.226201\n",
            "15    62.0   63.093077\n",
            "16    52.0   56.666452\n",
            "17    84.0   82.372951\n",
            "18    53.0   56.666452\n",
            "19    95.0   95.226201\n",
            "20    50.0   50.239827\n",
            "21    84.0   82.372951\n",
            "22    52.0   56.666452\n",
            "23    88.0   88.799576\n",
            "24    48.0   50.239827\n",
            "25    94.0   95.226201\n",
            "26    83.0   82.372951\n",
            "27   100.0  108.079451\n",
            "28    45.0   50.239827\n",
            "29   100.0  108.079451\n",
            "30    76.0   69.519702\n",
            "31    74.0   69.519702\n",
            "32    67.0   63.093077\n",
            "33    60.0   56.666452\n"
          ]
        }
      ],
      "source": [
        "#Taken directly from Orestes Appel's course notes on Linear Regression - COMP 4522 Winter 2024\n",
        "y_pred = regressor.predict(X_test)\n",
        "df_preds = pd.DataFrame({'Actual': y_test.squeeze(), 'Predicted': y_pred.squeeze()})\n",
        "print(df_preds)"
      ]
    },
    {
      "cell_type": "code",
      "execution_count": 77,
      "id": "b414e723-c1d9-4d1d-8f54-52383fe6807c",
      "metadata": {
        "trusted": true
      },
      "outputs": [
        {
          "name": "stdout",
          "output_type": "stream",
          "text": [
            "mae = 3.59\n",
            "mse = 19.83\n",
            "rmse = 4.45\n",
            "R-squared (R2): 0.9440660552430018\n"
          ]
        }
      ],
      "source": [
        "### EVALUATING the Model ###\n",
        "#Taken directly from Orestes Appel's course notes on Linear Regression - COMP 4522 Winter 2024\n",
        "from sklearn.metrics import mean_absolute_error, mean_squared_error\n",
        "\n",
        "mae = mean_absolute_error(y_test, y_pred) \n",
        "mse = mean_squared_error(y_test, y_pred)\n",
        "rmse = np.sqrt(mse) # Root Mean Squared Error\n",
        "print(f\"mae = {mae:.2f}\")\n",
        "print(f\"mse = {mse:.2f}\")\n",
        "print(f\"rmse = {rmse:.2f}\")\n",
        "\n",
        "r2 = r2_score(y_test, y_pred)\n",
        "print(\"R-squared (R2):\", r2)"
      ]
    },
    {
      "cell_type": "code",
      "execution_count": 78,
      "id": "e8bcc220-10b0-47e4-8681-00d2324de092",
      "metadata": {
        "trusted": true
      },
      "outputs": [
        {
          "data": {
            "image/png": "[encoded data removed]",
            "text/plain": [
              "<Figure size 800x600 with 1 Axes>"
            ]
          },
          "metadata": {},
          "output_type": "display_data"
        }
      ],
      "source": [
        "# Residual Plot for the 'Student-Specific' dataset that was cleaned\n",
        "residuals = y_test - y_pred\n",
        "plt.figure(figsize=(8, 6))\n",
        "plt.scatter(y_pred, residuals)\n",
        "plt.axhline(y=0, color='r', linestyle='--')\n",
        "plt.title('Residual Plot - Student Specific')\n",
        "plt.xlabel('Predicted Values')\n",
        "plt.ylabel('Residuals')\n",
        "plt.show()"
      ]
    },
    {
      "cell_type": "code",
      "execution_count": 79,
      "id": "01a3c13f-2828-4e1a-8e08-b2a85b773bc7",
      "metadata": {
        "trusted": true
      },
      "outputs": [
        {
          "data": {
            "image/png": "[encoded data removed]",
            "text/plain": [
              "<Figure size 800x600 with 1 Axes>"
            ]
          },
          "metadata": {},
          "output_type": "display_data"
        }
      ],
      "source": [
        "# Actual vs. Predicted Plot for the Student Specific Dataset\n",
        "plt.figure(figsize=(8, 6))\n",
        "plt.scatter(y_test, y_pred)\n",
        "plt.plot([y_test.min(), y_test.max()], [y_test.min(), y_test.max()], 'r--')\n",
        "plt.title('Actual vs. Predicted Plot - Student Specific')\n",
        "plt.xlabel('Actual Values')\n",
        "plt.ylabel('Predicted Values')\n",
        "plt.show()"
      ]
    },
    {
      "cell_type": "code",
      "execution_count": 80,
      "id": "69cb0e66-4dae-4279-aca6-db043c925ebf",
      "metadata": {
        "trusted": true
      },
      "outputs": [
        {
          "data": {
            "image/png": "[encoded data removed]",
            "text/plain": [
              "<Figure size 1000x800 with 2 Axes>"
            ]
          },
          "metadata": {},
          "output_type": "display_data"
        }
      ],
      "source": [
        "correlation_matrix = student_specific_df.corr(numeric_only=True)\n",
        "\n",
        "plt.figure(figsize=(10, 8))\n",
        "heatmap = plt.imshow(correlation_matrix, cmap='viridis', interpolation='nearest')\n",
        "\n",
        "plt.colorbar(heatmap)\n",
        "plt.title('Correlation Heatmap - Student Specific')\n",
        "plt.xticks(range(len(correlation_matrix)), correlation_matrix.columns, rotation=45)\n",
        "plt.yticks(range(len(correlation_matrix)), correlation_matrix.columns)\n",
        "\n",
        "for i in range(len(correlation_matrix)):\n",
        "    for j in range(len(correlation_matrix)):\n",
        "        plt.text(j, i, f'{correlation_matrix.iloc[i, j]:.2f}', ha='center', va='center', color='white')\n",
        "\n",
        "plt.tight_layout()\n",
        "plt.show()\n",
        "\n",
        "# We did the correlation before as well but this is a more visual medium to share the info"
      ]
    },
    {
      "cell_type": "code",
      "execution_count": 81,
      "id": "b47c443f-817e-414b-a002-a8953e0044a9",
      "metadata": {
        "trusted": true
      },
      "outputs": [],
      "source": [
        "# This is where the excess work for the linear regression modeling begins for the full and cleaned dataset. WEEEEEEEEEEEEEEEE\n",
        "# We did this to then compare the predicted results of what happens when the datasets entered are different (condensed student specific version VS fuller version)\n",
        "\n",
        "# There are two Linear Regression Models coded below where the first comes directly referenced\n",
        "# to Orestes Appel and his code shown in class COMP 4522 - Winter 2024\n",
        "\n",
        "# The second model was coded based on Rutu's prior experience in Articial Intelligence and Machine Learning courses\n",
        "# in Mount Royal University\n",
        "\n",
        "# Both versions are simply two ways of writing the Linear Regression Model"
      ]
    },
    {
      "cell_type": "code",
      "execution_count": 82,
      "id": "f93ec7ed-9835-4784-893e-ebb026bf9fce",
      "metadata": {
        "trusted": true
      },
      "outputs": [],
      "source": [
        "#Taken directly from Orestes Appel's course notes on Linear Regression - COMP 4522 Winter 2024\n",
        "y = cleaned_performance_df['Marks'].values.reshape(-1, 1)\n",
        "X = cleaned_performance_df['Effort_Hours'].values.reshape(-1, 1)"
      ]
    },
    {
      "cell_type": "code",
      "execution_count": 83,
      "id": "b6ba6959-636f-4307-9aaa-09a17629859a",
      "metadata": {
        "trusted": true
      },
      "outputs": [
        {
          "name": "stdout",
          "output_type": "stream",
          "text": [
            "X shape: (209600, 1)\n",
            "X: [[ 5.]\n",
            " [ 8.]\n",
            " [ 8.]\n",
            " ...\n",
            " [ 5.]\n",
            " [11.]\n",
            " [ 8.]]\n",
            "X shape: (209600, 1)\n",
            "Y: [[44.]\n",
            " [74.]\n",
            " [80.]\n",
            " ...\n",
            " [49.]\n",
            " [87.]\n",
            " [73.]]\n"
          ]
        }
      ],
      "source": [
        "#Taken directly from Orestes Appel's course notes on Linear Regression - COMP 4522 Winter 2024\n",
        "print('X shape:', X.shape)\n",
        "print('X:', X)\n",
        "print('X shape:', y.shape)\n",
        "print('Y:', y)"
      ]
    },
    {
      "cell_type": "code",
      "execution_count": 84,
      "id": "51a21ecf-e8e0-436c-a44a-6efb99e1020a",
      "metadata": {
        "trusted": true
      },
      "outputs": [],
      "source": [
        "#Taken directly from Orestes Appel's course notes on Linear Regression - COMP 4522 Winter 2024\n",
        "\n",
        "X_train, X_test, y_train, y_test = train_test_split(X, y, test_size = 0.2, random_state=42)"
      ]
    },
    {
      "cell_type": "code",
      "execution_count": 85,
      "id": "820f089e-7768-412d-8a7a-0c3068997013",
      "metadata": {
        "trusted": true
      },
      "outputs": [
        {
          "data": {
            "text/html": [
              "<style>#sk-container-id-4 {\n",
              "  /* Definition of color scheme common for light and dark mode */\n",
              "  --sklearn-color-text: black;\n",
              "  --sklearn-color-line: gray;\n",
              "  /* Definition of color scheme for unfitted estimators */\n",
              "  --sklearn-color-unfitted-level-0: #fff5e6;\n",
              "  --sklearn-color-unfitted-level-1: #f6e4d2;\n",
              "  --sklearn-color-unfitted-level-2: #ffe0b3;\n",
              "  --sklearn-color-unfitted-level-3: chocolate;\n",
              "  /* Definition of color scheme for fitted estimators */\n",
              "  --sklearn-color-fitted-level-0: #f0f8ff;\n",
              "  --sklearn-color-fitted-level-1: #d4ebff;\n",
              "  --sklearn-color-fitted-level-2: #b3dbfd;\n",
              "  --sklearn-color-fitted-level-3: cornflowerblue;\n",
              "\n",
              "  /* Specific color for light theme */\n",
              "  --sklearn-color-text-on-default-background: var(--sg-text-color, var(--theme-code-foreground, var(--jp-content-font-color1, black)));\n",
              "  --sklearn-color-background: var(--sg-background-color, var(--theme-background, var(--jp-layout-color0, white)));\n",
              "  --sklearn-color-border-box: var(--sg-text-color, var(--theme-code-foreground, var(--jp-content-font-color1, black)));\n",
              "  --sklearn-color-icon: #696969;\n",
              "\n",
              "  @media (prefers-color-scheme: dark) {\n",
              "    /* Redefinition of color scheme for dark theme */\n",
              "    --sklearn-color-text-on-default-background: var(--sg-text-color, var(--theme-code-foreground, var(--jp-content-font-color1, white)));\n",
              "    --sklearn-color-background: var(--sg-background-color, var(--theme-background, var(--jp-layout-color0, #111)));\n",
              "    --sklearn-color-border-box: var(--sg-text-color, var(--theme-code-foreground, var(--jp-content-font-color1, white)));\n",
              "    --sklearn-color-icon: #878787;\n",
              "  }\n",
              "}\n",
              "\n",
              "#sk-container-id-4 {\n",
              "  color: var(--sklearn-color-text);\n",
              "}\n",
              "\n",
              "#sk-container-id-4 pre {\n",
              "  padding: 0;\n",
              "}\n",
              "\n",
              "#sk-container-id-4 input.sk-hidden--visually {\n",
              "  border: 0;\n",
              "  clip: rect(1px 1px 1px 1px);\n",
              "  clip: rect(1px, 1px, 1px, 1px);\n",
              "  height: 1px;\n",
              "  margin: -1px;\n",
              "  overflow: hidden;\n",
              "  padding: 0;\n",
              "  position: absolute;\n",
              "  width: 1px;\n",
              "}\n",
              "\n",
              "#sk-container-id-4 div.sk-dashed-wrapped {\n",
              "  border: 1px dashed var(--sklearn-color-line);\n",
              "  margin: 0 0.4em 0.5em 0.4em;\n",
              "  box-sizing: border-box;\n",
              "  padding-bottom: 0.4em;\n",
              "  background-color: var(--sklearn-color-background);\n",
              "}\n",
              "\n",
              "#sk-container-id-4 div.sk-container {\n",
              "  /* jupyter's `normalize.less` sets `[hidden] { display: none; }`\n",
              "     but bootstrap.min.css set `[hidden] { display: none !important; }`\n",
              "     so we also need the `!important` here to be able to override the\n",
              "     default hidden behavior on the sphinx rendered scikit-learn.org.\n",
              "     See: https://github.com/scikit-learn/scikit-learn/issues/21755 */\n",
              "  display: inline-block !important;\n",
              "  position: relative;\n",
              "}\n",
              "\n",
              "#sk-container-id-4 div.sk-text-repr-fallback {\n",
              "  display: none;\n",
              "}\n",
              "\n",
              "div.sk-parallel-item,\n",
              "div.sk-serial,\n",
              "div.sk-item {\n",
              "  /* draw centered vertical line to link estimators */\n",
              "  background-image: linear-gradient(var(--sklearn-color-text-on-default-background), var(--sklearn-color-text-on-default-background));\n",
              "  background-size: 2px 100%;\n",
              "  background-repeat: no-repeat;\n",
              "  background-position: center center;\n",
              "}\n",
              "\n",
              "/* Parallel-specific style estimator block */\n",
              "\n",
              "#sk-container-id-4 div.sk-parallel-item::after {\n",
              "  content: \"\";\n",
              "  width: 100%;\n",
              "  border-bottom: 2px solid var(--sklearn-color-text-on-default-background);\n",
              "  flex-grow: 1;\n",
              "}\n",
              "\n",
              "#sk-container-id-4 div.sk-parallel {\n",
              "  display: flex;\n",
              "  align-items: stretch;\n",
              "  justify-content: center;\n",
              "  background-color: var(--sklearn-color-background);\n",
              "  position: relative;\n",
              "}\n",
              "\n",
              "#sk-container-id-4 div.sk-parallel-item {\n",
              "  display: flex;\n",
              "  flex-direction: column;\n",
              "}\n",
              "\n",
              "#sk-container-id-4 div.sk-parallel-item:first-child::after {\n",
              "  align-self: flex-end;\n",
              "  width: 50%;\n",
              "}\n",
              "\n",
              "#sk-container-id-4 div.sk-parallel-item:last-child::after {\n",
              "  align-self: flex-start;\n",
              "  width: 50%;\n",
              "}\n",
              "\n",
              "#sk-container-id-4 div.sk-parallel-item:only-child::after {\n",
              "  width: 0;\n",
              "}\n",
              "\n",
              "/* Serial-specific style estimator block */\n",
              "\n",
              "#sk-container-id-4 div.sk-serial {\n",
              "  display: flex;\n",
              "  flex-direction: column;\n",
              "  align-items: center;\n",
              "  background-color: var(--sklearn-color-background);\n",
              "  padding-right: 1em;\n",
              "  padding-left: 1em;\n",
              "}\n",
              "\n",
              "\n",
              "/* Toggleable style: style used for estimator/Pipeline/ColumnTransformer box that is\n",
              "clickable and can be expanded/collapsed.\n",
              "- Pipeline and ColumnTransformer use this feature and define the default style\n",
              "- Estimators will overwrite some part of the style using the `sk-estimator` class\n",
              "*/\n",
              "\n",
              "/* Pipeline and ColumnTransformer style (default) */\n",
              "\n",
              "#sk-container-id-4 div.sk-toggleable {\n",
              "  /* Default theme specific background. It is overwritten whether we have a\n",
              "  specific estimator or a Pipeline/ColumnTransformer */\n",
              "  background-color: var(--sklearn-color-background);\n",
              "}\n",
              "\n",
              "/* Toggleable label */\n",
              "#sk-container-id-4 label.sk-toggleable__label {\n",
              "  cursor: pointer;\n",
              "  display: block;\n",
              "  width: 100%;\n",
              "  margin-bottom: 0;\n",
              "  padding: 0.5em;\n",
              "  box-sizing: border-box;\n",
              "  text-align: center;\n",
              "}\n",
              "\n",
              "#sk-container-id-4 label.sk-toggleable__label-arrow:before {\n",
              "  /* Arrow on the left of the label */\n",
              "  content: \"▸\";\n",
              "  float: left;\n",
              "  margin-right: 0.25em;\n",
              "  color: var(--sklearn-color-icon);\n",
              "}\n",
              "\n",
              "#sk-container-id-4 label.sk-toggleable__label-arrow:hover:before {\n",
              "  color: var(--sklearn-color-text);\n",
              "}\n",
              "\n",
              "/* Toggleable content - dropdown */\n",
              "\n",
              "#sk-container-id-4 div.sk-toggleable__content {\n",
              "  max-height: 0;\n",
              "  max-width: 0;\n",
              "  overflow: hidden;\n",
              "  text-align: left;\n",
              "  /* unfitted */\n",
              "  background-color: var(--sklearn-color-unfitted-level-0);\n",
              "}\n",
              "\n",
              "#sk-container-id-4 div.sk-toggleable__content.fitted {\n",
              "  /* fitted */\n",
              "  background-color: var(--sklearn-color-fitted-level-0);\n",
              "}\n",
              "\n",
              "#sk-container-id-4 div.sk-toggleable__content pre {\n",
              "  margin: 0.2em;\n",
              "  border-radius: 0.25em;\n",
              "  color: var(--sklearn-color-text);\n",
              "  /* unfitted */\n",
              "  background-color: var(--sklearn-color-unfitted-level-0);\n",
              "}\n",
              "\n",
              "#sk-container-id-4 div.sk-toggleable__content.fitted pre {\n",
              "  /* unfitted */\n",
              "  background-color: var(--sklearn-color-fitted-level-0);\n",
              "}\n",
              "\n",
              "#sk-container-id-4 input.sk-toggleable__control:checked~div.sk-toggleable__content {\n",
              "  /* Expand drop-down */\n",
              "  max-height: 200px;\n",
              "  max-width: 100%;\n",
              "  overflow: auto;\n",
              "}\n",
              "\n",
              "#sk-container-id-4 input.sk-toggleable__control:checked~label.sk-toggleable__label-arrow:before {\n",
              "  content: \"▾\";\n",
              "}\n",
              "\n",
              "/* Pipeline/ColumnTransformer-specific style */\n",
              "\n",
              "#sk-container-id-4 div.sk-label input.sk-toggleable__control:checked~label.sk-toggleable__label {\n",
              "  color: var(--sklearn-color-text);\n",
              "  background-color: var(--sklearn-color-unfitted-level-2);\n",
              "}\n",
              "\n",
              "#sk-container-id-4 div.sk-label.fitted input.sk-toggleable__control:checked~label.sk-toggleable__label {\n",
              "  background-color: var(--sklearn-color-fitted-level-2);\n",
              "}\n",
              "\n",
              "/* Estimator-specific style */\n",
              "\n",
              "/* Colorize estimator box */\n",
              "#sk-container-id-4 div.sk-estimator input.sk-toggleable__control:checked~label.sk-toggleable__label {\n",
              "  /* unfitted */\n",
              "  background-color: var(--sklearn-color-unfitted-level-2);\n",
              "}\n",
              "\n",
              "#sk-container-id-4 div.sk-estimator.fitted input.sk-toggleable__control:checked~label.sk-toggleable__label {\n",
              "  /* fitted */\n",
              "  background-color: var(--sklearn-color-fitted-level-2);\n",
              "}\n",
              "\n",
              "#sk-container-id-4 div.sk-label label.sk-toggleable__label,\n",
              "#sk-container-id-4 div.sk-label label {\n",
              "  /* The background is the default theme color */\n",
              "  color: var(--sklearn-color-text-on-default-background);\n",
              "}\n",
              "\n",
              "/* On hover, darken the color of the background */\n",
              "#sk-container-id-4 div.sk-label:hover label.sk-toggleable__label {\n",
              "  color: var(--sklearn-color-text);\n",
              "  background-color: var(--sklearn-color-unfitted-level-2);\n",
              "}\n",
              "\n",
              "/* Label box, darken color on hover, fitted */\n",
              "#sk-container-id-4 div.sk-label.fitted:hover label.sk-toggleable__label.fitted {\n",
              "  color: var(--sklearn-color-text);\n",
              "  background-color: var(--sklearn-color-fitted-level-2);\n",
              "}\n",
              "\n",
              "/* Estimator label */\n",
              "\n",
              "#sk-container-id-4 div.sk-label label {\n",
              "  font-family: monospace;\n",
              "  font-weight: bold;\n",
              "  display: inline-block;\n",
              "  line-height: 1.2em;\n",
              "}\n",
              "\n",
              "#sk-container-id-4 div.sk-label-container {\n",
              "  text-align: center;\n",
              "}\n",
              "\n",
              "/* Estimator-specific */\n",
              "#sk-container-id-4 div.sk-estimator {\n",
              "  font-family: monospace;\n",
              "  border: 1px dotted var(--sklearn-color-border-box);\n",
              "  border-radius: 0.25em;\n",
              "  box-sizing: border-box;\n",
              "  margin-bottom: 0.5em;\n",
              "  /* unfitted */\n",
              "  background-color: var(--sklearn-color-unfitted-level-0);\n",
              "}\n",
              "\n",
              "#sk-container-id-4 div.sk-estimator.fitted {\n",
              "  /* fitted */\n",
              "  background-color: var(--sklearn-color-fitted-level-0);\n",
              "}\n",
              "\n",
              "/* on hover */\n",
              "#sk-container-id-4 div.sk-estimator:hover {\n",
              "  /* unfitted */\n",
              "  background-color: var(--sklearn-color-unfitted-level-2);\n",
              "}\n",
              "\n",
              "#sk-container-id-4 div.sk-estimator.fitted:hover {\n",
              "  /* fitted */\n",
              "  background-color: var(--sklearn-color-fitted-level-2);\n",
              "}\n",
              "\n",
              "/* Specification for estimator info (e.g. \"i\" and \"?\") */\n",
              "\n",
              "/* Common style for \"i\" and \"?\" */\n",
              "\n",
              ".sk-estimator-doc-link,\n",
              "a:link.sk-estimator-doc-link,\n",
              "a:visited.sk-estimator-doc-link {\n",
              "  float: right;\n",
              "  font-size: smaller;\n",
              "  line-height: 1em;\n",
              "  font-family: monospace;\n",
              "  background-color: var(--sklearn-color-background);\n",
              "  border-radius: 1em;\n",
              "  height: 1em;\n",
              "  width: 1em;\n",
              "  text-decoration: none !important;\n",
              "  margin-left: 1ex;\n",
              "  /* unfitted */\n",
              "  border: var(--sklearn-color-unfitted-level-1) 1pt solid;\n",
              "  color: var(--sklearn-color-unfitted-level-1);\n",
              "}\n",
              "\n",
              ".sk-estimator-doc-link.fitted,\n",
              "a:link.sk-estimator-doc-link.fitted,\n",
              "a:visited.sk-estimator-doc-link.fitted {\n",
              "  /* fitted */\n",
              "  border: var(--sklearn-color-fitted-level-1) 1pt solid;\n",
              "  color: var(--sklearn-color-fitted-level-1);\n",
              "}\n",
              "\n",
              "/* On hover */\n",
              "div.sk-estimator:hover .sk-estimator-doc-link:hover,\n",
              ".sk-estimator-doc-link:hover,\n",
              "div.sk-label-container:hover .sk-estimator-doc-link:hover,\n",
              ".sk-estimator-doc-link:hover {\n",
              "  /* unfitted */\n",
              "  background-color: var(--sklearn-color-unfitted-level-3);\n",
              "  color: var(--sklearn-color-background);\n",
              "  text-decoration: none;\n",
              "}\n",
              "\n",
              "div.sk-estimator.fitted:hover .sk-estimator-doc-link.fitted:hover,\n",
              ".sk-estimator-doc-link.fitted:hover,\n",
              "div.sk-label-container:hover .sk-estimator-doc-link.fitted:hover,\n",
              ".sk-estimator-doc-link.fitted:hover {\n",
              "  /* fitted */\n",
              "  background-color: var(--sklearn-color-fitted-level-3);\n",
              "  color: var(--sklearn-color-background);\n",
              "  text-decoration: none;\n",
              "}\n",
              "\n",
              "/* Span, style for the box shown on hovering the info icon */\n",
              ".sk-estimator-doc-link span {\n",
              "  display: none;\n",
              "  z-index: 9999;\n",
              "  position: relative;\n",
              "  font-weight: normal;\n",
              "  right: .2ex;\n",
              "  padding: .5ex;\n",
              "  margin: .5ex;\n",
              "  width: min-content;\n",
              "  min-width: 20ex;\n",
              "  max-width: 50ex;\n",
              "  color: var(--sklearn-color-text);\n",
              "  box-shadow: 2pt 2pt 4pt #999;\n",
              "  /* unfitted */\n",
              "  background: var(--sklearn-color-unfitted-level-0);\n",
              "  border: .5pt solid var(--sklearn-color-unfitted-level-3);\n",
              "}\n",
              "\n",
              ".sk-estimator-doc-link.fitted span {\n",
              "  /* fitted */\n",
              "  background: var(--sklearn-color-fitted-level-0);\n",
              "  border: var(--sklearn-color-fitted-level-3);\n",
              "}\n",
              "\n",
              ".sk-estimator-doc-link:hover span {\n",
              "  display: block;\n",
              "}\n",
              "\n",
              "/* \"?\"-specific style due to the `<a>` HTML tag */\n",
              "\n",
              "#sk-container-id-4 a.estimator_doc_link {\n",
              "  float: right;\n",
              "  font-size: 1rem;\n",
              "  line-height: 1em;\n",
              "  font-family: monospace;\n",
              "  background-color: var(--sklearn-color-background);\n",
              "  border-radius: 1rem;\n",
              "  height: 1rem;\n",
              "  width: 1rem;\n",
              "  text-decoration: none;\n",
              "  /* unfitted */\n",
              "  color: var(--sklearn-color-unfitted-level-1);\n",
              "  border: var(--sklearn-color-unfitted-level-1) 1pt solid;\n",
              "}\n",
              "\n",
              "#sk-container-id-4 a.estimator_doc_link.fitted {\n",
              "  /* fitted */\n",
              "  border: var(--sklearn-color-fitted-level-1) 1pt solid;\n",
              "  color: var(--sklearn-color-fitted-level-1);\n",
              "}\n",
              "\n",
              "/* On hover */\n",
              "#sk-container-id-4 a.estimator_doc_link:hover {\n",
              "  /* unfitted */\n",
              "  background-color: var(--sklearn-color-unfitted-level-3);\n",
              "  color: var(--sklearn-color-background);\n",
              "  text-decoration: none;\n",
              "}\n",
              "\n",
              "#sk-container-id-4 a.estimator_doc_link.fitted:hover {\n",
              "  /* fitted */\n",
              "  background-color: var(--sklearn-color-fitted-level-3);\n",
              "}\n",
              "</style><div id=\"sk-container-id-4\" class=\"sk-top-container\"><div class=\"sk-text-repr-fallback\"><pre>LinearRegression()</pre><b>In a Jupyter environment, please rerun this cell to show the HTML representation or trust the notebook. <br />On GitHub, the HTML representation is unable to render, please try loading this page with nbviewer.org.</b></div><div class=\"sk-container\" hidden><div class=\"sk-item\"><div class=\"sk-estimator fitted sk-toggleable\"><input class=\"sk-toggleable__control sk-hidden--visually\" id=\"sk-estimator-id-4\" type=\"checkbox\" checked><label for=\"sk-estimator-id-4\" class=\"sk-toggleable__label fitted sk-toggleable__label-arrow fitted\">&nbsp;&nbsp;LinearRegression<a class=\"sk-estimator-doc-link fitted\" rel=\"noreferrer\" target=\"_blank\" href=\"https://scikit-learn.org/1.4/modules/generated/sklearn.linear_model.LinearRegression.html\">?<span>Documentation for LinearRegression</span></a><span class=\"sk-estimator-doc-link fitted\">i<span>Fitted</span></span></label><div class=\"sk-toggleable__content fitted\"><pre>LinearRegression()</pre></div> </div></div></div></div>"
            ],
            "text/plain": [
              "LinearRegression()"
            ]
          },
          "execution_count": 85,
          "metadata": {},
          "output_type": "execute_result"
        }
      ],
      "source": [
        "#Taken directly from Orestes Appel's course notes on Linear Regression - COMP 4522 Winter 2024\n",
        "from sklearn.linear_model import LinearRegression\n",
        "regressor = LinearRegression()\n",
        "\n",
        "# Now we need to \"fit\" the line to our data: we use .fit with our X_tran and y_train data. \n",
        "regressor.fit(X_train, y_train)"
      ]
    },
    {
      "cell_type": "code",
      "execution_count": 86,
      "id": "416f752d-f166-495b-aee4-0ea721df118a",
      "metadata": {
        "trusted": true
      },
      "outputs": [
        {
          "name": "stdout",
          "output_type": "stream",
          "text": [
            "[18.08535503]\n"
          ]
        }
      ],
      "source": [
        "#Taken directly from Orestes Appel's course notes on Linear Regression - COMP 4522 Winter 2024\n",
        "print(regressor.intercept_)"
      ]
    },
    {
      "cell_type": "code",
      "execution_count": 87,
      "id": "6770044b-89ad-474f-9db5-8ae7da6e38be",
      "metadata": {
        "trusted": true
      },
      "outputs": [
        {
          "name": "stdout",
          "output_type": "stream",
          "text": [
            "[[6.37110352]]\n"
          ]
        }
      ],
      "source": [
        "#Taken directly from Orestes Appel's course notes on Linear Regression - COMP 4522 Winter 2024\n",
        "print(regressor.coef_)"
      ]
    },
    {
      "cell_type": "code",
      "execution_count": 88,
      "id": "fbc104d4-2014-4ee6-84a6-0325835f0e98",
      "metadata": {
        "trusted": true
      },
      "outputs": [
        {
          "name": "stdout",
          "output_type": "stream",
          "text": [
            "[[81.79639027]]\n"
          ]
        }
      ],
      "source": [
        "#Taken directly from Orestes Appel's course notes on Linear Regression - COMP 4522 Winter 2024\n",
        "score = regressor.predict([[10]]) # We are passing 10 in double brackets to have a 2-dimensional array\n",
        "print(score)"
      ]
    },
    {
      "cell_type": "code",
      "execution_count": 89,
      "id": "8ab95514-2a26-4f4c-93e9-5c862d9c96cc",
      "metadata": {
        "trusted": true
      },
      "outputs": [
        {
          "name": "stdout",
          "output_type": "stream",
          "text": [
            "       Actual  Predicted\n",
            "0        47.0  49.940873\n",
            "1        78.0  69.054183\n",
            "2        91.0  94.538597\n",
            "3        53.0  56.311976\n",
            "4        79.0  69.054183\n",
            "...       ...        ...\n",
            "41915    73.0  69.054183\n",
            "41916    65.0  62.683080\n",
            "41917    84.0  81.796390\n",
            "41918    65.0  62.683080\n",
            "41919    67.0  62.683080\n",
            "\n",
            "[41920 rows x 2 columns]\n"
          ]
        }
      ],
      "source": [
        "#Taken directly from Orestes Appel's course notes on Linear Regression - COMP 4522 Winter 2024\n",
        "y_pred = regressor.predict(X_test)\n",
        "df_preds = pd.DataFrame({'Actual': y_test.squeeze(), 'Predicted': y_pred.squeeze()})\n",
        "print(df_preds)"
      ]
    },
    {
      "cell_type": "code",
      "execution_count": 90,
      "id": "4b48ccd9-aa82-4549-b35e-96b07e55a49c",
      "metadata": {
        "trusted": true
      },
      "outputs": [],
      "source": [
        "# This is the 2nd version of the Linear Regression Model based on Rutu's experiences and learnings from her\n",
        "# Articifical Intelligence and Machine Learning Classes at MRU\n",
        "\n",
        "# Feel free to uncomment this section if you would like to run this model instead :)\n",
        "\n",
        "# X = cleaned_performance_df[['Effort_Hours']]\n",
        "# y = cleaned_performance_df['Marks']\n",
        "\n",
        "# X_train, X_test, y_train, y_test = train_test_split(X, y, test_size=0.2, random_state=42)\n",
        "\n",
        "# model = LinearRegression()\n",
        "# model.fit(X_train, y_train)\n",
        "\n",
        "# y_pred = model.predict(X_test)\n",
        "\n",
        "# mse = mean_squared_error(y_test, y_pred)\n",
        "# r2 = r2_score(y_test, y_pred)\n",
        "\n",
        "# print(\"Mean Squared Error:\", mse)\n",
        "# print(\"R-squared:\", r2)\n",
        "\n",
        "\n",
        "# next_paper_effort = 10 \n",
        "# next_paper_grade = model.predict([[next_paper_effort]])\n",
        "# print(\"Predicted grade for the next paper (assuming an effort of\", next_paper_effort, \"hours):\", next_paper_grade[0])\n"
      ]
    },
    {
      "cell_type": "code",
      "execution_count": 91,
      "id": "733418ef-e94e-40c4-b8c4-8c1e20072b3c",
      "metadata": {
        "trusted": true
      },
      "outputs": [
        {
          "name": "stdout",
          "output_type": "stream",
          "text": [
            "mae = 3.73\n",
            "mse = 22.19\n",
            "rmse = 4.71\n",
            "R-squared (R2): 0.9324671926544666\n"
          ]
        }
      ],
      "source": [
        "### EVALUATING the Model ###\n",
        "#Taken directly from Orestes Appel's course notes on Linear Regression - COMP 4522 Winter 2024\n",
        "from sklearn.metrics import mean_absolute_error, mean_squared_error\n",
        "\n",
        "mae = mean_absolute_error(y_test, y_pred) \n",
        "mse = mean_squared_error(y_test, y_pred)\n",
        "rmse = np.sqrt(mse) # Root Mean Squared Error\n",
        "print(f\"mae = {mae:.2f}\")\n",
        "print(f\"mse = {mse:.2f}\")\n",
        "print(f\"rmse = {rmse:.2f}\")\n",
        "\n",
        "r2 = r2_score(y_test, y_pred)\n",
        "print(\"R-squared (R2):\", r2)"
      ]
    },
    {
      "cell_type": "code",
      "execution_count": 92,
      "id": "7ba3cbec-fb93-40ce-95a4-b9e83d3cf566",
      "metadata": {
        "trusted": true
      },
      "outputs": [
        {
          "data": {
            "image/png": "[encoded data removed]",
            "text/plain": [
              "<Figure size 800x600 with 1 Axes>"
            ]
          },
          "metadata": {},
          "output_type": "display_data"
        }
      ],
      "source": [
        "# Residuals provide valuable information about the goodness-of-fit of the regression model.\n",
        "# If the residuals have a systematic pattern (all positive or negative), it indicates that the model is biased and does not capture certain features of the data.\n",
        "# Large residuals may indicate outliers or influential data points that have a disproportionate impact on the model's performance.\n",
        "\n",
        "# Residual Plot for the 'Full' dataset that was cleaned\n",
        "residuals = y_test - y_pred\n",
        "plt.figure(figsize=(8, 6))\n",
        "plt.scatter(y_pred, residuals)\n",
        "plt.axhline(y=0, color='r', linestyle='--')\n",
        "plt.title('Residual Plot - Full')\n",
        "plt.xlabel('Predicted Values')\n",
        "plt.ylabel('Residuals')\n",
        "plt.show()\n"
      ]
    },
    {
      "cell_type": "code",
      "execution_count": 93,
      "id": "6b42fab2-a431-4218-a042-a4e9d3c61391",
      "metadata": {
        "trusted": true
      },
      "outputs": [
        {
          "data": {
            "image/png": "[encoded data removed]",
            "text/plain": [
              "<Figure size 800x600 with 1 Axes>"
            ]
          },
          "metadata": {},
          "output_type": "display_data"
        }
      ],
      "source": [
        "# Actual vs. Predicted Plot - Full Dataset\n",
        "plt.figure(figsize=(8, 6))\n",
        "plt.scatter(y_test, y_pred)\n",
        "plt.plot([y_test.min(), y_test.max()], [y_test.min(), y_test.max()], 'r--')\n",
        "plt.title('Actual vs. Predicted Plot - Full')\n",
        "plt.xlabel('Actual Values')\n",
        "plt.ylabel('Predicted Values')\n",
        "plt.show()\n",
        "\n",
        "# This is just for fun! "
      ]
    },
    {
      "cell_type": "code",
      "execution_count": 94,
      "id": "8812202a-6b94-4755-8998-171d4267b07e",
      "metadata": {
        "trusted": true
      },
      "outputs": [
        {
          "data": {
            "image/png": "[encoded data removed]",
            "text/plain": [
              "<Figure size 1000x800 with 2 Axes>"
            ]
          },
          "metadata": {},
          "output_type": "display_data"
        }
      ],
      "source": [
        "correlation_matrix = cleaned_performance_df.corr(numeric_only=True)\n",
        "\n",
        "plt.figure(figsize=(10, 8))\n",
        "heatmap = plt.imshow(correlation_matrix, cmap='viridis', interpolation='nearest')\n",
        "\n",
        "plt.colorbar(heatmap)\n",
        "plt.title('Correlation Heatmap - Full')\n",
        "plt.xticks(range(len(correlation_matrix)), correlation_matrix.columns, rotation=45)\n",
        "plt.yticks(range(len(correlation_matrix)), correlation_matrix.columns)\n",
        "\n",
        "for i in range(len(correlation_matrix)):\n",
        "    for j in range(len(correlation_matrix)):\n",
        "        plt.text(j, i, f'{correlation_matrix.iloc[i, j]:.2f}', ha='center', va='center', color='white')\n",
        "\n",
        "plt.tight_layout()\n",
        "plt.show()\n",
        "\n",
        "# We did the correlation before as well but this is a more visual medium to share the info\n"
      ]
    },
    {
      "cell_type": "code",
      "execution_count": null,
      "id": "7fc9a126-2ca6-46d1-9f0e-3a763d05aed1",
      "metadata": {
        "trusted": true
      },
      "outputs": [],
      "source": []
    },
    {
      "cell_type": "code",
      "execution_count": null,
      "id": "6fd5d9a8-2d97-40fb-8508-58d46856dcdb",
      "metadata": {
        "trusted": true
      },
      "outputs": [],
      "source": []
    }
  ],
  "metadata": {
    "kernelspec": {
      "display_name": "Python 3.12.2 64-bit",
      "language": "python",
      "name": "python3"
    },
    "language_info": {
      "codemirror_mode": {
        "name": "ipython",
        "version": 3
      },
      "file_extension": ".py",
      "mimetype": "text/x-python",
      "name": "python",
      "nbconvert_exporter": "python",
      "pygments_lexer": "ipython3",
      "version": "3.12.2"
    },
    "vscode": {
      "interpreter": {
        "hash": "a45359cc4536f02b2f56388aac8bc3b27fd55f1e1d120c6f98869d988eda6b99"
      }
    }
  },
  "nbformat": 4,
  "nbformat_minor": 5
}
