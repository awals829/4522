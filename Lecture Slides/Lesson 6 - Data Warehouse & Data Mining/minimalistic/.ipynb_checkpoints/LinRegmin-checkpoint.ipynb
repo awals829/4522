{
 "cells": [
  {
   "cell_type": "code",
   "execution_count": 45,
   "id": "11b0a979",
   "metadata": {},
   "outputs": [],
   "source": [
    "import pandas as pd\n",
    "import matplotlib.pyplot as plt\n",
    "import numpy as np"
   ]
  },
  {
   "cell_type": "code",
   "execution_count": 46,
   "id": "b4591b83",
   "metadata": {},
   "outputs": [],
   "source": [
    "#PROBLEM: If you had studied longer, would your overall scores get any better\n",
    "#One way of answering this question is by having data on how long you studied for and what scores you got. \n",
    "#We can then try to see if there is a pattern in that data, and if in that pattern, when you add to the hours, \n",
    "#it also ends up adding to the scores percentage.\n",
    "\n",
    "#For instance, say you have an hour-score dataset, which contains entries such as 1.5h and 87.5% score. \n",
    "#It could also contain 1.61h, 2.32h and 78%, 97% scores. The kind of data type that can have any intermediate\n",
    "#value (or any level of 'granularity') is known as continuous data.\n",
    "\n",
    "#Based on the modality (form) of your data - to figure out what score you'd get based on your study time - \n",
    "# you'll perform regression or classification.\n"
   ]
  },
  {
   "cell_type": "code",
   "execution_count": 47,
   "id": "c67b956d",
   "metadata": {},
   "outputs": [],
   "source": [
    "### IMPORTANT ###\n",
    "# Regression is performed on continuous data, while classification is performed on discrete data.\n",
    "# Regression can be anything from predicting someone's age, the house of a price, or value of any variable.\n",
    "# Classification includes predicting what class something belongs to (such as whether a tumor is benign or\n",
    "# malignant)."
   ]
  },
  {
   "cell_type": "code",
   "execution_count": 48,
   "id": "3a879fe7",
   "metadata": {},
   "outputs": [],
   "source": [
    "# For both regression and classification - we'll use data to predict labels\n",
    "# (umbrella-term for the target variables). Labels can be anything from \"B\" (class)\n",
    "# for classification tasks to 123 (number) for regression tasks. \n",
    "# Because we're also supplying the labels - these are supervised learning algorithms."
   ]
  },
  {
   "cell_type": "code",
   "execution_count": 49,
   "id": "8b23b20c",
   "metadata": {},
   "outputs": [],
   "source": [
    "# Load the data\n",
    "df = pd.read_csv('student_scores.csv') # You'll have to enter the name of your file"
   ]
  },
  {
   "cell_type": "code",
   "execution_count": 50,
   "id": "8ab7715c",
   "metadata": {},
   "outputs": [
    {
     "name": "stdout",
     "output_type": "stream",
     "text": [
      "   Hours  Scores\n",
      "0    2.5      21\n",
      "1    5.1      47\n",
      "2    3.2      27\n",
      "3    8.5      75\n",
      "4    3.5      30\n"
     ]
    }
   ],
   "source": [
    "# Let's do Exploratory Analysis (quick look for the first 5 elements in the data: the head)\n",
    "print(df.head())"
   ]
  },
  {
   "cell_type": "code",
   "execution_count": 51,
   "id": "ca5818ce",
   "metadata": {},
   "outputs": [
    {
     "data": {
      "text/plain": [
       "(25, 2)"
      ]
     },
     "execution_count": 51,
     "metadata": {},
     "output_type": "execute_result"
    }
   ],
   "source": [
    "# Let's check the shape of the data set\n",
    "df.shape"
   ]
  },
  {
   "cell_type": "code",
   "execution_count": 52,
   "id": "df0bf93e",
   "metadata": {},
   "outputs": [],
   "source": [
    "# We are looking for the relationship between grades and scores. Scatterplots are a great way to explore\n",
    "# relationships. Observe that as the hours go up, so do the grades: this is a fairly positive correlation!\n",
    "# The shapes created by the points in the plots point towards a line, so this looks like a \"positive linear\n",
    "# correlation\""
   ]
  },
  {
   "cell_type": "code",
   "execution_count": 53,
   "id": "c25d3f31",
   "metadata": {},
   "outputs": [
    {
     "data": {
      "text/plain": [
       "<AxesSubplot: title={'center': 'Scatterplot of hours and scores percentages'}, xlabel='Hours', ylabel='Scores'>"
      ]
     },
     "execution_count": 53,
     "metadata": {},
     "output_type": "execute_result"
    },
    {
     "data": {
      "image/png": "[encoded data removed]",
      "text/plain": [
       "<Figure size 640x480 with 1 Axes>"
      ]
     },
     "metadata": {},
     "output_type": "display_data"
    }
   ],
   "source": [
    "#plt.scatter(x=df['Hours'], y=df['Scores'])\n",
    "#plt.title('Scatterplot of hours and scores percentages')\n",
    "\n",
    "df.plot.scatter(x='Hours', y='Scores', title='Scatterplot of hours and scores percentages')\n",
    "# Modufy values for labels for axis and title, as needed"
   ]
  },
  {
   "cell_type": "code",
   "execution_count": 54,
   "id": "7acd8f7f",
   "metadata": {},
   "outputs": [
    {
     "name": "stdout",
     "output_type": "stream",
     "text": [
      "           Hours    Scores\n",
      "Hours   1.000000  0.976191\n",
      "Scores  0.976191  1.000000\n"
     ]
    }
   ],
   "source": [
    "# Let's display in a Data Frame the correlations, using the method \"corr()\"\n",
    "# Correlation between hours and scores is 0.97 (anything above 0.8 is considered to be \"high\").\n",
    "# When we have a linear relationship between two variables we obtain a line; in the case of three or more\n",
    "# variables, then we are looking at an intersection of planes.\n",
    "print(df.corr())"
   ]
  },
  {
   "cell_type": "code",
   "execution_count": 55,
   "id": "34e287ce",
   "metadata": {},
   "outputs": [
    {
     "name": "stdout",
     "output_type": "stream",
     "text": [
      "           Hours     Scores\n",
      "count  25.000000  25.000000\n",
      "mean    5.012000  51.480000\n",
      "std     2.525094  25.286887\n",
      "min     1.100000  17.000000\n",
      "25%     2.700000  30.000000\n",
      "50%     4.800000  47.000000\n",
      "75%     7.400000  75.000000\n",
      "max     9.200000  95.000000\n"
     ]
    }
   ],
   "source": [
    "#Using pandas' describe, we get for free some statitical summaries.\n",
    "print(df.describe())"
   ]
  },
  {
   "cell_type": "code",
   "execution_count": 56,
   "id": "902d4df4",
   "metadata": {},
   "outputs": [],
   "source": [
    "# Because of linearity, we will use y = ax + b. \n",
    "# y representes the score percentage\n",
    "# x represents the hours studied\n",
    "# b is where the line starts at the Y-axis (called Y-axis intercept)\n",
    "# a defines whether the line is going to move up/down in the graph (after all, it is the slope)."
   ]
  },
  {
   "cell_type": "code",
   "execution_count": 57,
   "id": "84cb78ed",
   "metadata": {},
   "outputs": [],
   "source": [
    "#### IMPORTANT ###\n",
    "# By adjusting the slope and intercept of the line, we can move it in any direction.\n",
    "# Thus - by figuring out the slope and intercept values, we can adjust a line to fit our data!\n",
    "\n",
    "# That's the heart of linear regression and an algorithm really only figures out the values of the slope\n",
    "# and intercept. It uses the values of x and y that we already have and varies the values of a and b. \n",
    "# By doing that, it fits multiple lines to the data points and returns the line that is closer to all the\n",
    "# data points, or the best fitting line. By modelling that linear relationship, our regression algorithm\n",
    "# is also called a model. In this process, when we try to determine, or predict the percentage based on\n",
    "# the hours, it means that our y variable depends on the values of our x variable."
   ]
  },
  {
   "cell_type": "code",
   "execution_count": 58,
   "id": "76397848",
   "metadata": {},
   "outputs": [],
   "source": [
    "### DATA PRE-PROCESSING ###\n",
    "# Let's divide the data frame in 2 arrays: one for the independent variable (y) and one for the dependent one (x)\n",
    "y = df['Scores'].values.reshape(-1, 1)\n",
    "X = df['Hours'].values.reshape(-1, 1)"
   ]
  },
  {
   "cell_type": "code",
   "execution_count": 59,
   "id": "91996a4e",
   "metadata": {},
   "outputs": [
    {
     "name": "stdout",
     "output_type": "stream",
     "text": [
      "X shape: (25, 1)\n",
      "X: [[2.5]\n",
      " [5.1]\n",
      " [3.2]\n",
      " [8.5]\n",
      " [3.5]\n",
      " [1.5]\n",
      " [9.2]\n",
      " [5.5]\n",
      " [8.3]\n",
      " [2.7]\n",
      " [7.7]\n",
      " [5.9]\n",
      " [4.5]\n",
      " [3.3]\n",
      " [1.1]\n",
      " [8.9]\n",
      " [2.5]\n",
      " [1.9]\n",
      " [6.1]\n",
      " [7.4]\n",
      " [2.7]\n",
      " [4.8]\n",
      " [3.8]\n",
      " [6.9]\n",
      " [7.8]]\n",
      "X shape: (25, 1)\n",
      "Y: [[21]\n",
      " [47]\n",
      " [27]\n",
      " [75]\n",
      " [30]\n",
      " [20]\n",
      " [88]\n",
      " [60]\n",
      " [81]\n",
      " [25]\n",
      " [85]\n",
      " [62]\n",
      " [41]\n",
      " [42]\n",
      " [17]\n",
      " [95]\n",
      " [30]\n",
      " [24]\n",
      " [67]\n",
      " [69]\n",
      " [30]\n",
      " [54]\n",
      " [35]\n",
      " [76]\n",
      " [86]]\n"
     ]
    }
   ],
   "source": [
    "print('X shape:', X.shape)\n",
    "print('X:', X)\n",
    "print('X shape:', y.shape)\n",
    "print('Y:', y)"
   ]
  },
  {
   "cell_type": "code",
   "execution_count": 60,
   "id": "2493aec0",
   "metadata": {},
   "outputs": [
    {
     "name": "stdout",
     "output_type": "stream",
     "text": [
      "[2.5 5.1 3.2 8.5 3.5 1.5 9.2 5.5 8.3 2.7 7.7 5.9 4.5 3.3 1.1 8.9 2.5 1.9\n",
      " 6.1 7.4 2.7 4.8 3.8 6.9 7.8]\n",
      "(25,)\n"
     ]
    }
   ],
   "source": [
    "print(df['Hours'].values) # [2.5 5.1 3.2 8.5 3.5 1.5 9.2 ... ]\n",
    "print(df['Hours'].values.shape) # (25,)"
   ]
  },
  {
   "cell_type": "code",
   "execution_count": 61,
   "id": "2b98bbf5",
   "metadata": {},
   "outputs": [],
   "source": [
    "# The Liner Rgression model expects a 2D input.\n",
    "# We will \"split\" our data for training and validation/test purposes\n",
    "# Training 20% of the total of data\n",
    "# Testing 80% of the total of data"
   ]
  },
  {
   "cell_type": "code",
   "execution_count": 62,
   "id": "221616ac",
   "metadata": {},
   "outputs": [],
   "source": [
    "# As sampling is random, we will use the parameter random_state to use always the same seed: 42\n",
    "from sklearn.model_selection import train_test_split\n",
    "X_train, X_test, y_train, y_test = train_test_split(X, y, test_size = 0.2, random_state=42)\n",
    "# As test_size is 20%, the system understand that 80% of data should be used for training"
   ]
  },
  {
   "cell_type": "code",
   "execution_count": 63,
   "id": "10a8bd27",
   "metadata": {},
   "outputs": [
    {
     "name": "stdout",
     "output_type": "stream",
     "text": [
      "[[2.7]\n",
      " [3.3]\n",
      " [5.1]\n",
      " [3.8]\n",
      " [1.5]\n",
      " [3.2]\n",
      " [4.5]\n",
      " [8.9]\n",
      " [8.5]\n",
      " [3.5]\n",
      " [2.7]\n",
      " [1.9]\n",
      " [4.8]\n",
      " [6.1]\n",
      " [7.8]\n",
      " [5.5]\n",
      " [7.7]\n",
      " [1.1]\n",
      " [7.4]\n",
      " [9.2]]\n",
      "[[25]\n",
      " [42]\n",
      " [47]\n",
      " [35]\n",
      " [20]\n",
      " [27]\n",
      " [41]\n",
      " [95]\n",
      " [75]\n",
      " [30]\n",
      " [30]\n",
      " [24]\n",
      " [54]\n",
      " [67]\n",
      " [86]\n",
      " [60]\n",
      " [85]\n",
      " [17]\n",
      " [69]\n",
      " [88]]\n"
     ]
    }
   ],
   "source": [
    "print(X_train)\n",
    "print(y_train)"
   ]
  },
  {
   "cell_type": "code",
   "execution_count": 64,
   "id": "46f5be94",
   "metadata": {},
   "outputs": [
    {
     "data": {
      "text/html": [
       "<style>#sk-container-id-2 {color: black;background-color: white;}#sk-container-id-2 pre{padding: 0;}#sk-container-id-2 div.sk-toggleable {background-color: white;}#sk-container-id-2 label.sk-toggleable__label {cursor: pointer;display: block;width: 100%;margin-bottom: 0;padding: 0.3em;box-sizing: border-box;text-align: center;}#sk-container-id-2 label.sk-toggleable__label-arrow:before {content: \"▸\";float: left;margin-right: 0.25em;color: #696969;}#sk-container-id-2 label.sk-toggleable__label-arrow:hover:before {color: black;}#sk-container-id-2 div.sk-estimator:hover label.sk-toggleable__label-arrow:before {color: black;}#sk-container-id-2 div.sk-toggleable__content {max-height: 0;max-width: 0;overflow: hidden;text-align: left;background-color: #f0f8ff;}#sk-container-id-2 div.sk-toggleable__content pre {margin: 0.2em;color: black;border-radius: 0.25em;background-color: #f0f8ff;}#sk-container-id-2 input.sk-toggleable__control:checked~div.sk-toggleable__content {max-height: 200px;max-width: 100%;overflow: auto;}#sk-container-id-2 input.sk-toggleable__control:checked~label.sk-toggleable__label-arrow:before {content: \"▾\";}#sk-container-id-2 div.sk-estimator input.sk-toggleable__control:checked~label.sk-toggleable__label {background-color: #d4ebff;}#sk-container-id-2 div.sk-label input.sk-toggleable__control:checked~label.sk-toggleable__label {background-color: #d4ebff;}#sk-container-id-2 input.sk-hidden--visually {border: 0;clip: rect(1px 1px 1px 1px);clip: rect(1px, 1px, 1px, 1px);height: 1px;margin: -1px;overflow: hidden;padding: 0;position: absolute;width: 1px;}#sk-container-id-2 div.sk-estimator {font-family: monospace;background-color: #f0f8ff;border: 1px dotted black;border-radius: 0.25em;box-sizing: border-box;margin-bottom: 0.5em;}#sk-container-id-2 div.sk-estimator:hover {background-color: #d4ebff;}#sk-container-id-2 div.sk-parallel-item::after {content: \"\";width: 100%;border-bottom: 1px solid gray;flex-grow: 1;}#sk-container-id-2 div.sk-label:hover label.sk-toggleable__label {background-color: #d4ebff;}#sk-container-id-2 div.sk-serial::before {content: \"\";position: absolute;border-left: 1px solid gray;box-sizing: border-box;top: 0;bottom: 0;left: 50%;z-index: 0;}#sk-container-id-2 div.sk-serial {display: flex;flex-direction: column;align-items: center;background-color: white;padding-right: 0.2em;padding-left: 0.2em;position: relative;}#sk-container-id-2 div.sk-item {position: relative;z-index: 1;}#sk-container-id-2 div.sk-parallel {display: flex;align-items: stretch;justify-content: center;background-color: white;position: relative;}#sk-container-id-2 div.sk-item::before, #sk-container-id-2 div.sk-parallel-item::before {content: \"\";position: absolute;border-left: 1px solid gray;box-sizing: border-box;top: 0;bottom: 0;left: 50%;z-index: -1;}#sk-container-id-2 div.sk-parallel-item {display: flex;flex-direction: column;z-index: 1;position: relative;background-color: white;}#sk-container-id-2 div.sk-parallel-item:first-child::after {align-self: flex-end;width: 50%;}#sk-container-id-2 div.sk-parallel-item:last-child::after {align-self: flex-start;width: 50%;}#sk-container-id-2 div.sk-parallel-item:only-child::after {width: 0;}#sk-container-id-2 div.sk-dashed-wrapped {border: 1px dashed gray;margin: 0 0.4em 0.5em 0.4em;box-sizing: border-box;padding-bottom: 0.4em;background-color: white;}#sk-container-id-2 div.sk-label label {font-family: monospace;font-weight: bold;display: inline-block;line-height: 1.2em;}#sk-container-id-2 div.sk-label-container {text-align: center;}#sk-container-id-2 div.sk-container {/* jupyter's `normalize.less` sets `[hidden] { display: none; }` but bootstrap.min.css set `[hidden] { display: none !important; }` so we also need the `!important` here to be able to override the default hidden behavior on the sphinx rendered scikit-learn.org. See: https://github.com/scikit-learn/scikit-learn/issues/21755 */display: inline-block !important;position: relative;}#sk-container-id-2 div.sk-text-repr-fallback {display: none;}</style><div id=\"sk-container-id-2\" class=\"sk-top-container\"><div class=\"sk-text-repr-fallback\"><pre>LinearRegression()</pre><b>In a Jupyter environment, please rerun this cell to show the HTML representation or trust the notebook. <br />On GitHub, the HTML representation is unable to render, please try loading this page with nbviewer.org.</b></div><div class=\"sk-container\" hidden><div class=\"sk-item\"><div class=\"sk-estimator sk-toggleable\"><input class=\"sk-toggleable__control sk-hidden--visually\" id=\"sk-estimator-id-2\" type=\"checkbox\" checked><label for=\"sk-estimator-id-2\" class=\"sk-toggleable__label sk-toggleable__label-arrow\">LinearRegression</label><div class=\"sk-toggleable__content\"><pre>LinearRegression()</pre></div></div></div></div></div>"
      ],
      "text/plain": [
       "LinearRegression()"
      ]
     },
     "execution_count": 64,
     "metadata": {},
     "output_type": "execute_result"
    }
   ],
   "source": [
    "# Now, let's train the model. \n",
    "from sklearn.linear_model import LinearRegression\n",
    "regressor = LinearRegression()\n",
    "\n",
    "# Now we need to \"fit\" the line to our data: we use .fit with our X_tran and y_train data. \n",
    "regressor.fit(X_train, y_train)"
   ]
  },
  {
   "cell_type": "code",
   "execution_count": 65,
   "id": "502481a2",
   "metadata": {},
   "outputs": [],
   "source": [
    "# If no errosr are produced, then the \"regressor\" found the best fitting line!\n",
    "# Let's inspect the intercept and the slope, one at a time."
   ]
  },
  {
   "cell_type": "code",
   "execution_count": 66,
   "id": "df5faacb",
   "metadata": {},
   "outputs": [
    {
     "name": "stdout",
     "output_type": "stream",
     "text": [
      "[2.82689235]\n"
     ]
    }
   ],
   "source": [
    "print(regressor.intercept_)"
   ]
  },
  {
   "cell_type": "code",
   "execution_count": 67,
   "id": "377749c6",
   "metadata": {},
   "outputs": [
    {
     "name": "stdout",
     "output_type": "stream",
     "text": [
      "[[9.68207815]]\n"
     ]
    }
   ],
   "source": [
    "print(regressor.coef_)"
   ]
  },
  {
   "cell_type": "code",
   "execution_count": 68,
   "id": "40ee1b80",
   "metadata": {},
   "outputs": [
    {
     "name": "stdout",
     "output_type": "stream",
     "text": [
      "51.237283100000006\n"
     ]
    }
   ],
   "source": [
    "# if we were to use our formula, y = ax + b, we would get:\n",
    "my_hours = 5\n",
    "score = 9.68207815 * my_hours + 2.82689235\n",
    "print(score)\n",
    "# This should evaluate to 51.2 and change.\n",
    "# Observe that the slope value shows what happens to the dependent variable whenever there \n",
    "# is an increase (or decrease) of one unit of the independent variable."
   ]
  },
  {
   "cell_type": "code",
   "execution_count": 32,
   "id": "08881cfc",
   "metadata": {},
   "outputs": [],
   "source": [
    "# Better to avoid manual calculations, let's create a function for that \n",
    "def calc(slope, intercept, hours):\n",
    "    return slope*hours+intercept"
   ]
  },
  {
   "cell_type": "code",
   "execution_count": 69,
   "id": "9ab62054",
   "metadata": {},
   "outputs": [
    {
     "name": "stdout",
     "output_type": "stream",
     "text": [
      "[[94.80663482]]\n"
     ]
    }
   ],
   "source": [
    "# Below, 9.5 is the MAX for Scores, as an example\n",
    "score = calc(regressor.coef_, regressor.intercept_, 9.5)\n",
    "print(score)"
   ]
  },
  {
   "cell_type": "code",
   "execution_count": 70,
   "id": "6bd259f7",
   "metadata": {},
   "outputs": [
    {
     "name": "stdout",
     "output_type": "stream",
     "text": [
      "[[94.80663482]]\n"
     ]
    }
   ],
   "source": [
    "# Much better, though, if we would use our model to do the prediction:\n",
    "score = regressor.predict([[9.5]]) # We are passing 9.5 in double brackets to have a 2-dimensional array\n",
    "print(score)"
   ]
  },
  {
   "cell_type": "code",
   "execution_count": 71,
   "id": "0945e9c1",
   "metadata": {},
   "outputs": [],
   "source": [
    "# Now in our array we have a score percentage estimate for each  and every hours we can think of.\n",
    "# Can we trust these estimates? Well, we split the data in 80% for training and 20% for testing.\n",
    "# To make predictions on the test data, we pass the X_test values to predict(). Let's assign the results\n",
    "# to the variable y-pred:"
   ]
  },
  {
   "cell_type": "code",
   "execution_count": 72,
   "id": "f4e2811d",
   "metadata": {},
   "outputs": [
    {
     "name": "stdout",
     "output_type": "stream",
     "text": [
      "[[83.18814104]\n",
      " [27.03208774]\n",
      " [27.03208774]\n",
      " [69.63323162]\n",
      " [59.95115347]]\n"
     ]
    }
   ],
   "source": [
    "y_pred = regressor.predict(X_test)\n",
    "print(y_pred)"
   ]
  },
  {
   "cell_type": "code",
   "execution_count": 73,
   "id": "46c941c7",
   "metadata": {},
   "outputs": [],
   "source": [
    "# y_pred now contains all the predicted values for the input values in the X_test.\n",
    "# We can now compare the actual output values for X_test with the predicted values, \n",
    "# by arranging them side by side in a dataframe structure:"
   ]
  },
  {
   "cell_type": "code",
   "execution_count": 74,
   "id": "2ac2398f",
   "metadata": {},
   "outputs": [
    {
     "name": "stdout",
     "output_type": "stream",
     "text": [
      "   Actual  Predicted\n",
      "0      81  83.188141\n",
      "1      30  27.032088\n",
      "2      21  27.032088\n",
      "3      76  69.633232\n",
      "4      62  59.951153\n"
     ]
    }
   ],
   "source": [
    "df_preds = pd.DataFrame({'Actual': y_test.squeeze(), 'Predicted': y_pred.squeeze()})\n",
    "print(df_preds)"
   ]
  },
  {
   "cell_type": "code",
   "execution_count": 75,
   "id": "07a938c8",
   "metadata": {},
   "outputs": [],
   "source": [
    "# Though our model seems not to be very precise, the predicted percentages are close to the actual ones. \n",
    "# Let's quantify the difference between the actual and predicted values to gain an objective view of how\n",
    "# it's actually performing."
   ]
  },
  {
   "cell_type": "code",
   "execution_count": 76,
   "id": "1cc1dfee",
   "metadata": {},
   "outputs": [
    {
     "name": "stdout",
     "output_type": "stream",
     "text": [
      "mae = 3.92\n",
      "mse = 18.94\n",
      "rmse = 4.35\n"
     ]
    }
   ],
   "source": [
    "### EVALUATING the Model ###\n",
    "from sklearn.metrics import mean_absolute_error, mean_squared_error\n",
    "\n",
    "mae = mean_absolute_error(y_test, y_pred) \n",
    "mse = mean_squared_error(y_test, y_pred)\n",
    "rmse = np.sqrt(mse) # Root Mean Squared Error\n",
    "print(f\"mae = {mae:.2f}\")\n",
    "print(f\"mse = {mse:.2f}\")\n",
    "print(f\"rmse = {rmse:.2f}\")"
   ]
  },
  {
   "cell_type": "code",
   "execution_count": 77,
   "id": "2444cae9",
   "metadata": {},
   "outputs": [],
   "source": [
    "# All of our errors are low - and we're missing the actual value by 4.35 at most (lower or higher),\n",
    "# which is a pretty small range considering the \"volume\" of data we have."
   ]
  },
  {
   "cell_type": "code",
   "execution_count": null,
   "id": "f72461f6",
   "metadata": {},
   "outputs": [],
   "source": []
  }
 ],
 "metadata": {
  "kernelspec": {
   "display_name": "Python 3 (ipykernel)",
   "language": "python",
   "name": "python3"
  },
  "language_info": {
   "codemirror_mode": {
    "name": "ipython",
    "version": 3
   },
   "file_extension": ".py",
   "mimetype": "text/x-python",
   "name": "python",
   "nbconvert_exporter": "python",
   "pygments_lexer": "ipython3",
   "version": "3.9.15"
  }
 },
 "nbformat": 4,
 "nbformat_minor": 5
}
